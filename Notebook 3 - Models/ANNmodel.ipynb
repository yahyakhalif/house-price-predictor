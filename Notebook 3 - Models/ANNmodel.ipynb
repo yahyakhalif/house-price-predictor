{
  "cells": [
    {
      "cell_type": "code",
      "execution_count": 33,
      "id": "2a53599d-30eb-49c1-8b62-a7410bd6cc73",
      "metadata": {
        "id": "2a53599d-30eb-49c1-8b62-a7410bd6cc73"
      },
      "outputs": [],
      "source": [
        "import numpy as np\n",
        "import pandas as pd\n",
        "import matplotlib.pyplot as plt\n",
        "import seaborn as sns\n",
        "import matplotlib.dates as mdates\n",
        "import sklearn\n"
      ]
    },
    {
      "cell_type": "code",
      "execution_count": 34,
      "id": "3598c8f6-b8c8-442e-b25d-35a379268196",
      "metadata": {
        "id": "3598c8f6-b8c8-442e-b25d-35a379268196"
      },
      "outputs": [],
      "source": [
        "from sklearn.preprocessing import LabelEncoder, StandardScaler\n",
        "from sklearn.model_selection import train_test_split, GridSearchCV\n",
        "from sklearn.base import BaseEstimator, RegressorMixin\n",
        "from sklearn.metrics import accuracy_score\n",
        "from sklearn.metrics import mean_squared_error\n",
        "from sklearn.metrics import mean_absolute_error\n",
        "from sklearn.metrics import r2_score"
      ]
    },
    {
      "cell_type": "code",
      "execution_count": null,
      "id": "d6tnuvXmylT8",
      "metadata": {
        "colab": {
          "base_uri": "https://localhost:8080/"
        },
        "id": "d6tnuvXmylT8",
        "outputId": "7eeb9225-541f-406a-ad6e-5537029cf900"
      },
      "outputs": [],
      "source": [
        "\n"
      ]
    },
    {
      "cell_type": "code",
      "execution_count": 35,
      "id": "e86fe081-4576-491d-bc50-5a69151f9fd2",
      "metadata": {
        "id": "e86fe081-4576-491d-bc50-5a69151f9fd2"
      },
      "outputs": [],
      "source": [
        "import tensorflow as tf\n",
        "from tensorflow.keras.layers import *\n",
        "from tensorflow.keras.optimizers import Nadam\n",
        "from tensorflow.keras import backend as K\n",
        "from tensorflow.keras.callbacks import EarlyStopping, ModelCheckpoint\n",
        "from tensorflow.keras import regularizers\n",
        "from tensorflow.keras.losses import MeanSquaredError\n",
        "from tensorflow.keras.metrics import mean_squared_logarithmic_error, mean_squared_error, mean_absolute_error\n",
        "from tensorflow.keras.models import Sequential\n",
        "from scikeras.wrappers import KerasRegressor"
      ]
    },
    {
      "cell_type": "code",
      "execution_count": 36,
      "id": "409e478a-9b0b-48a9-87ce-712adcd6b922",
      "metadata": {
        "id": "409e478a-9b0b-48a9-87ce-712adcd6b922"
      },
      "outputs": [],
      "source": [
        "df=pd.read_csv(\"../Datasets/analytical_table.csv\")"
      ]
    },
    {
      "cell_type": "code",
      "execution_count": 37,
      "id": "de605a80-a909-4f4e-b8f0-93a6ed72d79c",
      "metadata": {
        "colab": {
          "base_uri": "https://localhost:8080/",
          "height": 118
        },
        "id": "de605a80-a909-4f4e-b8f0-93a6ed72d79c",
        "outputId": "a5eebf1b-b779-45c7-f63e-b65479f84bee"
      },
      "outputs": [
        {
          "data": {
            "text/html": [
              "<div>\n",
              "<style scoped>\n",
              "    .dataframe tbody tr th:only-of-type {\n",
              "        vertical-align: middle;\n",
              "    }\n",
              "\n",
              "    .dataframe tbody tr th {\n",
              "        vertical-align: top;\n",
              "    }\n",
              "\n",
              "    .dataframe thead th {\n",
              "        text-align: right;\n",
              "    }\n",
              "</style>\n",
              "<table border=\"1\" class=\"dataframe\">\n",
              "  <thead>\n",
              "    <tr style=\"text-align: right;\">\n",
              "      <th></th>\n",
              "      <th>price</th>\n",
              "      <th>bedrooms</th>\n",
              "      <th>bathrooms</th>\n",
              "      <th>toilets</th>\n",
              "      <th>furnished</th>\n",
              "      <th>serviced</th>\n",
              "      <th>shared</th>\n",
              "      <th>parking</th>\n",
              "      <th>category</th>\n",
              "      <th>type</th>\n",
              "      <th>sub_type</th>\n",
              "      <th>state</th>\n",
              "      <th>locality</th>\n",
              "      <th>list_year</th>\n",
              "      <th>list_month</th>\n",
              "    </tr>\n",
              "  </thead>\n",
              "  <tbody>\n",
              "    <tr>\n",
              "      <th>0</th>\n",
              "      <td>200000.0</td>\n",
              "      <td>5</td>\n",
              "      <td>5</td>\n",
              "      <td>5.0</td>\n",
              "      <td>0</td>\n",
              "      <td>0</td>\n",
              "      <td>0</td>\n",
              "      <td>0</td>\n",
              "      <td>For Rent</td>\n",
              "      <td>House</td>\n",
              "      <td>Townhouse</td>\n",
              "      <td>Nairobi</td>\n",
              "      <td>Nairobi Central</td>\n",
              "      <td>2021</td>\n",
              "      <td>7</td>\n",
              "    </tr>\n",
              "  </tbody>\n",
              "</table>\n",
              "</div>"
            ],
            "text/plain": [
              "      price  bedrooms  bathrooms  toilets  furnished  serviced  shared  \\\n",
              "0  200000.0         5          5      5.0          0         0       0   \n",
              "\n",
              "   parking  category   type   sub_type    state         locality  list_year  \\\n",
              "0        0  For Rent  House  Townhouse  Nairobi  Nairobi Central       2021   \n",
              "\n",
              "   list_month  \n",
              "0           7  "
            ]
          },
          "execution_count": 37,
          "metadata": {},
          "output_type": "execute_result"
        }
      ],
      "source": [
        "df.head(1)"
      ]
    },
    {
      "cell_type": "code",
      "execution_count": 38,
      "id": "c6a28b0d-fee1-4497-95c9-ca8287f49fca",
      "metadata": {
        "colab": {
          "base_uri": "https://localhost:8080/"
        },
        "id": "c6a28b0d-fee1-4497-95c9-ca8287f49fca",
        "outputId": "2c60ee06-0451-48eb-fc34-925da2e3f127"
      },
      "outputs": [
        {
          "data": {
            "text/plain": [
              "(6930, 15)"
            ]
          },
          "execution_count": 38,
          "metadata": {},
          "output_type": "execute_result"
        }
      ],
      "source": [
        "df.shape"
      ]
    },
    {
      "cell_type": "code",
      "execution_count": 39,
      "id": "c765432a-b28b-493d-b406-a7db13eb0b56",
      "metadata": {
        "id": "c765432a-b28b-493d-b406-a7db13eb0b56"
      },
      "outputs": [],
      "source": [
        "df=df.loc[(df['category']=='For Rent')]"
      ]
    },
    {
      "cell_type": "code",
      "execution_count": 40,
      "id": "071eb935-9714-49d7-9f76-f62fe22919b8",
      "metadata": {
        "colab": {
          "base_uri": "https://localhost:8080/"
        },
        "id": "071eb935-9714-49d7-9f76-f62fe22919b8",
        "outputId": "0f3e3178-2429-4e20-d3b2-1bad0429f83a"
      },
      "outputs": [
        {
          "data": {
            "text/plain": [
              "(3584, 15)"
            ]
          },
          "execution_count": 40,
          "metadata": {},
          "output_type": "execute_result"
        }
      ],
      "source": [
        "df.shape"
      ]
    },
    {
      "cell_type": "code",
      "execution_count": 41,
      "id": "cfa96c53-a9e3-446e-9d71-a84a8253c970",
      "metadata": {
        "colab": {
          "base_uri": "https://localhost:8080/"
        },
        "id": "cfa96c53-a9e3-446e-9d71-a84a8253c970",
        "outputId": "a2bd596c-0481-4ebb-b775-a7e3fafd6161"
      },
      "outputs": [
        {
          "name": "stdout",
          "output_type": "stream",
          "text": [
            "<class 'pandas.core.frame.DataFrame'>\n",
            "Index: 3584 entries, 0 to 3583\n",
            "Data columns (total 15 columns):\n",
            " #   Column      Non-Null Count  Dtype  \n",
            "---  ------      --------------  -----  \n",
            " 0   price       3584 non-null   float64\n",
            " 1   bedrooms    3584 non-null   int64  \n",
            " 2   bathrooms   3584 non-null   int64  \n",
            " 3   toilets     3584 non-null   float64\n",
            " 4   furnished   3584 non-null   int64  \n",
            " 5   serviced    3584 non-null   int64  \n",
            " 6   shared      3584 non-null   int64  \n",
            " 7   parking     3584 non-null   int64  \n",
            " 8   category    3584 non-null   object \n",
            " 9   type        3584 non-null   object \n",
            " 10  sub_type    3584 non-null   object \n",
            " 11  state       3584 non-null   object \n",
            " 12  locality    3584 non-null   object \n",
            " 13  list_year   3584 non-null   int64  \n",
            " 14  list_month  3584 non-null   int64  \n",
            "dtypes: float64(2), int64(8), object(5)\n",
            "memory usage: 448.0+ KB\n"
          ]
        }
      ],
      "source": [
        "df.info()"
      ]
    },
    {
      "cell_type": "code",
      "execution_count": 42,
      "id": "13aa65ba-8405-4146-8e43-f4405b9e1ebd",
      "metadata": {
        "colab": {
          "base_uri": "https://localhost:8080/"
        },
        "id": "13aa65ba-8405-4146-8e43-f4405b9e1ebd",
        "outputId": "03eb28e8-97b5-4be9-959c-038554e70577"
      },
      "outputs": [
        {
          "data": {
            "text/plain": [
              "array(['For Rent'], dtype=object)"
            ]
          },
          "execution_count": 42,
          "metadata": {},
          "output_type": "execute_result"
        }
      ],
      "source": [
        "df.category.unique()"
      ]
    },
    {
      "cell_type": "code",
      "execution_count": 43,
      "id": "073d1979-102b-46da-98be-a7195b997770",
      "metadata": {
        "colab": {
          "base_uri": "https://localhost:8080/"
        },
        "id": "073d1979-102b-46da-98be-a7195b997770",
        "outputId": "9c50e964-3d86-48f0-8762-04b714336819"
      },
      "outputs": [
        {
          "data": {
            "text/plain": [
              "array(['House', 'Apartment'], dtype=object)"
            ]
          },
          "execution_count": 43,
          "metadata": {},
          "output_type": "execute_result"
        }
      ],
      "source": [
        "df.type.unique()"
      ]
    },
    {
      "cell_type": "code",
      "execution_count": 44,
      "id": "1260c12a-0ba9-407d-9202-6e09e285c5ad",
      "metadata": {
        "colab": {
          "base_uri": "https://localhost:8080/"
        },
        "id": "1260c12a-0ba9-407d-9202-6e09e285c5ad",
        "outputId": "0bed7ca9-d463-42bb-a3c3-9d0627d2eb30"
      },
      "outputs": [
        {
          "data": {
            "text/plain": [
              "array(['Townhouse', 'Missing', 'Detached Duplex', 'Detached Bungalow',\n",
              "       'Mini Flat', 'Semi-detached Duplex', 'Terraced Bungalow',\n",
              "       'Bedsitter (Single Room)', 'Block of Flats',\n",
              "       'Semi-detached Bungalow', 'Terraced Duplex'], dtype=object)"
            ]
          },
          "execution_count": 44,
          "metadata": {},
          "output_type": "execute_result"
        }
      ],
      "source": [
        "df.sub_type.unique()"
      ]
    },
    {
      "cell_type": "code",
      "execution_count": 45,
      "id": "281d8529-39ca-4e98-8bca-661857f90e21",
      "metadata": {
        "colab": {
          "base_uri": "https://localhost:8080/"
        },
        "id": "281d8529-39ca-4e98-8bca-661857f90e21",
        "outputId": "b425be98-9b3c-495d-cd1f-726f8ece8d97"
      },
      "outputs": [
        {
          "data": {
            "text/plain": [
              "array(['Nairobi', 'Kiambu', 'Kajiado', 'Mombasa'], dtype=object)"
            ]
          },
          "execution_count": 45,
          "metadata": {},
          "output_type": "execute_result"
        }
      ],
      "source": [
        "df.state.unique()"
      ]
    },
    {
      "cell_type": "code",
      "execution_count": 46,
      "id": "498231e4-704c-42f7-b9b8-5be0c803bcc2",
      "metadata": {
        "colab": {
          "base_uri": "https://localhost:8080/"
        },
        "id": "498231e4-704c-42f7-b9b8-5be0c803bcc2",
        "outputId": "db4e796c-a7ee-41c5-dc0e-7f09b3d1735b"
      },
      "outputs": [
        {
          "data": {
            "text/plain": [
              "array(['Nairobi Central', 'Parklands', 'Lavington', 'Westlands',\n",
              "       'Kileleshwa', 'Kitisuru', 'Kabete', 'Kilimani', 'Karen',\n",
              "       'Kitengela', 'Mugumo-Ini (Langata)', 'Thika', 'Ruiru', 'Kasarani',\n",
              "       'Kikuyu', 'Juja', 'Nairobi West', 'Ngong', 'Nyali',\n",
              "       'Ongata Rongai', 'Bamburi', 'Embakasi'], dtype=object)"
            ]
          },
          "execution_count": 46,
          "metadata": {},
          "output_type": "execute_result"
        }
      ],
      "source": [
        "df.locality.unique()"
      ]
    },
    {
      "cell_type": "code",
      "execution_count": 47,
      "id": "2afa420a-7ea8-4476-bde5-aac0ad0053b5",
      "metadata": {
        "colab": {
          "base_uri": "https://localhost:8080/"
        },
        "id": "2afa420a-7ea8-4476-bde5-aac0ad0053b5",
        "outputId": "69c0be4e-5422-4aa2-a577-a7b2538f475f"
      },
      "outputs": [],
      "source": [
        "lb_encoder = LabelEncoder()\n",
        "df['category'] = lb_encoder.fit_transform(df['category'])\n",
        "df['type'] = lb_encoder.fit_transform(df['type'])\n",
        "df['sub_type'] = lb_encoder.fit_transform(df['sub_type'])\n",
        "df['state'] = lb_encoder.fit_transform(df['state'])\n",
        "df['locality'] = lb_encoder.fit_transform(df['locality'])"
      ]
    },
    {
      "cell_type": "code",
      "execution_count": 48,
      "id": "9063aa3b-21aa-454a-91b7-2e495a830fba",
      "metadata": {
        "colab": {
          "base_uri": "https://localhost:8080/"
        },
        "id": "9063aa3b-21aa-454a-91b7-2e495a830fba",
        "outputId": "01f71a2b-8cc3-49c2-bcb1-4e12752ec78d"
      },
      "outputs": [
        {
          "name": "stdout",
          "output_type": "stream",
          "text": [
            "<class 'pandas.core.frame.DataFrame'>\n",
            "Index: 3584 entries, 0 to 3583\n",
            "Data columns (total 15 columns):\n",
            " #   Column      Non-Null Count  Dtype  \n",
            "---  ------      --------------  -----  \n",
            " 0   price       3584 non-null   float64\n",
            " 1   bedrooms    3584 non-null   int64  \n",
            " 2   bathrooms   3584 non-null   int64  \n",
            " 3   toilets     3584 non-null   float64\n",
            " 4   furnished   3584 non-null   int64  \n",
            " 5   serviced    3584 non-null   int64  \n",
            " 6   shared      3584 non-null   int64  \n",
            " 7   parking     3584 non-null   int64  \n",
            " 8   category    3584 non-null   int32  \n",
            " 9   type        3584 non-null   int32  \n",
            " 10  sub_type    3584 non-null   int32  \n",
            " 11  state       3584 non-null   int32  \n",
            " 12  locality    3584 non-null   int32  \n",
            " 13  list_year   3584 non-null   int64  \n",
            " 14  list_month  3584 non-null   int64  \n",
            "dtypes: float64(2), int32(5), int64(8)\n",
            "memory usage: 378.0 KB\n"
          ]
        }
      ],
      "source": [
        "df.info()"
      ]
    },
    {
      "cell_type": "code",
      "execution_count": 49,
      "id": "a82c2450-0ad1-4e64-8d47-322bc6425911",
      "metadata": {
        "id": "a82c2450-0ad1-4e64-8d47-322bc6425911"
      },
      "outputs": [],
      "source": [
        "# Split the labels and features in original dataset\n",
        "features = df.drop(\"price\", axis=1)\n",
        "labels = df[\"price\"].copy()"
      ]
    },
    {
      "cell_type": "code",
      "execution_count": 50,
      "id": "7137fc9d-c704-4284-8ac3-b2c27cf7d25d",
      "metadata": {
        "colab": {
          "base_uri": "https://localhost:8080/",
          "height": 443
        },
        "id": "7137fc9d-c704-4284-8ac3-b2c27cf7d25d",
        "outputId": "4fbf64d7-2617-4db0-bf38-5d238064b133"
      },
      "outputs": [
        {
          "data": {
            "text/html": [
              "<div>\n",
              "<style scoped>\n",
              "    .dataframe tbody tr th:only-of-type {\n",
              "        vertical-align: middle;\n",
              "    }\n",
              "\n",
              "    .dataframe tbody tr th {\n",
              "        vertical-align: top;\n",
              "    }\n",
              "\n",
              "    .dataframe thead th {\n",
              "        text-align: right;\n",
              "    }\n",
              "</style>\n",
              "<table border=\"1\" class=\"dataframe\">\n",
              "  <thead>\n",
              "    <tr style=\"text-align: right;\">\n",
              "      <th></th>\n",
              "      <th>bedrooms</th>\n",
              "      <th>bathrooms</th>\n",
              "      <th>toilets</th>\n",
              "      <th>furnished</th>\n",
              "      <th>serviced</th>\n",
              "      <th>shared</th>\n",
              "      <th>parking</th>\n",
              "      <th>category</th>\n",
              "      <th>type</th>\n",
              "      <th>sub_type</th>\n",
              "      <th>state</th>\n",
              "      <th>locality</th>\n",
              "      <th>list_year</th>\n",
              "      <th>list_month</th>\n",
              "    </tr>\n",
              "  </thead>\n",
              "  <tbody>\n",
              "    <tr>\n",
              "      <th>0</th>\n",
              "      <td>1.463636</td>\n",
              "      <td>1.469917</td>\n",
              "      <td>5.0</td>\n",
              "      <td>-0.351942</td>\n",
              "      <td>-0.317391</td>\n",
              "      <td>-0.120147</td>\n",
              "      <td>-0.785696</td>\n",
              "      <td>0</td>\n",
              "      <td>1</td>\n",
              "      <td>10</td>\n",
              "      <td>3</td>\n",
              "      <td>13</td>\n",
              "      <td>-1.147842</td>\n",
              "      <td>0.166087</td>\n",
              "    </tr>\n",
              "    <tr>\n",
              "      <th>1</th>\n",
              "      <td>0.130725</td>\n",
              "      <td>0.188277</td>\n",
              "      <td>3.0</td>\n",
              "      <td>-0.351942</td>\n",
              "      <td>-0.317391</td>\n",
              "      <td>-0.120147</td>\n",
              "      <td>-0.785696</td>\n",
              "      <td>0</td>\n",
              "      <td>0</td>\n",
              "      <td>5</td>\n",
              "      <td>3</td>\n",
              "      <td>18</td>\n",
              "      <td>-1.147842</td>\n",
              "      <td>0.166087</td>\n",
              "    </tr>\n",
              "    <tr>\n",
              "      <th>2</th>\n",
              "      <td>0.130725</td>\n",
              "      <td>0.188277</td>\n",
              "      <td>3.0</td>\n",
              "      <td>-0.351942</td>\n",
              "      <td>-0.317391</td>\n",
              "      <td>-0.120147</td>\n",
              "      <td>-0.785696</td>\n",
              "      <td>0</td>\n",
              "      <td>0</td>\n",
              "      <td>5</td>\n",
              "      <td>3</td>\n",
              "      <td>11</td>\n",
              "      <td>-1.147842</td>\n",
              "      <td>0.166087</td>\n",
              "    </tr>\n",
              "    <tr>\n",
              "      <th>3</th>\n",
              "      <td>-0.535731</td>\n",
              "      <td>-0.452543</td>\n",
              "      <td>2.0</td>\n",
              "      <td>2.841376</td>\n",
              "      <td>-0.317391</td>\n",
              "      <td>-0.120147</td>\n",
              "      <td>-0.785696</td>\n",
              "      <td>0</td>\n",
              "      <td>0</td>\n",
              "      <td>5</td>\n",
              "      <td>3</td>\n",
              "      <td>21</td>\n",
              "      <td>-1.147842</td>\n",
              "      <td>0.166087</td>\n",
              "    </tr>\n",
              "    <tr>\n",
              "      <th>4</th>\n",
              "      <td>0.797181</td>\n",
              "      <td>0.829097</td>\n",
              "      <td>4.0</td>\n",
              "      <td>-0.351942</td>\n",
              "      <td>-0.317391</td>\n",
              "      <td>-0.120147</td>\n",
              "      <td>-0.785696</td>\n",
              "      <td>0</td>\n",
              "      <td>1</td>\n",
              "      <td>10</td>\n",
              "      <td>3</td>\n",
              "      <td>11</td>\n",
              "      <td>-1.147842</td>\n",
              "      <td>0.166087</td>\n",
              "    </tr>\n",
              "    <tr>\n",
              "      <th>...</th>\n",
              "      <td>...</td>\n",
              "      <td>...</td>\n",
              "      <td>...</td>\n",
              "      <td>...</td>\n",
              "      <td>...</td>\n",
              "      <td>...</td>\n",
              "      <td>...</td>\n",
              "      <td>...</td>\n",
              "      <td>...</td>\n",
              "      <td>...</td>\n",
              "      <td>...</td>\n",
              "      <td>...</td>\n",
              "      <td>...</td>\n",
              "      <td>...</td>\n",
              "    </tr>\n",
              "    <tr>\n",
              "      <th>3579</th>\n",
              "      <td>0.130725</td>\n",
              "      <td>0.188277</td>\n",
              "      <td>3.0</td>\n",
              "      <td>-0.351942</td>\n",
              "      <td>-0.317391</td>\n",
              "      <td>-0.120147</td>\n",
              "      <td>0.645528</td>\n",
              "      <td>0</td>\n",
              "      <td>1</td>\n",
              "      <td>3</td>\n",
              "      <td>3</td>\n",
              "      <td>12</td>\n",
              "      <td>1.219170</td>\n",
              "      <td>-0.162059</td>\n",
              "    </tr>\n",
              "    <tr>\n",
              "      <th>3580</th>\n",
              "      <td>0.130725</td>\n",
              "      <td>0.188277</td>\n",
              "      <td>3.0</td>\n",
              "      <td>-0.351942</td>\n",
              "      <td>-0.317391</td>\n",
              "      <td>-0.120147</td>\n",
              "      <td>0.645528</td>\n",
              "      <td>0</td>\n",
              "      <td>1</td>\n",
              "      <td>2</td>\n",
              "      <td>3</td>\n",
              "      <td>1</td>\n",
              "      <td>1.219170</td>\n",
              "      <td>-0.162059</td>\n",
              "    </tr>\n",
              "    <tr>\n",
              "      <th>3581</th>\n",
              "      <td>-0.535731</td>\n",
              "      <td>-0.452543</td>\n",
              "      <td>2.0</td>\n",
              "      <td>-0.351942</td>\n",
              "      <td>-0.317391</td>\n",
              "      <td>-0.120147</td>\n",
              "      <td>0.645528</td>\n",
              "      <td>0</td>\n",
              "      <td>1</td>\n",
              "      <td>6</td>\n",
              "      <td>0</td>\n",
              "      <td>15</td>\n",
              "      <td>1.219170</td>\n",
              "      <td>-0.162059</td>\n",
              "    </tr>\n",
              "    <tr>\n",
              "      <th>3582</th>\n",
              "      <td>-1.202186</td>\n",
              "      <td>-1.093363</td>\n",
              "      <td>1.0</td>\n",
              "      <td>-0.351942</td>\n",
              "      <td>-0.317391</td>\n",
              "      <td>-0.120147</td>\n",
              "      <td>-0.070084</td>\n",
              "      <td>0</td>\n",
              "      <td>1</td>\n",
              "      <td>6</td>\n",
              "      <td>3</td>\n",
              "      <td>5</td>\n",
              "      <td>1.219170</td>\n",
              "      <td>-0.162059</td>\n",
              "    </tr>\n",
              "    <tr>\n",
              "      <th>3583</th>\n",
              "      <td>0.797181</td>\n",
              "      <td>0.829097</td>\n",
              "      <td>4.0</td>\n",
              "      <td>-0.351942</td>\n",
              "      <td>-0.317391</td>\n",
              "      <td>-0.120147</td>\n",
              "      <td>2.076753</td>\n",
              "      <td>0</td>\n",
              "      <td>1</td>\n",
              "      <td>2</td>\n",
              "      <td>0</td>\n",
              "      <td>17</td>\n",
              "      <td>1.219170</td>\n",
              "      <td>-0.162059</td>\n",
              "    </tr>\n",
              "  </tbody>\n",
              "</table>\n",
              "<p>3584 rows × 14 columns</p>\n",
              "</div>"
            ],
            "text/plain": [
              "      bedrooms  bathrooms  toilets  furnished  serviced    shared   parking  \\\n",
              "0     1.463636   1.469917      5.0  -0.351942 -0.317391 -0.120147 -0.785696   \n",
              "1     0.130725   0.188277      3.0  -0.351942 -0.317391 -0.120147 -0.785696   \n",
              "2     0.130725   0.188277      3.0  -0.351942 -0.317391 -0.120147 -0.785696   \n",
              "3    -0.535731  -0.452543      2.0   2.841376 -0.317391 -0.120147 -0.785696   \n",
              "4     0.797181   0.829097      4.0  -0.351942 -0.317391 -0.120147 -0.785696   \n",
              "...        ...        ...      ...        ...       ...       ...       ...   \n",
              "3579  0.130725   0.188277      3.0  -0.351942 -0.317391 -0.120147  0.645528   \n",
              "3580  0.130725   0.188277      3.0  -0.351942 -0.317391 -0.120147  0.645528   \n",
              "3581 -0.535731  -0.452543      2.0  -0.351942 -0.317391 -0.120147  0.645528   \n",
              "3582 -1.202186  -1.093363      1.0  -0.351942 -0.317391 -0.120147 -0.070084   \n",
              "3583  0.797181   0.829097      4.0  -0.351942 -0.317391 -0.120147  2.076753   \n",
              "\n",
              "      category  type  sub_type  state  locality  list_year  list_month  \n",
              "0            0     1        10      3        13  -1.147842    0.166087  \n",
              "1            0     0         5      3        18  -1.147842    0.166087  \n",
              "2            0     0         5      3        11  -1.147842    0.166087  \n",
              "3            0     0         5      3        21  -1.147842    0.166087  \n",
              "4            0     1        10      3        11  -1.147842    0.166087  \n",
              "...        ...   ...       ...    ...       ...        ...         ...  \n",
              "3579         0     1         3      3        12   1.219170   -0.162059  \n",
              "3580         0     1         2      3         1   1.219170   -0.162059  \n",
              "3581         0     1         6      0        15   1.219170   -0.162059  \n",
              "3582         0     1         6      3         5   1.219170   -0.162059  \n",
              "3583         0     1         2      0        17   1.219170   -0.162059  \n",
              "\n",
              "[3584 rows x 14 columns]"
            ]
          },
          "metadata": {},
          "output_type": "display_data"
        }
      ],
      "source": [
        "for column in features:\n",
        "    if features[column].dtypes == 'int64':\n",
        "        features[column] = StandardScaler().fit_transform(features[column].values.reshape(-1, 1))\n",
        "display(features)"
      ]
    },
    {
      "cell_type": "code",
      "execution_count": 51,
      "id": "87a47c1d-daca-4411-8706-edf1c419b39a",
      "metadata": {
        "colab": {
          "base_uri": "https://localhost:8080/",
          "height": 443
        },
        "id": "87a47c1d-daca-4411-8706-edf1c419b39a",
        "outputId": "f4c89e91-a989-4a3b-e347-f3394256b67b"
      },
      "outputs": [
        {
          "data": {
            "text/html": [
              "<div>\n",
              "<style scoped>\n",
              "    .dataframe tbody tr th:only-of-type {\n",
              "        vertical-align: middle;\n",
              "    }\n",
              "\n",
              "    .dataframe tbody tr th {\n",
              "        vertical-align: top;\n",
              "    }\n",
              "\n",
              "    .dataframe thead th {\n",
              "        text-align: right;\n",
              "    }\n",
              "</style>\n",
              "<table border=\"1\" class=\"dataframe\">\n",
              "  <thead>\n",
              "    <tr style=\"text-align: right;\">\n",
              "      <th></th>\n",
              "      <th>bedrooms</th>\n",
              "      <th>bathrooms</th>\n",
              "      <th>toilets</th>\n",
              "      <th>furnished</th>\n",
              "      <th>serviced</th>\n",
              "      <th>shared</th>\n",
              "      <th>parking</th>\n",
              "      <th>category</th>\n",
              "      <th>type</th>\n",
              "      <th>sub_type</th>\n",
              "      <th>state</th>\n",
              "      <th>locality</th>\n",
              "      <th>list_year</th>\n",
              "      <th>list_month</th>\n",
              "    </tr>\n",
              "  </thead>\n",
              "  <tbody>\n",
              "    <tr>\n",
              "      <th>0</th>\n",
              "      <td>1.463636</td>\n",
              "      <td>1.469917</td>\n",
              "      <td>1.873415</td>\n",
              "      <td>-0.351942</td>\n",
              "      <td>-0.317391</td>\n",
              "      <td>-0.120147</td>\n",
              "      <td>-0.785696</td>\n",
              "      <td>0</td>\n",
              "      <td>1</td>\n",
              "      <td>10</td>\n",
              "      <td>3</td>\n",
              "      <td>13</td>\n",
              "      <td>-1.147842</td>\n",
              "      <td>0.166087</td>\n",
              "    </tr>\n",
              "    <tr>\n",
              "      <th>1</th>\n",
              "      <td>0.130725</td>\n",
              "      <td>0.188277</td>\n",
              "      <td>0.796194</td>\n",
              "      <td>-0.351942</td>\n",
              "      <td>-0.317391</td>\n",
              "      <td>-0.120147</td>\n",
              "      <td>-0.785696</td>\n",
              "      <td>0</td>\n",
              "      <td>0</td>\n",
              "      <td>5</td>\n",
              "      <td>3</td>\n",
              "      <td>18</td>\n",
              "      <td>-1.147842</td>\n",
              "      <td>0.166087</td>\n",
              "    </tr>\n",
              "    <tr>\n",
              "      <th>2</th>\n",
              "      <td>0.130725</td>\n",
              "      <td>0.188277</td>\n",
              "      <td>0.796194</td>\n",
              "      <td>-0.351942</td>\n",
              "      <td>-0.317391</td>\n",
              "      <td>-0.120147</td>\n",
              "      <td>-0.785696</td>\n",
              "      <td>0</td>\n",
              "      <td>0</td>\n",
              "      <td>5</td>\n",
              "      <td>3</td>\n",
              "      <td>11</td>\n",
              "      <td>-1.147842</td>\n",
              "      <td>0.166087</td>\n",
              "    </tr>\n",
              "    <tr>\n",
              "      <th>3</th>\n",
              "      <td>-0.535731</td>\n",
              "      <td>-0.452543</td>\n",
              "      <td>0.257583</td>\n",
              "      <td>2.841376</td>\n",
              "      <td>-0.317391</td>\n",
              "      <td>-0.120147</td>\n",
              "      <td>-0.785696</td>\n",
              "      <td>0</td>\n",
              "      <td>0</td>\n",
              "      <td>5</td>\n",
              "      <td>3</td>\n",
              "      <td>21</td>\n",
              "      <td>-1.147842</td>\n",
              "      <td>0.166087</td>\n",
              "    </tr>\n",
              "    <tr>\n",
              "      <th>4</th>\n",
              "      <td>0.797181</td>\n",
              "      <td>0.829097</td>\n",
              "      <td>1.334804</td>\n",
              "      <td>-0.351942</td>\n",
              "      <td>-0.317391</td>\n",
              "      <td>-0.120147</td>\n",
              "      <td>-0.785696</td>\n",
              "      <td>0</td>\n",
              "      <td>1</td>\n",
              "      <td>10</td>\n",
              "      <td>3</td>\n",
              "      <td>11</td>\n",
              "      <td>-1.147842</td>\n",
              "      <td>0.166087</td>\n",
              "    </tr>\n",
              "    <tr>\n",
              "      <th>...</th>\n",
              "      <td>...</td>\n",
              "      <td>...</td>\n",
              "      <td>...</td>\n",
              "      <td>...</td>\n",
              "      <td>...</td>\n",
              "      <td>...</td>\n",
              "      <td>...</td>\n",
              "      <td>...</td>\n",
              "      <td>...</td>\n",
              "      <td>...</td>\n",
              "      <td>...</td>\n",
              "      <td>...</td>\n",
              "      <td>...</td>\n",
              "      <td>...</td>\n",
              "    </tr>\n",
              "    <tr>\n",
              "      <th>3579</th>\n",
              "      <td>0.130725</td>\n",
              "      <td>0.188277</td>\n",
              "      <td>0.796194</td>\n",
              "      <td>-0.351942</td>\n",
              "      <td>-0.317391</td>\n",
              "      <td>-0.120147</td>\n",
              "      <td>0.645528</td>\n",
              "      <td>0</td>\n",
              "      <td>1</td>\n",
              "      <td>3</td>\n",
              "      <td>3</td>\n",
              "      <td>12</td>\n",
              "      <td>1.219170</td>\n",
              "      <td>-0.162059</td>\n",
              "    </tr>\n",
              "    <tr>\n",
              "      <th>3580</th>\n",
              "      <td>0.130725</td>\n",
              "      <td>0.188277</td>\n",
              "      <td>0.796194</td>\n",
              "      <td>-0.351942</td>\n",
              "      <td>-0.317391</td>\n",
              "      <td>-0.120147</td>\n",
              "      <td>0.645528</td>\n",
              "      <td>0</td>\n",
              "      <td>1</td>\n",
              "      <td>2</td>\n",
              "      <td>3</td>\n",
              "      <td>1</td>\n",
              "      <td>1.219170</td>\n",
              "      <td>-0.162059</td>\n",
              "    </tr>\n",
              "    <tr>\n",
              "      <th>3581</th>\n",
              "      <td>-0.535731</td>\n",
              "      <td>-0.452543</td>\n",
              "      <td>0.257583</td>\n",
              "      <td>-0.351942</td>\n",
              "      <td>-0.317391</td>\n",
              "      <td>-0.120147</td>\n",
              "      <td>0.645528</td>\n",
              "      <td>0</td>\n",
              "      <td>1</td>\n",
              "      <td>6</td>\n",
              "      <td>0</td>\n",
              "      <td>15</td>\n",
              "      <td>1.219170</td>\n",
              "      <td>-0.162059</td>\n",
              "    </tr>\n",
              "    <tr>\n",
              "      <th>3582</th>\n",
              "      <td>-1.202186</td>\n",
              "      <td>-1.093363</td>\n",
              "      <td>-0.281027</td>\n",
              "      <td>-0.351942</td>\n",
              "      <td>-0.317391</td>\n",
              "      <td>-0.120147</td>\n",
              "      <td>-0.070084</td>\n",
              "      <td>0</td>\n",
              "      <td>1</td>\n",
              "      <td>6</td>\n",
              "      <td>3</td>\n",
              "      <td>5</td>\n",
              "      <td>1.219170</td>\n",
              "      <td>-0.162059</td>\n",
              "    </tr>\n",
              "    <tr>\n",
              "      <th>3583</th>\n",
              "      <td>0.797181</td>\n",
              "      <td>0.829097</td>\n",
              "      <td>1.334804</td>\n",
              "      <td>-0.351942</td>\n",
              "      <td>-0.317391</td>\n",
              "      <td>-0.120147</td>\n",
              "      <td>2.076753</td>\n",
              "      <td>0</td>\n",
              "      <td>1</td>\n",
              "      <td>2</td>\n",
              "      <td>0</td>\n",
              "      <td>17</td>\n",
              "      <td>1.219170</td>\n",
              "      <td>-0.162059</td>\n",
              "    </tr>\n",
              "  </tbody>\n",
              "</table>\n",
              "<p>3584 rows × 14 columns</p>\n",
              "</div>"
            ],
            "text/plain": [
              "      bedrooms  bathrooms   toilets  furnished  serviced    shared   parking  \\\n",
              "0     1.463636   1.469917  1.873415  -0.351942 -0.317391 -0.120147 -0.785696   \n",
              "1     0.130725   0.188277  0.796194  -0.351942 -0.317391 -0.120147 -0.785696   \n",
              "2     0.130725   0.188277  0.796194  -0.351942 -0.317391 -0.120147 -0.785696   \n",
              "3    -0.535731  -0.452543  0.257583   2.841376 -0.317391 -0.120147 -0.785696   \n",
              "4     0.797181   0.829097  1.334804  -0.351942 -0.317391 -0.120147 -0.785696   \n",
              "...        ...        ...       ...        ...       ...       ...       ...   \n",
              "3579  0.130725   0.188277  0.796194  -0.351942 -0.317391 -0.120147  0.645528   \n",
              "3580  0.130725   0.188277  0.796194  -0.351942 -0.317391 -0.120147  0.645528   \n",
              "3581 -0.535731  -0.452543  0.257583  -0.351942 -0.317391 -0.120147  0.645528   \n",
              "3582 -1.202186  -1.093363 -0.281027  -0.351942 -0.317391 -0.120147 -0.070084   \n",
              "3583  0.797181   0.829097  1.334804  -0.351942 -0.317391 -0.120147  2.076753   \n",
              "\n",
              "      category  type  sub_type  state  locality  list_year  list_month  \n",
              "0            0     1        10      3        13  -1.147842    0.166087  \n",
              "1            0     0         5      3        18  -1.147842    0.166087  \n",
              "2            0     0         5      3        11  -1.147842    0.166087  \n",
              "3            0     0         5      3        21  -1.147842    0.166087  \n",
              "4            0     1        10      3        11  -1.147842    0.166087  \n",
              "...        ...   ...       ...    ...       ...        ...         ...  \n",
              "3579         0     1         3      3        12   1.219170   -0.162059  \n",
              "3580         0     1         2      3         1   1.219170   -0.162059  \n",
              "3581         0     1         6      0        15   1.219170   -0.162059  \n",
              "3582         0     1         6      3         5   1.219170   -0.162059  \n",
              "3583         0     1         2      0        17   1.219170   -0.162059  \n",
              "\n",
              "[3584 rows x 14 columns]"
            ]
          },
          "metadata": {},
          "output_type": "display_data"
        }
      ],
      "source": [
        "for column in features:\n",
        "    if features[column].dtypes == 'float64':\n",
        "        features[column] = StandardScaler().fit_transform(features[column].values.reshape(-1, 1))\n",
        "display(features)"
      ]
    },
    {
      "cell_type": "code",
      "execution_count": 52,
      "id": "1256d5df-4202-4969-8cb7-f4bdb3f50105",
      "metadata": {
        "colab": {
          "base_uri": "https://localhost:8080/",
          "height": 443
        },
        "id": "1256d5df-4202-4969-8cb7-f4bdb3f50105",
        "outputId": "3861db8b-8388-41ba-ee15-4b1eeaab4b06"
      },
      "outputs": [
        {
          "data": {
            "text/html": [
              "<div>\n",
              "<style scoped>\n",
              "    .dataframe tbody tr th:only-of-type {\n",
              "        vertical-align: middle;\n",
              "    }\n",
              "\n",
              "    .dataframe tbody tr th {\n",
              "        vertical-align: top;\n",
              "    }\n",
              "\n",
              "    .dataframe thead th {\n",
              "        text-align: right;\n",
              "    }\n",
              "</style>\n",
              "<table border=\"1\" class=\"dataframe\">\n",
              "  <thead>\n",
              "    <tr style=\"text-align: right;\">\n",
              "      <th></th>\n",
              "      <th>bedrooms</th>\n",
              "      <th>bathrooms</th>\n",
              "      <th>toilets</th>\n",
              "      <th>furnished</th>\n",
              "      <th>serviced</th>\n",
              "      <th>shared</th>\n",
              "      <th>parking</th>\n",
              "      <th>category</th>\n",
              "      <th>type</th>\n",
              "      <th>sub_type</th>\n",
              "      <th>state</th>\n",
              "      <th>locality</th>\n",
              "      <th>list_year</th>\n",
              "      <th>list_month</th>\n",
              "    </tr>\n",
              "  </thead>\n",
              "  <tbody>\n",
              "    <tr>\n",
              "      <th>0</th>\n",
              "      <td>1.463636</td>\n",
              "      <td>1.469917</td>\n",
              "      <td>1.873415</td>\n",
              "      <td>-0.351942</td>\n",
              "      <td>-0.317391</td>\n",
              "      <td>-0.120147</td>\n",
              "      <td>-0.785696</td>\n",
              "      <td>0.0</td>\n",
              "      <td>1.104172</td>\n",
              "      <td>2.414852</td>\n",
              "      <td>0.507041</td>\n",
              "      <td>0.035731</td>\n",
              "      <td>-1.147842</td>\n",
              "      <td>0.166087</td>\n",
              "    </tr>\n",
              "    <tr>\n",
              "      <th>1</th>\n",
              "      <td>0.130725</td>\n",
              "      <td>0.188277</td>\n",
              "      <td>0.796194</td>\n",
              "      <td>-0.351942</td>\n",
              "      <td>-0.317391</td>\n",
              "      <td>-0.120147</td>\n",
              "      <td>-0.785696</td>\n",
              "      <td>0.0</td>\n",
              "      <td>-0.905656</td>\n",
              "      <td>-0.119654</td>\n",
              "      <td>0.507041</td>\n",
              "      <td>0.787255</td>\n",
              "      <td>-1.147842</td>\n",
              "      <td>0.166087</td>\n",
              "    </tr>\n",
              "    <tr>\n",
              "      <th>2</th>\n",
              "      <td>0.130725</td>\n",
              "      <td>0.188277</td>\n",
              "      <td>0.796194</td>\n",
              "      <td>-0.351942</td>\n",
              "      <td>-0.317391</td>\n",
              "      <td>-0.120147</td>\n",
              "      <td>-0.785696</td>\n",
              "      <td>0.0</td>\n",
              "      <td>-0.905656</td>\n",
              "      <td>-0.119654</td>\n",
              "      <td>0.507041</td>\n",
              "      <td>-0.264879</td>\n",
              "      <td>-1.147842</td>\n",
              "      <td>0.166087</td>\n",
              "    </tr>\n",
              "    <tr>\n",
              "      <th>3</th>\n",
              "      <td>-0.535731</td>\n",
              "      <td>-0.452543</td>\n",
              "      <td>0.257583</td>\n",
              "      <td>2.841376</td>\n",
              "      <td>-0.317391</td>\n",
              "      <td>-0.120147</td>\n",
              "      <td>-0.785696</td>\n",
              "      <td>0.0</td>\n",
              "      <td>-0.905656</td>\n",
              "      <td>-0.119654</td>\n",
              "      <td>0.507041</td>\n",
              "      <td>1.238170</td>\n",
              "      <td>-1.147842</td>\n",
              "      <td>0.166087</td>\n",
              "    </tr>\n",
              "    <tr>\n",
              "      <th>4</th>\n",
              "      <td>0.797181</td>\n",
              "      <td>0.829097</td>\n",
              "      <td>1.334804</td>\n",
              "      <td>-0.351942</td>\n",
              "      <td>-0.317391</td>\n",
              "      <td>-0.120147</td>\n",
              "      <td>-0.785696</td>\n",
              "      <td>0.0</td>\n",
              "      <td>1.104172</td>\n",
              "      <td>2.414852</td>\n",
              "      <td>0.507041</td>\n",
              "      <td>-0.264879</td>\n",
              "      <td>-1.147842</td>\n",
              "      <td>0.166087</td>\n",
              "    </tr>\n",
              "    <tr>\n",
              "      <th>...</th>\n",
              "      <td>...</td>\n",
              "      <td>...</td>\n",
              "      <td>...</td>\n",
              "      <td>...</td>\n",
              "      <td>...</td>\n",
              "      <td>...</td>\n",
              "      <td>...</td>\n",
              "      <td>...</td>\n",
              "      <td>...</td>\n",
              "      <td>...</td>\n",
              "      <td>...</td>\n",
              "      <td>...</td>\n",
              "      <td>...</td>\n",
              "      <td>...</td>\n",
              "    </tr>\n",
              "    <tr>\n",
              "      <th>3579</th>\n",
              "      <td>0.130725</td>\n",
              "      <td>0.188277</td>\n",
              "      <td>0.796194</td>\n",
              "      <td>-0.351942</td>\n",
              "      <td>-0.317391</td>\n",
              "      <td>-0.120147</td>\n",
              "      <td>0.645528</td>\n",
              "      <td>0.0</td>\n",
              "      <td>1.104172</td>\n",
              "      <td>-1.133456</td>\n",
              "      <td>0.507041</td>\n",
              "      <td>-0.114574</td>\n",
              "      <td>1.219170</td>\n",
              "      <td>-0.162059</td>\n",
              "    </tr>\n",
              "    <tr>\n",
              "      <th>3580</th>\n",
              "      <td>0.130725</td>\n",
              "      <td>0.188277</td>\n",
              "      <td>0.796194</td>\n",
              "      <td>-0.351942</td>\n",
              "      <td>-0.317391</td>\n",
              "      <td>-0.120147</td>\n",
              "      <td>0.645528</td>\n",
              "      <td>0.0</td>\n",
              "      <td>1.104172</td>\n",
              "      <td>-1.640357</td>\n",
              "      <td>0.507041</td>\n",
              "      <td>-1.767927</td>\n",
              "      <td>1.219170</td>\n",
              "      <td>-0.162059</td>\n",
              "    </tr>\n",
              "    <tr>\n",
              "      <th>3581</th>\n",
              "      <td>-0.535731</td>\n",
              "      <td>-0.452543</td>\n",
              "      <td>0.257583</td>\n",
              "      <td>-0.351942</td>\n",
              "      <td>-0.317391</td>\n",
              "      <td>-0.120147</td>\n",
              "      <td>0.645528</td>\n",
              "      <td>0.0</td>\n",
              "      <td>1.104172</td>\n",
              "      <td>0.387248</td>\n",
              "      <td>-3.039936</td>\n",
              "      <td>0.336341</td>\n",
              "      <td>1.219170</td>\n",
              "      <td>-0.162059</td>\n",
              "    </tr>\n",
              "    <tr>\n",
              "      <th>3582</th>\n",
              "      <td>-1.202186</td>\n",
              "      <td>-1.093363</td>\n",
              "      <td>-0.281027</td>\n",
              "      <td>-0.351942</td>\n",
              "      <td>-0.317391</td>\n",
              "      <td>-0.120147</td>\n",
              "      <td>-0.070084</td>\n",
              "      <td>0.0</td>\n",
              "      <td>1.104172</td>\n",
              "      <td>0.387248</td>\n",
              "      <td>0.507041</td>\n",
              "      <td>-1.166708</td>\n",
              "      <td>1.219170</td>\n",
              "      <td>-0.162059</td>\n",
              "    </tr>\n",
              "    <tr>\n",
              "      <th>3583</th>\n",
              "      <td>0.797181</td>\n",
              "      <td>0.829097</td>\n",
              "      <td>1.334804</td>\n",
              "      <td>-0.351942</td>\n",
              "      <td>-0.317391</td>\n",
              "      <td>-0.120147</td>\n",
              "      <td>2.076753</td>\n",
              "      <td>0.0</td>\n",
              "      <td>1.104172</td>\n",
              "      <td>-1.640357</td>\n",
              "      <td>-3.039936</td>\n",
              "      <td>0.636950</td>\n",
              "      <td>1.219170</td>\n",
              "      <td>-0.162059</td>\n",
              "    </tr>\n",
              "  </tbody>\n",
              "</table>\n",
              "<p>3584 rows × 14 columns</p>\n",
              "</div>"
            ],
            "text/plain": [
              "      bedrooms  bathrooms   toilets  furnished  serviced    shared   parking  \\\n",
              "0     1.463636   1.469917  1.873415  -0.351942 -0.317391 -0.120147 -0.785696   \n",
              "1     0.130725   0.188277  0.796194  -0.351942 -0.317391 -0.120147 -0.785696   \n",
              "2     0.130725   0.188277  0.796194  -0.351942 -0.317391 -0.120147 -0.785696   \n",
              "3    -0.535731  -0.452543  0.257583   2.841376 -0.317391 -0.120147 -0.785696   \n",
              "4     0.797181   0.829097  1.334804  -0.351942 -0.317391 -0.120147 -0.785696   \n",
              "...        ...        ...       ...        ...       ...       ...       ...   \n",
              "3579  0.130725   0.188277  0.796194  -0.351942 -0.317391 -0.120147  0.645528   \n",
              "3580  0.130725   0.188277  0.796194  -0.351942 -0.317391 -0.120147  0.645528   \n",
              "3581 -0.535731  -0.452543  0.257583  -0.351942 -0.317391 -0.120147  0.645528   \n",
              "3582 -1.202186  -1.093363 -0.281027  -0.351942 -0.317391 -0.120147 -0.070084   \n",
              "3583  0.797181   0.829097  1.334804  -0.351942 -0.317391 -0.120147  2.076753   \n",
              "\n",
              "      category      type  sub_type     state  locality  list_year  list_month  \n",
              "0          0.0  1.104172  2.414852  0.507041  0.035731  -1.147842    0.166087  \n",
              "1          0.0 -0.905656 -0.119654  0.507041  0.787255  -1.147842    0.166087  \n",
              "2          0.0 -0.905656 -0.119654  0.507041 -0.264879  -1.147842    0.166087  \n",
              "3          0.0 -0.905656 -0.119654  0.507041  1.238170  -1.147842    0.166087  \n",
              "4          0.0  1.104172  2.414852  0.507041 -0.264879  -1.147842    0.166087  \n",
              "...        ...       ...       ...       ...       ...        ...         ...  \n",
              "3579       0.0  1.104172 -1.133456  0.507041 -0.114574   1.219170   -0.162059  \n",
              "3580       0.0  1.104172 -1.640357  0.507041 -1.767927   1.219170   -0.162059  \n",
              "3581       0.0  1.104172  0.387248 -3.039936  0.336341   1.219170   -0.162059  \n",
              "3582       0.0  1.104172  0.387248  0.507041 -1.166708   1.219170   -0.162059  \n",
              "3583       0.0  1.104172 -1.640357 -3.039936  0.636950   1.219170   -0.162059  \n",
              "\n",
              "[3584 rows x 14 columns]"
            ]
          },
          "metadata": {},
          "output_type": "display_data"
        }
      ],
      "source": [
        "for column in features:\n",
        "    if features[column].dtypes == 'int32':\n",
        "        features[column] = StandardScaler().fit_transform(features[column].values.reshape(-1, 1))\n",
        "display(features)"
      ]
    },
    {
      "cell_type": "code",
      "execution_count": 53,
      "id": "1bda1812",
      "metadata": {},
      "outputs": [],
      "source": [
        "features = features.drop(['sub_type', 'state', 'category', 'list_year', 'list_month'], axis=1)\n"
      ]
    },
    {
      "cell_type": "code",
      "execution_count": 54,
      "id": "c1b5f21a-c3c4-4834-beb5-e1e45dff8972",
      "metadata": {
        "colab": {
          "base_uri": "https://localhost:8080/",
          "height": 100
        },
        "id": "c1b5f21a-c3c4-4834-beb5-e1e45dff8972",
        "outputId": "9f6e15c4-9840-460d-eda8-d28d951a5d3b"
      },
      "outputs": [
        {
          "data": {
            "text/html": [
              "<div>\n",
              "<style scoped>\n",
              "    .dataframe tbody tr th:only-of-type {\n",
              "        vertical-align: middle;\n",
              "    }\n",
              "\n",
              "    .dataframe tbody tr th {\n",
              "        vertical-align: top;\n",
              "    }\n",
              "\n",
              "    .dataframe thead th {\n",
              "        text-align: right;\n",
              "    }\n",
              "</style>\n",
              "<table border=\"1\" class=\"dataframe\">\n",
              "  <thead>\n",
              "    <tr style=\"text-align: right;\">\n",
              "      <th></th>\n",
              "      <th>bedrooms</th>\n",
              "      <th>bathrooms</th>\n",
              "      <th>toilets</th>\n",
              "      <th>furnished</th>\n",
              "      <th>serviced</th>\n",
              "      <th>shared</th>\n",
              "      <th>parking</th>\n",
              "      <th>type</th>\n",
              "      <th>locality</th>\n",
              "    </tr>\n",
              "  </thead>\n",
              "  <tbody>\n",
              "    <tr>\n",
              "      <th>0</th>\n",
              "      <td>1.463636</td>\n",
              "      <td>1.469917</td>\n",
              "      <td>1.873415</td>\n",
              "      <td>-0.351942</td>\n",
              "      <td>-0.317391</td>\n",
              "      <td>-0.120147</td>\n",
              "      <td>-0.785696</td>\n",
              "      <td>1.104172</td>\n",
              "      <td>0.035731</td>\n",
              "    </tr>\n",
              "  </tbody>\n",
              "</table>\n",
              "</div>"
            ],
            "text/plain": [
              "   bedrooms  bathrooms   toilets  furnished  serviced    shared   parking  \\\n",
              "0  1.463636   1.469917  1.873415  -0.351942 -0.317391 -0.120147 -0.785696   \n",
              "\n",
              "       type  locality  \n",
              "0  1.104172  0.035731  "
            ]
          },
          "execution_count": 54,
          "metadata": {},
          "output_type": "execute_result"
        }
      ],
      "source": [
        "features.head(1)"
      ]
    },
    {
      "cell_type": "code",
      "execution_count": 55,
      "id": "727caef8-c40f-47e4-a46d-93126984b481",
      "metadata": {
        "colab": {
          "base_uri": "https://localhost:8080/"
        },
        "id": "727caef8-c40f-47e4-a46d-93126984b481",
        "outputId": "b70b2e8a-590e-4cf0-8f60-49a0772d1920"
      },
      "outputs": [
        {
          "name": "stdout",
          "output_type": "stream",
          "text": [
            "<class 'pandas.core.frame.DataFrame'>\n",
            "Index: 3584 entries, 0 to 3583\n",
            "Data columns (total 15 columns):\n",
            " #   Column      Non-Null Count  Dtype  \n",
            "---  ------      --------------  -----  \n",
            " 0   price       3584 non-null   float64\n",
            " 1   bedrooms    3584 non-null   int64  \n",
            " 2   bathrooms   3584 non-null   int64  \n",
            " 3   toilets     3584 non-null   float64\n",
            " 4   furnished   3584 non-null   int64  \n",
            " 5   serviced    3584 non-null   int64  \n",
            " 6   shared      3584 non-null   int64  \n",
            " 7   parking     3584 non-null   int64  \n",
            " 8   category    3584 non-null   int32  \n",
            " 9   type        3584 non-null   int32  \n",
            " 10  sub_type    3584 non-null   int32  \n",
            " 11  state       3584 non-null   int32  \n",
            " 12  locality    3584 non-null   int32  \n",
            " 13  list_year   3584 non-null   int64  \n",
            " 14  list_month  3584 non-null   int64  \n",
            "dtypes: float64(2), int32(5), int64(8)\n",
            "memory usage: 378.0 KB\n"
          ]
        }
      ],
      "source": [
        "df.info()"
      ]
    },
    {
      "cell_type": "code",
      "execution_count": 56,
      "id": "12e64a8b-7076-4986-bb30-9af89ffc3e92",
      "metadata": {
        "id": "12e64a8b-7076-4986-bb30-9af89ffc3e92"
      },
      "outputs": [],
      "source": [
        "# Call train_test_split function from sklearn library to split the dataset randomly\n",
        "X_train, X_test, Y_train, Y_test = train_test_split(features, labels, test_size=1/3, random_state=126)"
      ]
    },
    {
      "cell_type": "code",
      "execution_count": 57,
      "id": "760d959d-0477-44c1-a9d3-f9f508a6601c",
      "metadata": {
        "colab": {
          "base_uri": "https://localhost:8080/"
        },
        "id": "760d959d-0477-44c1-a9d3-f9f508a6601c",
        "outputId": "bbde9e52-cb0d-48ed-bc9e-08f3e69d74fe"
      },
      "outputs": [
        {
          "name": "stdout",
          "output_type": "stream",
          "text": [
            "2389 1195 2389 1195\n"
          ]
        }
      ],
      "source": [
        "print( len(X_train), len(X_test), len(Y_train), len(Y_test) )"
      ]
    },
    {
      "cell_type": "code",
      "execution_count": 58,
      "id": "4cde82ab-03af-48fe-9a1a-0668ff0fd4ce",
      "metadata": {
        "colab": {
          "base_uri": "https://localhost:8080/"
        },
        "id": "4cde82ab-03af-48fe-9a1a-0668ff0fd4ce",
        "outputId": "e221fc4a-9ab9-4ac2-8ef6-94070a8d1266"
      },
      "outputs": [
        {
          "data": {
            "text/plain": [
              "(3584, 15)"
            ]
          },
          "execution_count": 58,
          "metadata": {},
          "output_type": "execute_result"
        }
      ],
      "source": [
        "df.shape"
      ]
    },
    {
      "cell_type": "code",
      "execution_count": 59,
      "id": "44198a87-466d-45e1-8a84-9b8f5ae6736e",
      "metadata": {
        "id": "44198a87-466d-45e1-8a84-9b8f5ae6736e"
      },
      "outputs": [],
      "source": [
        "class ANNRegressor(BaseEstimator, RegressorMixin):\n",
        "    # Constructor to instantiate default or user-defined values\n",
        "    def __init__(self, in_features=13, num_hidden=1, num_neurons=40, epochs=50,\n",
        "                    batch_norm=False, early_stopping=True, verbose=1):\n",
        "        self.in_features = in_features\n",
        "        self.num_hidden = num_hidden\n",
        "        self.num_neurons = num_neurons\n",
        "        self.batch_norm = batch_norm\n",
        "        self.epochs = epochs\n",
        "        self.early_stopping = early_stopping\n",
        "        self.verbose = verbose\n",
        "\n",
        "        # Build the ANN\n",
        "        self.model = ANNRegressor.build_model(self.in_features, self.num_hidden, self.num_neurons, self.batch_norm)\n",
        "\n",
        "    @staticmethod\n",
        "    def build_model(in_features, num_hidden, num_neurons, batch_norm):\n",
        "        model = Sequential()\n",
        "\n",
        "        # Input layer\n",
        "        model.add(Dense(num_neurons, input_shape=(in_features,), activation='relu'))\n",
        "\n",
        "        # Add hidden layers to model\n",
        "        if (num_hidden > 1):\n",
        "            for i in range(num_hidden - 1):\n",
        "                model.add(Dense(num_neurons, activation='relu'))\n",
        "                if(batch_norm):\n",
        "                    model.add(BatchNormalization())\n",
        "\n",
        "        # Output layer\n",
        "        model.add(Dense(1))\n",
        "\n",
        "        return model\n",
        "\n",
        "    def fit(self, X, Y):\n",
        "        # Split into training and validating sets\n",
        "        X_train, X_val, Y_train, Y_val = train_test_split(X, Y, test_size=1/3)\n",
        "\n",
        "        # Specifies callbacks list\n",
        "        callbacks = [\n",
        "            ModelCheckpoint('models/annmodel.weights.hdf5', save_best_only=True, verbose=self.verbose)\n",
        "\n",
        "        ]\n",
        "\n",
        "        # Use early stopping to stop training when validation error reaches minimum\n",
        "        if(self.early_stopping):\n",
        "            callbacks.append(EarlyStopping(monitor='val_loss', patience=10, verbose=self.verbose))\n",
        "\n",
        "        # Compile the model then train\n",
        "        nadam = Nadam(learning_rate=0.001)\n",
        "        self.model.compile(optimizer=nadam, loss='mse')\n",
        "        self.model.fit(X_train, Y_train, validation_data=(X_val, Y_val), epochs=self.epochs,\n",
        "                       callbacks=callbacks, verbose=self.verbose)\n",
        "\n",
        "        model_json = self.model.to_json()\n",
        "        with open(\"../models/annmodel.json\", \"w\") as json_file:\n",
        "            json_file.write(model_json)\n",
        "        self.model.save('../models/ann_housing.h5')\n",
        "\n",
        "    def predict(self, X):\n",
        "        predictions = self.model.predict(X)\n",
        "\n",
        "        return predictions"
      ]
    },
    {
      "cell_type": "code",
      "execution_count": 60,
      "id": "752fef58-087b-4d82-8777-4ec45271931b",
      "metadata": {
        "id": "752fef58-087b-4d82-8777-4ec45271931b"
      },
      "outputs": [],
      "source": [
        "X_train = np.asarray(X_train).astype(np.float32)\n",
        "Y_train = np.asarray(Y_train).astype(np.float32)"
      ]
    },
    {
      "cell_type": "code",
      "execution_count": 61,
      "id": "0857d4ee-3797-4989-949a-978dc0de4234",
      "metadata": {
        "colab": {
          "base_uri": "https://localhost:8080/"
        },
        "id": "0857d4ee-3797-4989-949a-978dc0de4234",
        "outputId": "b61a1d52-7464-4462-b63d-8638530bc522"
      },
      "outputs": [
        {
          "name": "stdout",
          "output_type": "stream",
          "text": [
            "Epoch 1/29\n"
          ]
        },
        {
          "name": "stdout",
          "output_type": "stream",
          "text": [
            "48/50 [===========================>..] - ETA: 0s - loss: 23879436288.0000\n",
            "Epoch 1: val_loss improved from inf to 6916873216.00000, saving model to models\\annmodel.weights.hdf5\n",
            "50/50 [==============================] - 11s 19ms/step - loss: 23468894208.0000 - val_loss: 6916873216.0000\n",
            "Epoch 2/29\n",
            "10/50 [=====>........................] - ETA: 0s - loss: 6316783616.0000"
          ]
        },
        {
          "name": "stderr",
          "output_type": "stream",
          "text": [
            "c:\\Python311\\Lib\\site-packages\\keras\\src\\engine\\training.py:3103: UserWarning: You are saving your model as an HDF5 file via `model.save()`. This file format is considered legacy. We recommend using instead the native Keras format, e.g. `model.save('my_model.keras')`.\n",
            "  saving_api.save_model(\n"
          ]
        },
        {
          "name": "stdout",
          "output_type": "stream",
          "text": [
            "49/50 [============================>.] - ETA: 0s - loss: 7891183616.0000\n",
            "Epoch 2: val_loss improved from 6916873216.00000 to 4648373248.00000, saving model to models\\annmodel.weights.hdf5\n",
            "50/50 [==============================] - 1s 14ms/step - loss: 7834173952.0000 - val_loss: 4648373248.0000\n",
            "Epoch 3/29\n",
            "48/50 [===========================>..] - ETA: 0s - loss: 5786742272.0000\n",
            "Epoch 3: val_loss improved from 4648373248.00000 to 4344659968.00000, saving model to models\\annmodel.weights.hdf5\n",
            "50/50 [==============================] - 1s 24ms/step - loss: 5776671744.0000 - val_loss: 4344659968.0000\n",
            "Epoch 4/29\n",
            "46/50 [==========================>...] - ETA: 0s - loss: 5684051456.0000\n",
            "Epoch 4: val_loss improved from 4344659968.00000 to 4299831808.00000, saving model to models\\annmodel.weights.hdf5\n",
            "50/50 [==============================] - 1s 24ms/step - loss: 5576883712.0000 - val_loss: 4299831808.0000\n",
            "Epoch 5/29\n",
            "47/50 [===========================>..] - ETA: 0s - loss: 5248076288.0000\n",
            "Epoch 5: val_loss improved from 4299831808.00000 to 4284958208.00000, saving model to models\\annmodel.weights.hdf5\n",
            "50/50 [==============================] - 1s 24ms/step - loss: 5306267648.0000 - val_loss: 4284958208.0000\n",
            "Epoch 6/29\n",
            "49/50 [============================>.] - ETA: 0s - loss: 4877781504.0000\n",
            "Epoch 6: val_loss did not improve from 4284958208.00000\n",
            "50/50 [==============================] - 1s 17ms/step - loss: 4916033024.0000 - val_loss: 4354396160.0000\n",
            "Epoch 7/29\n",
            "49/50 [============================>.] - ETA: 0s - loss: 4901641216.0000\n",
            "Epoch 7: val_loss improved from 4284958208.00000 to 4239957504.00000, saving model to models\\annmodel.weights.hdf5\n",
            "50/50 [==============================] - 1s 24ms/step - loss: 4870103552.0000 - val_loss: 4239957504.0000\n",
            "Epoch 8/29\n",
            "49/50 [============================>.] - ETA: 0s - loss: 4774288384.0000\n",
            "Epoch 8: val_loss did not improve from 4239957504.00000\n",
            "50/50 [==============================] - 1s 18ms/step - loss: 4743228416.0000 - val_loss: 4722101760.0000\n",
            "Epoch 9/29\n",
            "48/50 [===========================>..] - ETA: 0s - loss: 4700148224.0000\n",
            "Epoch 9: val_loss improved from 4239957504.00000 to 4189200640.00000, saving model to models\\annmodel.weights.hdf5\n",
            "50/50 [==============================] - 1s 25ms/step - loss: 4648178176.0000 - val_loss: 4189200640.0000\n",
            "Epoch 10/29\n",
            "49/50 [============================>.] - ETA: 0s - loss: 4524519424.0000\n",
            "Epoch 10: val_loss did not improve from 4189200640.00000\n",
            "50/50 [==============================] - 1s 17ms/step - loss: 4514440192.0000 - val_loss: 4512038400.0000\n",
            "Epoch 11/29\n",
            "48/50 [===========================>..] - ETA: 0s - loss: 4533293568.0000\n",
            "Epoch 11: val_loss did not improve from 4189200640.00000\n",
            "50/50 [==============================] - 1s 19ms/step - loss: 4463544320.0000 - val_loss: 4347586048.0000\n",
            "Epoch 12/29\n",
            "47/50 [===========================>..] - ETA: 0s - loss: 4383893504.0000\n",
            "Epoch 12: val_loss improved from 4189200640.00000 to 4093021696.00000, saving model to models\\annmodel.weights.hdf5\n",
            "50/50 [==============================] - 1s 27ms/step - loss: 4400438272.0000 - val_loss: 4093021696.0000\n",
            "Epoch 13/29\n",
            "48/50 [===========================>..] - ETA: 0s - loss: 4298927616.0000\n",
            "Epoch 13: val_loss did not improve from 4093021696.00000\n",
            "50/50 [==============================] - 1s 20ms/step - loss: 4367842304.0000 - val_loss: 4508836864.0000\n",
            "Epoch 14/29\n",
            "49/50 [============================>.] - ETA: 0s - loss: 4174105856.0000\n",
            "Epoch 14: val_loss improved from 4093021696.00000 to 3960126464.00000, saving model to models\\annmodel.weights.hdf5\n",
            "50/50 [==============================] - 1s 30ms/step - loss: 4198014464.0000 - val_loss: 3960126464.0000\n",
            "Epoch 15/29\n",
            "49/50 [============================>.] - ETA: 0s - loss: 4104663040.0000\n",
            "Epoch 15: val_loss did not improve from 3960126464.00000\n",
            "50/50 [==============================] - 1s 19ms/step - loss: 4064949760.0000 - val_loss: 4191927808.0000\n",
            "Epoch 16/29\n",
            "42/50 [========================>.....] - ETA: 0s - loss: 4321196032.0000\n",
            "Epoch 16: val_loss did not improve from 3960126464.00000\n",
            "50/50 [==============================] - 1s 14ms/step - loss: 4103355136.0000 - val_loss: 4120114176.0000\n",
            "Epoch 17/29\n",
            "42/50 [========================>.....] - ETA: 0s - loss: 4051329024.0000\n",
            "Epoch 17: val_loss did not improve from 3960126464.00000\n",
            "50/50 [==============================] - 1s 11ms/step - loss: 4007444736.0000 - val_loss: 4670373888.0000\n",
            "Epoch 18/29\n",
            "43/50 [========================>.....] - ETA: 0s - loss: 3929999616.0000\n",
            "Epoch 18: val_loss did not improve from 3960126464.00000\n",
            "50/50 [==============================] - 0s 9ms/step - loss: 3890428160.0000 - val_loss: 4212470016.0000\n",
            "Epoch 19/29\n",
            "49/50 [============================>.] - ETA: 0s - loss: 3974563840.0000\n",
            "Epoch 19: val_loss did not improve from 3960126464.00000\n",
            "50/50 [==============================] - 0s 8ms/step - loss: 3977051136.0000 - val_loss: 4968765952.0000\n",
            "Epoch 20/29\n",
            "47/50 [===========================>..] - ETA: 0s - loss: 3821559552.0000\n",
            "Epoch 20: val_loss did not improve from 3960126464.00000\n",
            "50/50 [==============================] - 0s 7ms/step - loss: 3832845056.0000 - val_loss: 5328704512.0000\n",
            "Epoch 21/29\n",
            "42/50 [========================>.....] - ETA: 0s - loss: 3938437120.0000\n",
            "Epoch 21: val_loss did not improve from 3960126464.00000\n",
            "50/50 [==============================] - 0s 7ms/step - loss: 3888662528.0000 - val_loss: 4045289984.0000\n",
            "Epoch 22/29\n",
            "42/50 [========================>.....] - ETA: 0s - loss: 3938449920.0000\n",
            "Epoch 22: val_loss did not improve from 3960126464.00000\n",
            "50/50 [==============================] - 0s 7ms/step - loss: 3744855808.0000 - val_loss: 4176809728.0000\n",
            "Epoch 23/29\n",
            "50/50 [==============================] - ETA: 0s - loss: 3724987648.0000\n",
            "Epoch 23: val_loss did not improve from 3960126464.00000\n",
            "50/50 [==============================] - 0s 8ms/step - loss: 3724987648.0000 - val_loss: 4013833472.0000\n",
            "Epoch 24/29\n",
            "50/50 [==============================] - ETA: 0s - loss: 3672832512.0000\n",
            "Epoch 24: val_loss did not improve from 3960126464.00000\n",
            "50/50 [==============================] - 0s 7ms/step - loss: 3672832512.0000 - val_loss: 3990296320.0000\n",
            "Epoch 24: early stopping\n"
          ]
        }
      ],
      "source": [
        "annRegressor = ANNRegressor(in_features=X_train.shape[1], num_hidden=25, num_neurons=45, epochs=29, verbose=1)\n",
        "annRegressor.fit(X_train, Y_train)"
      ]
    },
    {
      "cell_type": "code",
      "execution_count": 62,
      "id": "83af8cc5-5083-443a-98b8-d8cfae0f8652",
      "metadata": {
        "colab": {
          "base_uri": "https://localhost:8080/",
          "height": 466
        },
        "id": "83af8cc5-5083-443a-98b8-d8cfae0f8652",
        "outputId": "0857ce96-ba3c-4ca1-802a-dc19a5818c52"
      },
      "outputs": [
        {
          "name": "stdout",
          "output_type": "stream",
          "text": [
            "38/38 [==============================] - 0s 3ms/step\n"
          ]
        },
        {
          "data": {
            "image/png": "[encoded data removed]",
            "text/plain": [
              "<Figure size 640x480 with 1 Axes>"
            ]
          },
          "metadata": {},
          "output_type": "display_data"
        }
      ],
      "source": [
        "NN_pred = annRegressor.predict(X_test)\n",
        "plt.scatter(NN_pred, Y_test)\n",
        "plt.xlabel('predicted')\n",
        "plt.ylabel('actual')\n",
        "plt.show()"
      ]
    },
    {
      "cell_type": "code",
      "execution_count": 63,
      "id": "a84e6cf1-0811-413b-9b6e-f3de00a58e7e",
      "metadata": {
        "colab": {
          "base_uri": "https://localhost:8080/",
          "height": 468
        },
        "id": "a84e6cf1-0811-413b-9b6e-f3de00a58e7e",
        "outputId": "c9f960e5-a7c2-404e-8164-3f9ad73cd9d0"
      },
      "outputs": [
        {
          "name": "stdout",
          "output_type": "stream",
          "text": [
            "38/38 [==============================] - 0s 4ms/step\n"
          ]
        },
        {
          "data": {
            "text/plain": [
              "3469    200000.0\n",
              "2816      7000.0\n",
              "3395    350000.0\n",
              "268     140000.0\n",
              "1043     70000.0\n",
              "          ...   \n",
              "2706     13000.0\n",
              "1761    400000.0\n",
              "1472     40000.0\n",
              "946     260000.0\n",
              "2078    190000.0\n",
              "Name: price, Length: 1195, dtype: float64"
            ]
          },
          "metadata": {},
          "output_type": "display_data"
        },
        {
          "data": {
            "text/plain": [
              "array([[144057.9  ],\n",
              "       [  8557.459],\n",
              "       [133247.95 ],\n",
              "       ...,\n",
              "       [ 71087.516],\n",
              "       [ 79354.12 ],\n",
              "       [173727.28 ]], dtype=float32)"
            ]
          },
          "metadata": {},
          "output_type": "display_data"
        },
        {
          "name": "stdout",
          "output_type": "stream",
          "text": [
            "Mean absolute error: 42129.7812\n",
            "\n",
            "Root mean squared error: 63754.4727\n",
            "\n",
            "Coefficient of determination: 0.6704\n",
            "\n"
          ]
        }
      ],
      "source": [
        "# Method to display model evaluation metrics\n",
        "def display_model_metrics(label, predictions):\n",
        "    # The mean absolute error\n",
        "    print(\"Mean absolute error: %.4f\\n\" % mean_absolute_error(label, predictions))\n",
        "\n",
        "    # The mean squared error\n",
        "    print(\"Root mean squared error: %.4f\\n\" % np.sqrt(mean_squared_error(label, predictions)))\n",
        "\n",
        "    # The coefficient of determination: 1 is perfect prediction R^2\n",
        "    print(\"Coefficient of determination: %.4f\\n\" % r2_score(label, predictions))\n",
        "\n",
        "predictions = annRegressor.predict(X_test)\n",
        "display(Y_test)\n",
        "display(predictions)\n",
        "\n",
        "display_model_metrics(Y_test, predictions[:,-1])"
      ]
    },
    {
      "cell_type": "code",
      "execution_count": 64,
      "id": "e1f6acde",
      "metadata": {},
      "outputs": [
        {
          "name": "stdout",
          "output_type": "stream",
          "text": [
            "INFO:tensorflow:Assets written to: C:\\Users\\yahya\\AppData\\Local\\Temp\\tmp17xmi6_1\\assets\n"
          ]
        },
        {
          "name": "stderr",
          "output_type": "stream",
          "text": [
            "INFO:tensorflow:Assets written to: C:\\Users\\yahya\\AppData\\Local\\Temp\\tmp17xmi6_1\\assets\n"
          ]
        }
      ],
      "source": [
        "import pickle\n",
        "\n",
        "pickle.dump(annRegressor, open('../models/annmodel.pkl', 'wb'))\n"
      ]
    }
  ],
  "metadata": {
    "colab": {
      "provenance": []
    },
    "kernelspec": {
      "display_name": "Python 3 (ipykernel)",
      "language": "python",
      "name": "python3"
    },
    "language_info": {
      "codemirror_mode": {
        "name": "ipython",
        "version": 3
      },
      "file_extension": ".py",
      "mimetype": "text/x-python",
      "name": "python",
      "nbconvert_exporter": "python",
      "pygments_lexer": "ipython3",
      "version": "3.11.0"
    }
  },
  "nbformat": 4,
  "nbformat_minor": 5
}
