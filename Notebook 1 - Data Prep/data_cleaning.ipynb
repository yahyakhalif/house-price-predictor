{
  "cells": [
    {
      "cell_type": "markdown",
      "metadata": {
        "id": "J9MpLhga2CmT"
      },
      "source": [
        "<h1>Data cleaning</h1>\n",
        "<hr>\n",
        "<p>In this module we will:</p>\n",
        "<ul>\n",
        "    <li>Remove unwanted outliers</li>\n",
        "    <li>Remove unwanted observations</li>\n",
        "    <li>Label missing categorical data</li>\n",
        "    <li>Drop unwanted outliers</li>\n",
        "    <li>Flag and fill missing numerical data</li>\n",
        "    <li>Change to correct data types</li>\n",
        "</ul>"
      ]
    },
    {
      "cell_type": "code",
      "execution_count": 86,
      "metadata": {
        "id": "G7QmD_v_2CmV"
      },
      "outputs": [],
      "source": [
        "# import libraries\n",
        "import numpy as np\n",
        "import pandas as pd\n",
        "from matplotlib import pyplot as plt\n",
        "%matplotlib inline\n",
        "import seaborn as sns"
      ]
    },
    {
      "cell_type": "code",
      "execution_count": 87,
      "metadata": {
        "id": "pavr8_Ti2CmW"
      },
      "outputs": [],
      "source": [
        "#import dataset\n",
        "df=pd.read_csv(\"kenya_listings_2023.csv\")"
      ]
    },
    {
      "cell_type": "code",
      "execution_count": 88,
      "metadata": {
        "colab": {
          "base_uri": "https://localhost:8080/"
        },
        "id": "Eb_M46dw2CmX",
        "outputId": "126d5a5d-a988-4cdf-c40b-123eb734bc4e"
      },
      "outputs": [
        {
          "output_type": "execute_result",
          "data": {
            "text/plain": [
              "(16117, 17)"
            ]
          },
          "metadata": {},
          "execution_count": 88
        }
      ],
      "source": [
        "df.shape"
      ]
    },
    {
      "cell_type": "markdown",
      "metadata": {
        "id": "ooBg8znA2CmY"
      },
      "source": [
        "<h2>Flag and fill missing numerical data</h2>\n",
        "<p>Checking null/missing values in the dataset</p>"
      ]
    },
    {
      "cell_type": "code",
      "execution_count": 89,
      "metadata": {
        "colab": {
          "base_uri": "https://localhost:8080/",
          "height": 582
        },
        "id": "VDdP9_pD2CmY",
        "outputId": "4e0fec1c-77fd-4751-c414-6d2dc26fbeb1"
      },
      "outputs": [
        {
          "output_type": "execute_result",
          "data": {
            "text/plain": [
              "                 Missing values  % Missing values\n",
              "id                            0          0.000000\n",
              "price                         3          0.018614\n",
              "price_qualifier            8870         55.035056\n",
              "bedrooms                      0          0.000000\n",
              "bathrooms                     0          0.000000\n",
              "toilets                   10028         62.220016\n",
              "furnished                     0          0.000000\n",
              "serviced                      0          0.000000\n",
              "shared                        0          0.000000\n",
              "parking                       0          0.000000\n",
              "category                      0          0.000000\n",
              "type                          0          0.000000\n",
              "sub_type                   9817         60.910839\n",
              "state                         0          0.000000\n",
              "locality                      6          0.037228\n",
              "sub_locality              15071         93.509958\n",
              "listdate                      0          0.000000"
            ],
            "text/html": [
              "\n",
              "  <div id=\"df-fa843f36-c674-4e18-85d3-bdadec2c57b7\" class=\"colab-df-container\">\n",
              "    <div>\n",
              "<style scoped>\n",
              "    .dataframe tbody tr th:only-of-type {\n",
              "        vertical-align: middle;\n",
              "    }\n",
              "\n",
              "    .dataframe tbody tr th {\n",
              "        vertical-align: top;\n",
              "    }\n",
              "\n",
              "    .dataframe thead th {\n",
              "        text-align: right;\n",
              "    }\n",
              "</style>\n",
              "<table border=\"1\" class=\"dataframe\">\n",
              "  <thead>\n",
              "    <tr style=\"text-align: right;\">\n",
              "      <th></th>\n",
              "      <th>Missing values</th>\n",
              "      <th>% Missing values</th>\n",
              "    </tr>\n",
              "  </thead>\n",
              "  <tbody>\n",
              "    <tr>\n",
              "      <th>id</th>\n",
              "      <td>0</td>\n",
              "      <td>0.000000</td>\n",
              "    </tr>\n",
              "    <tr>\n",
              "      <th>price</th>\n",
              "      <td>3</td>\n",
              "      <td>0.018614</td>\n",
              "    </tr>\n",
              "    <tr>\n",
              "      <th>price_qualifier</th>\n",
              "      <td>8870</td>\n",
              "      <td>55.035056</td>\n",
              "    </tr>\n",
              "    <tr>\n",
              "      <th>bedrooms</th>\n",
              "      <td>0</td>\n",
              "      <td>0.000000</td>\n",
              "    </tr>\n",
              "    <tr>\n",
              "      <th>bathrooms</th>\n",
              "      <td>0</td>\n",
              "      <td>0.000000</td>\n",
              "    </tr>\n",
              "    <tr>\n",
              "      <th>toilets</th>\n",
              "      <td>10028</td>\n",
              "      <td>62.220016</td>\n",
              "    </tr>\n",
              "    <tr>\n",
              "      <th>furnished</th>\n",
              "      <td>0</td>\n",
              "      <td>0.000000</td>\n",
              "    </tr>\n",
              "    <tr>\n",
              "      <th>serviced</th>\n",
              "      <td>0</td>\n",
              "      <td>0.000000</td>\n",
              "    </tr>\n",
              "    <tr>\n",
              "      <th>shared</th>\n",
              "      <td>0</td>\n",
              "      <td>0.000000</td>\n",
              "    </tr>\n",
              "    <tr>\n",
              "      <th>parking</th>\n",
              "      <td>0</td>\n",
              "      <td>0.000000</td>\n",
              "    </tr>\n",
              "    <tr>\n",
              "      <th>category</th>\n",
              "      <td>0</td>\n",
              "      <td>0.000000</td>\n",
              "    </tr>\n",
              "    <tr>\n",
              "      <th>type</th>\n",
              "      <td>0</td>\n",
              "      <td>0.000000</td>\n",
              "    </tr>\n",
              "    <tr>\n",
              "      <th>sub_type</th>\n",
              "      <td>9817</td>\n",
              "      <td>60.910839</td>\n",
              "    </tr>\n",
              "    <tr>\n",
              "      <th>state</th>\n",
              "      <td>0</td>\n",
              "      <td>0.000000</td>\n",
              "    </tr>\n",
              "    <tr>\n",
              "      <th>locality</th>\n",
              "      <td>6</td>\n",
              "      <td>0.037228</td>\n",
              "    </tr>\n",
              "    <tr>\n",
              "      <th>sub_locality</th>\n",
              "      <td>15071</td>\n",
              "      <td>93.509958</td>\n",
              "    </tr>\n",
              "    <tr>\n",
              "      <th>listdate</th>\n",
              "      <td>0</td>\n",
              "      <td>0.000000</td>\n",
              "    </tr>\n",
              "  </tbody>\n",
              "</table>\n",
              "</div>\n",
              "    <div class=\"colab-df-buttons\">\n",
              "\n",
              "  <div class=\"colab-df-container\">\n",
              "    <button class=\"colab-df-convert\" onclick=\"convertToInteractive('df-fa843f36-c674-4e18-85d3-bdadec2c57b7')\"\n",
              "            title=\"Convert this dataframe to an interactive table.\"\n",
              "            style=\"display:none;\">\n",
              "\n",
              "  <svg xmlns=\"http://www.w3.org/2000/svg\" height=\"24px\" viewBox=\"0 -960 960 960\">\n",
              "    <path d=\"M120-120v-720h720v720H120Zm60-500h600v-160H180v160Zm220 220h160v-160H400v160Zm0 220h160v-160H400v160ZM180-400h160v-160H180v160Zm440 0h160v-160H620v160ZM180-180h160v-160H180v160Zm440 0h160v-160H620v160Z\"/>\n",
              "  </svg>\n",
              "    </button>\n",
              "\n",
              "  <style>\n",
              "    .colab-df-container {\n",
              "      display:flex;\n",
              "      gap: 12px;\n",
              "    }\n",
              "\n",
              "    .colab-df-convert {\n",
              "      background-color: #E8F0FE;\n",
              "      border: none;\n",
              "      border-radius: 50%;\n",
              "      cursor: pointer;\n",
              "      display: none;\n",
              "      fill: #1967D2;\n",
              "      height: 32px;\n",
              "      padding: 0 0 0 0;\n",
              "      width: 32px;\n",
              "    }\n",
              "\n",
              "    .colab-df-convert:hover {\n",
              "      background-color: #E2EBFA;\n",
              "      box-shadow: 0px 1px 2px rgba(60, 64, 67, 0.3), 0px 1px 3px 1px rgba(60, 64, 67, 0.15);\n",
              "      fill: #174EA6;\n",
              "    }\n",
              "\n",
              "    .colab-df-buttons div {\n",
              "      margin-bottom: 4px;\n",
              "    }\n",
              "\n",
              "    [theme=dark] .colab-df-convert {\n",
              "      background-color: #3B4455;\n",
              "      fill: #D2E3FC;\n",
              "    }\n",
              "\n",
              "    [theme=dark] .colab-df-convert:hover {\n",
              "      background-color: #434B5C;\n",
              "      box-shadow: 0px 1px 3px 1px rgba(0, 0, 0, 0.15);\n",
              "      filter: drop-shadow(0px 1px 2px rgba(0, 0, 0, 0.3));\n",
              "      fill: #FFFFFF;\n",
              "    }\n",
              "  </style>\n",
              "\n",
              "    <script>\n",
              "      const buttonEl =\n",
              "        document.querySelector('#df-fa843f36-c674-4e18-85d3-bdadec2c57b7 button.colab-df-convert');\n",
              "      buttonEl.style.display =\n",
              "        google.colab.kernel.accessAllowed ? 'block' : 'none';\n",
              "\n",
              "      async function convertToInteractive(key) {\n",
              "        const element = document.querySelector('#df-fa843f36-c674-4e18-85d3-bdadec2c57b7');\n",
              "        const dataTable =\n",
              "          await google.colab.kernel.invokeFunction('convertToInteractive',\n",
              "                                                    [key], {});\n",
              "        if (!dataTable) return;\n",
              "\n",
              "        const docLinkHtml = 'Like what you see? Visit the ' +\n",
              "          '<a target=\"_blank\" href=https://colab.research.google.com/notebooks/data_table.ipynb>data table notebook</a>'\n",
              "          + ' to learn more about interactive tables.';\n",
              "        element.innerHTML = '';\n",
              "        dataTable['output_type'] = 'display_data';\n",
              "        await google.colab.output.renderOutput(dataTable, element);\n",
              "        const docLink = document.createElement('div');\n",
              "        docLink.innerHTML = docLinkHtml;\n",
              "        element.appendChild(docLink);\n",
              "      }\n",
              "    </script>\n",
              "  </div>\n",
              "\n",
              "\n",
              "<div id=\"df-911cc3d2-9153-462e-a3b1-4ec4710adf75\">\n",
              "  <button class=\"colab-df-quickchart\" onclick=\"quickchart('df-911cc3d2-9153-462e-a3b1-4ec4710adf75')\"\n",
              "            title=\"Suggest charts.\"\n",
              "            style=\"display:none;\">\n",
              "\n",
              "<svg xmlns=\"http://www.w3.org/2000/svg\" height=\"24px\"viewBox=\"0 0 24 24\"\n",
              "     width=\"24px\">\n",
              "    <g>\n",
              "        <path d=\"M19 3H5c-1.1 0-2 .9-2 2v14c0 1.1.9 2 2 2h14c1.1 0 2-.9 2-2V5c0-1.1-.9-2-2-2zM9 17H7v-7h2v7zm4 0h-2V7h2v10zm4 0h-2v-4h2v4z\"/>\n",
              "    </g>\n",
              "</svg>\n",
              "  </button>\n",
              "\n",
              "<style>\n",
              "  .colab-df-quickchart {\n",
              "      --bg-color: #E8F0FE;\n",
              "      --fill-color: #1967D2;\n",
              "      --hover-bg-color: #E2EBFA;\n",
              "      --hover-fill-color: #174EA6;\n",
              "      --disabled-fill-color: #AAA;\n",
              "      --disabled-bg-color: #DDD;\n",
              "  }\n",
              "\n",
              "  [theme=dark] .colab-df-quickchart {\n",
              "      --bg-color: #3B4455;\n",
              "      --fill-color: #D2E3FC;\n",
              "      --hover-bg-color: #434B5C;\n",
              "      --hover-fill-color: #FFFFFF;\n",
              "      --disabled-bg-color: #3B4455;\n",
              "      --disabled-fill-color: #666;\n",
              "  }\n",
              "\n",
              "  .colab-df-quickchart {\n",
              "    background-color: var(--bg-color);\n",
              "    border: none;\n",
              "    border-radius: 50%;\n",
              "    cursor: pointer;\n",
              "    display: none;\n",
              "    fill: var(--fill-color);\n",
              "    height: 32px;\n",
              "    padding: 0;\n",
              "    width: 32px;\n",
              "  }\n",
              "\n",
              "  .colab-df-quickchart:hover {\n",
              "    background-color: var(--hover-bg-color);\n",
              "    box-shadow: 0 1px 2px rgba(60, 64, 67, 0.3), 0 1px 3px 1px rgba(60, 64, 67, 0.15);\n",
              "    fill: var(--button-hover-fill-color);\n",
              "  }\n",
              "\n",
              "  .colab-df-quickchart-complete:disabled,\n",
              "  .colab-df-quickchart-complete:disabled:hover {\n",
              "    background-color: var(--disabled-bg-color);\n",
              "    fill: var(--disabled-fill-color);\n",
              "    box-shadow: none;\n",
              "  }\n",
              "\n",
              "  .colab-df-spinner {\n",
              "    border: 2px solid var(--fill-color);\n",
              "    border-color: transparent;\n",
              "    border-bottom-color: var(--fill-color);\n",
              "    animation:\n",
              "      spin 1s steps(1) infinite;\n",
              "  }\n",
              "\n",
              "  @keyframes spin {\n",
              "    0% {\n",
              "      border-color: transparent;\n",
              "      border-bottom-color: var(--fill-color);\n",
              "      border-left-color: var(--fill-color);\n",
              "    }\n",
              "    20% {\n",
              "      border-color: transparent;\n",
              "      border-left-color: var(--fill-color);\n",
              "      border-top-color: var(--fill-color);\n",
              "    }\n",
              "    30% {\n",
              "      border-color: transparent;\n",
              "      border-left-color: var(--fill-color);\n",
              "      border-top-color: var(--fill-color);\n",
              "      border-right-color: var(--fill-color);\n",
              "    }\n",
              "    40% {\n",
              "      border-color: transparent;\n",
              "      border-right-color: var(--fill-color);\n",
              "      border-top-color: var(--fill-color);\n",
              "    }\n",
              "    60% {\n",
              "      border-color: transparent;\n",
              "      border-right-color: var(--fill-color);\n",
              "    }\n",
              "    80% {\n",
              "      border-color: transparent;\n",
              "      border-right-color: var(--fill-color);\n",
              "      border-bottom-color: var(--fill-color);\n",
              "    }\n",
              "    90% {\n",
              "      border-color: transparent;\n",
              "      border-bottom-color: var(--fill-color);\n",
              "    }\n",
              "  }\n",
              "</style>\n",
              "\n",
              "  <script>\n",
              "    async function quickchart(key) {\n",
              "      const quickchartButtonEl =\n",
              "        document.querySelector('#' + key + ' button');\n",
              "      quickchartButtonEl.disabled = true;  // To prevent multiple clicks.\n",
              "      quickchartButtonEl.classList.add('colab-df-spinner');\n",
              "      try {\n",
              "        const charts = await google.colab.kernel.invokeFunction(\n",
              "            'suggestCharts', [key], {});\n",
              "      } catch (error) {\n",
              "        console.error('Error during call to suggestCharts:', error);\n",
              "      }\n",
              "      quickchartButtonEl.classList.remove('colab-df-spinner');\n",
              "      quickchartButtonEl.classList.add('colab-df-quickchart-complete');\n",
              "    }\n",
              "    (() => {\n",
              "      let quickchartButtonEl =\n",
              "        document.querySelector('#df-911cc3d2-9153-462e-a3b1-4ec4710adf75 button');\n",
              "      quickchartButtonEl.style.display =\n",
              "        google.colab.kernel.accessAllowed ? 'block' : 'none';\n",
              "    })();\n",
              "  </script>\n",
              "</div>\n",
              "    </div>\n",
              "  </div>\n"
            ]
          },
          "metadata": {},
          "execution_count": 89
        }
      ],
      "source": [
        "#df.select_dtypes(exclude=['object']).isnull().sum()\n",
        "count=df.isna().sum()\n",
        "percent=((count/df.shape[0])*100)\n",
        "null=pd.DataFrame(pd.concat([count,percent],keys=['Missing values','% Missing values'],axis=1))\n",
        "null"
      ]
    },
    {
      "cell_type": "code",
      "execution_count": 90,
      "metadata": {
        "id": "j5mCA75E2CmY"
      },
      "outputs": [],
      "source": [
        "# Missing toilet values should be 0\n",
        "df['toilets'] = df['toilets'].fillna(0)"
      ]
    },
    {
      "cell_type": "code",
      "execution_count": 91,
      "metadata": {
        "id": "-Ao6hWwi2CmZ"
      },
      "outputs": [],
      "source": [
        "df['price'] = df['price'].fillna(0)"
      ]
    },
    {
      "cell_type": "markdown",
      "metadata": {
        "id": "kwvkR9rm2CmZ"
      },
      "source": [
        "<h2>Fixing structural errors</h2>"
      ]
    },
    {
      "cell_type": "code",
      "execution_count": 92,
      "metadata": {
        "colab": {
          "base_uri": "https://localhost:8080/"
        },
        "id": "M4B07b5I2CmZ",
        "outputId": "fd33ab96-d24a-4532-ea0b-cf651b9f4e5d"
      },
      "outputs": [
        {
          "output_type": "execute_result",
          "data": {
            "text/plain": [
              "per month                       6227\n",
              "per calendar month               373\n",
              "per plot                         228\n",
              "per acre                         128\n",
              "per square foot / per month      112\n",
              "per day                           62\n",
              "per square meter / per month      55\n",
              "per square foot / per week        46\n",
              "per hectare                        6\n",
              "per square meter / per week        5\n",
              "per square foot / per annum        3\n",
              "per square foot                    1\n",
              "per square meter                   1\n",
              "Name: price_qualifier, dtype: int64"
            ]
          },
          "metadata": {},
          "execution_count": 92
        }
      ],
      "source": [
        "df.price_qualifier.value_counts()"
      ]
    },
    {
      "cell_type": "code",
      "execution_count": 93,
      "metadata": {
        "colab": {
          "base_uri": "https://localhost:8080/"
        },
        "id": "6U50-pRJ2CmZ",
        "outputId": "da94bc82-4361-40c9-8872-5588767689d1"
      },
      "outputs": [
        {
          "output_type": "execute_result",
          "data": {
            "text/plain": [
              "House                   6026\n",
              "Apartment               5840\n",
              "Land                    2669\n",
              "Commercial Property     1580\n",
              "Event Centre / Venue       2\n",
              "Name: type, dtype: int64"
            ]
          },
          "metadata": {},
          "execution_count": 93
        }
      ],
      "source": [
        "df.type.value_counts()"
      ]
    },
    {
      "cell_type": "code",
      "execution_count": 94,
      "metadata": {
        "colab": {
          "base_uri": "https://localhost:8080/"
        },
        "id": "j2xKBiXc2CmZ",
        "outputId": "a93c77d0-587f-4cd2-c58b-7cde27b1f82d"
      },
      "outputs": [
        {
          "output_type": "execute_result",
          "data": {
            "text/plain": [
              "Townhouse                               1563\n",
              "Office Space                             872\n",
              "Residential Land                         810\n",
              "Detached Duplex                          630\n",
              "Detached Bungalow                        579\n",
              "Mixed-use Land                           376\n",
              "Semi-detached Bungalow                   286\n",
              "Mini Flat                                244\n",
              "Commercial Land                          205\n",
              "Bedsitter (Single Room)                  191\n",
              "Warehouse                                186\n",
              "Semi-detached Duplex                      74\n",
              "Terraced Duplex                           55\n",
              "Shop                                      45\n",
              "Plaza / Complex / Mall                    45\n",
              "Block of Flats                            30\n",
              "Terraced Bungalow                         29\n",
              "Hotel / Guest House                       27\n",
              "Restaurant / Bar                          24\n",
              "Industrial Land                           14\n",
              "School                                     5\n",
              "Factory                                    3\n",
              "Filling Station                            3\n",
              "Tank Farm                                  2\n",
              "Conference / Meeting / Training Room       1\n",
              "Hostel                                     1\n",
              "Name: sub_type, dtype: int64"
            ]
          },
          "metadata": {},
          "execution_count": 94
        }
      ],
      "source": [
        "df.sub_type.value_counts()"
      ]
    },
    {
      "cell_type": "code",
      "execution_count": 95,
      "metadata": {
        "colab": {
          "base_uri": "https://localhost:8080/"
        },
        "id": "6NXtQAmi2Cma",
        "outputId": "f914a654-6668-4e9a-d512-a14e2a4489e5"
      },
      "outputs": [
        {
          "output_type": "execute_result",
          "data": {
            "text/plain": [
              "Nairobi          8935\n",
              "Kiambu           2694\n",
              "Kajiado          1294\n",
              "Mombasa          1125\n",
              "Machakos          534\n",
              "Kilifi            480\n",
              "Nakuru            290\n",
              "Kisumu            150\n",
              "Laikipia           97\n",
              "Kwale              78\n",
              "Embu               44\n",
              "Uasin Gishu        43\n",
              "Meru               42\n",
              "Nyeri              39\n",
              "Nandi              38\n",
              "Makueni            30\n",
              "Baringo            28\n",
              "Muranga            27\n",
              "Bungoma            21\n",
              "Kirinyaga          17\n",
              "Kitui              13\n",
              "Nyandarua          12\n",
              "Kericho            11\n",
              "Kakamega           10\n",
              "Trans Nzoia        10\n",
              "Kisii               9\n",
              "Isiolo              7\n",
              "Lamu                6\n",
              "Busia               6\n",
              "Narok               4\n",
              "Tharaka-Nithi       3\n",
              "Bomet               3\n",
              "Homa Bay            3\n",
              "Garissa             2\n",
              "Migori              2\n",
              "Siaya               2\n",
              "Samburu             2\n",
              "Vihiga              2\n",
              "Taita Taveta        1\n",
              "West Pokot          1\n",
              "Marsabit            1\n",
              "Turkana             1\n",
              "Name: state, dtype: int64"
            ]
          },
          "metadata": {},
          "execution_count": 95
        }
      ],
      "source": [
        "df.state.value_counts()"
      ]
    },
    {
      "cell_type": "code",
      "execution_count": 96,
      "metadata": {
        "colab": {
          "base_uri": "https://localhost:8080/"
        },
        "id": "ZBX5y2bg2Cma",
        "outputId": "24a37ab1-a61a-4a58-8474-37602d01e649"
      },
      "outputs": [
        {
          "output_type": "execute_result",
          "data": {
            "text/plain": [
              "Westlands          2446\n",
              "Kilimani           1199\n",
              "Kikuyu             1064\n",
              "Lavington           891\n",
              "Karen               750\n",
              "                   ... \n",
              "Silale                1\n",
              "Ting'Ang'A            1\n",
              "Migwani               1\n",
              "Kadzandani            1\n",
              "Lodwar Township       1\n",
              "Name: locality, Length: 357, dtype: int64"
            ]
          },
          "metadata": {},
          "execution_count": 96
        }
      ],
      "source": [
        "df.locality.value_counts()"
      ]
    },
    {
      "cell_type": "code",
      "execution_count": 97,
      "metadata": {
        "colab": {
          "base_uri": "https://localhost:8080/"
        },
        "id": "Zhuqo-_l2Cma",
        "outputId": "cc47d31b-9b67-472f-8853-151d43661152"
      },
      "outputs": [
        {
          "output_type": "execute_result",
          "data": {
            "text/plain": [
              "Runda              553\n",
              "Loresho            107\n",
              "South C             83\n",
              "Industrial Area     80\n",
              "Thigio              34\n",
              "Muthaiga North      23\n",
              "Old Muthaiga        22\n",
              "Chiromo             20\n",
              "South B             19\n",
              "Rimpa               18\n",
              "Tassia              13\n",
              "Yukos               11\n",
              "Imara Daima         10\n",
              "Githurai 44         10\n",
              "Rosslyn              9\n",
              "Clay City            8\n",
              "Githurai 45          5\n",
              "Umoja Phase 1        5\n",
              "Lucky Summer         4\n",
              "New Muthaiga         3\n",
              "Umoja Phase 2        3\n",
              "Mukuru Village       1\n",
              "Kariba               1\n",
              "Kihingo              1\n",
              "Kwa Njenga           1\n",
              "Lindi                1\n",
              "Kiembeni             1\n",
              "Name: sub_locality, dtype: int64"
            ]
          },
          "metadata": {},
          "execution_count": 97
        }
      ],
      "source": [
        "df.sub_locality.value_counts()"
      ]
    },
    {
      "cell_type": "code",
      "execution_count": 98,
      "metadata": {
        "colab": {
          "base_uri": "https://localhost:8080/"
        },
        "id": "Y4wqJAMK2Cma",
        "outputId": "8a74fb24-1d09-4bf6-edb8-2ad7304bbea0"
      },
      "outputs": [
        {
          "output_type": "execute_result",
          "data": {
            "text/plain": [
              "For Sale         9108\n",
              "For Rent         6916\n",
              "Short Let          84\n",
              "Joint Venture       9\n",
              "Name: category, dtype: int64"
            ]
          },
          "metadata": {},
          "execution_count": 98
        }
      ],
      "source": [
        "df.category.value_counts()"
      ]
    },
    {
      "cell_type": "markdown",
      "metadata": {
        "id": "xoXVcza32Cma"
      },
      "source": [
        "<p>We should change those apartment properties that have zero bedrooms to become bedsitter sub type</p>"
      ]
    },
    {
      "cell_type": "code",
      "execution_count": 99,
      "metadata": {
        "colab": {
          "base_uri": "https://localhost:8080/"
        },
        "id": "Ziih2Xw22Cmb",
        "outputId": "1bec5dc6-3276-4bb0-fee4-222f3174677d"
      },
      "outputs": [
        {
          "output_type": "execute_result",
          "data": {
            "text/plain": [
              "(0, 17)"
            ]
          },
          "metadata": {},
          "execution_count": 99
        }
      ],
      "source": [
        "df.loc[(df['bedrooms']==0)&(df['sub_type']=='Missing')].shape\n",
        "#Bedsitter (Single Room)"
      ]
    },
    {
      "cell_type": "code",
      "execution_count": 100,
      "metadata": {
        "id": "RfSOyUgn2Cmb"
      },
      "outputs": [],
      "source": [
        "df.loc[(df['bedrooms']==0)&(df['sub_type']=='Missing'),'sub_type']='Bedsitter (Single Room)'"
      ]
    },
    {
      "cell_type": "markdown",
      "metadata": {
        "id": "hUbhbM_t2Cmc"
      },
      "source": [
        "<p>We are going to change price qualifiers with the value 'per calender month' to be 'per month'</p>"
      ]
    },
    {
      "cell_type": "code",
      "execution_count": 101,
      "metadata": {
        "id": "xknsmfOZ2Cmc"
      },
      "outputs": [],
      "source": [
        "df.loc[(df['price_qualifier']=='per calendar month'),'price_qualifier']='per month'"
      ]
    },
    {
      "cell_type": "code",
      "execution_count": 102,
      "metadata": {
        "colab": {
          "base_uri": "https://localhost:8080/"
        },
        "id": "S5nv37gq2Cmd",
        "outputId": "b533052d-a637-4173-d416-f416b3f3203c"
      },
      "outputs": [
        {
          "output_type": "execute_result",
          "data": {
            "text/plain": [
              "per month                       6600\n",
              "per plot                         228\n",
              "per acre                         128\n",
              "per square foot / per month      112\n",
              "per day                           62\n",
              "per square meter / per month      55\n",
              "per square foot / per week        46\n",
              "per hectare                        6\n",
              "per square meter / per week        5\n",
              "per square foot / per annum        3\n",
              "per square foot                    1\n",
              "per square meter                   1\n",
              "Name: price_qualifier, dtype: int64"
            ]
          },
          "metadata": {},
          "execution_count": 102
        }
      ],
      "source": [
        "df.price_qualifier.value_counts()"
      ]
    },
    {
      "cell_type": "markdown",
      "metadata": {
        "id": "YBDiG4eO2Cmd"
      },
      "source": [
        "<p>We are going to change properties that are listed for rent to all have price qualifier of per month</p>"
      ]
    },
    {
      "cell_type": "code",
      "execution_count": 103,
      "metadata": {
        "id": "BKnOD1-H2Cmd"
      },
      "outputs": [],
      "source": [
        "df.loc[(df['category']=='For Rent')&(df['price_qualifier']=='Missing'),'price_qualifier']='per month'"
      ]
    },
    {
      "cell_type": "markdown",
      "metadata": {
        "id": "DKE9oh8l2Cmd"
      },
      "source": [
        "<p>We are going to make all properties listed for sale to have a price qualifier of sale</p>"
      ]
    },
    {
      "cell_type": "code",
      "execution_count": 104,
      "metadata": {
        "id": "FRMsh1TF2Cme"
      },
      "outputs": [],
      "source": [
        "df.loc[(df['category']=='For Sale')&(df['price_qualifier']=='Missing'),'price_qualifier']='Sale'"
      ]
    },
    {
      "cell_type": "code",
      "execution_count": 105,
      "metadata": {
        "colab": {
          "base_uri": "https://localhost:8080/"
        },
        "id": "pjJZq1Xd2Cme",
        "outputId": "60d8e98d-4fa4-4274-f7bd-c39741f86fa2"
      },
      "outputs": [
        {
          "output_type": "execute_result",
          "data": {
            "text/plain": [
              "For Sale         9108\n",
              "For Rent         6916\n",
              "Short Let          84\n",
              "Joint Venture       9\n",
              "Name: category, dtype: int64"
            ]
          },
          "metadata": {},
          "execution_count": 105
        }
      ],
      "source": [
        "df.category.value_counts()"
      ]
    },
    {
      "cell_type": "markdown",
      "metadata": {
        "id": "4TnCuaWK2Cme"
      },
      "source": [
        "<p>we are going to change properties with short let to be rental properties</p>"
      ]
    },
    {
      "cell_type": "code",
      "execution_count": 106,
      "metadata": {
        "id": "nODDweOY2Cme"
      },
      "outputs": [],
      "source": [
        "df.loc[(df['category']=='Short Let'),'category']='For Rent'"
      ]
    },
    {
      "cell_type": "markdown",
      "metadata": {
        "id": "2KMu64Pn2Cme"
      },
      "source": [
        "<p>We are going to change block of flats from house to apartments</p>"
      ]
    },
    {
      "cell_type": "code",
      "execution_count": 107,
      "metadata": {
        "id": "bIdFkJlN2Cme"
      },
      "outputs": [],
      "source": [
        "df.loc[(df['sub_type']=='Block of Flats'),'type']='Apartment'"
      ]
    },
    {
      "cell_type": "markdown",
      "metadata": {
        "id": "ILToccvY2Cme"
      },
      "source": [
        "<h2>Labelling missing categorical features</h2>"
      ]
    },
    {
      "cell_type": "code",
      "execution_count": 108,
      "metadata": {
        "colab": {
          "base_uri": "https://localhost:8080/"
        },
        "id": "qUFxDP392Cmf",
        "outputId": "5bec0b65-d181-4aa2-c1ef-b0a96fd258ce"
      },
      "outputs": [
        {
          "output_type": "execute_result",
          "data": {
            "text/plain": [
              "price_qualifier     8870\n",
              "category               0\n",
              "type                   0\n",
              "sub_type            9817\n",
              "state                  0\n",
              "locality               6\n",
              "sub_locality       15071\n",
              "listdate               0\n",
              "dtype: int64"
            ]
          },
          "metadata": {},
          "execution_count": 108
        }
      ],
      "source": [
        "df.select_dtypes(include=['object']).isnull().sum()"
      ]
    },
    {
      "cell_type": "code",
      "execution_count": 109,
      "metadata": {
        "id": "VzqVHFB72Cmf"
      },
      "outputs": [],
      "source": [
        "for column in df.select_dtypes(include=['object']).columns.tolist():\n",
        "    df[column] = df[column].fillna('Missing')"
      ]
    },
    {
      "cell_type": "code",
      "execution_count": 110,
      "metadata": {
        "colab": {
          "base_uri": "https://localhost:8080/"
        },
        "id": "Cv8VAoID2Cmf",
        "outputId": "f7ccc73d-ac60-4ea6-d66b-ca99e3cafd9c"
      },
      "outputs": [
        {
          "output_type": "execute_result",
          "data": {
            "text/plain": [
              "price_qualifier    0\n",
              "category           0\n",
              "type               0\n",
              "sub_type           0\n",
              "state              0\n",
              "locality           0\n",
              "sub_locality       0\n",
              "listdate           0\n",
              "dtype: int64"
            ]
          },
          "metadata": {},
          "execution_count": 110
        }
      ],
      "source": [
        "df.select_dtypes(include=['object']).isnull().sum()"
      ]
    },
    {
      "cell_type": "markdown",
      "metadata": {
        "id": "AUOnzgWU2Cmf"
      },
      "source": [
        "<h2>Dropping unwanted observations</h2>"
      ]
    },
    {
      "cell_type": "code",
      "execution_count": 111,
      "metadata": {
        "colab": {
          "base_uri": "https://localhost:8080/"
        },
        "id": "MWpTc7LW2Cmf",
        "outputId": "25ac3b30-b0bd-4db9-db1a-153e37a510f7"
      },
      "outputs": [
        {
          "output_type": "execute_result",
          "data": {
            "text/plain": [
              "(16117, 17)"
            ]
          },
          "metadata": {},
          "execution_count": 111
        }
      ],
      "source": [
        "#removing duplicates in the dataset\n",
        "df=df.drop_duplicates()\n",
        "df.shape"
      ]
    },
    {
      "cell_type": "markdown",
      "metadata": {
        "id": "Q-5xE6a42Cmf"
      },
      "source": [
        "<p>\n",
        "    There are some properties that will be removed in the dataset which includes:\n",
        "    <ul>\n",
        "        <li>Property types-land,commercial property,event centers since we are interested in habitable premises such as apartments and houses.</li>\n",
        "    </ul>\n",
        "</p>\n",
        "    "
      ]
    },
    {
      "cell_type": "code",
      "execution_count": 112,
      "metadata": {
        "id": "l8b3VPwC2Cmf"
      },
      "outputs": [],
      "source": [
        "df=df.loc[(df['type']=='House')| (df['type']=='Apartment')]"
      ]
    },
    {
      "cell_type": "markdown",
      "metadata": {
        "id": "k78rbKEY2Cmu"
      },
      "source": [
        "<ul>\n",
        "    <li>Remove properties with joint venture attribute in category</li>\n",
        "<ul>"
      ]
    },
    {
      "cell_type": "code",
      "execution_count": 113,
      "metadata": {
        "id": "B-Up-u232Cmu"
      },
      "outputs": [],
      "source": [
        "df=df.loc[(df['category']!='Joint Venture')]"
      ]
    },
    {
      "cell_type": "markdown",
      "metadata": {
        "id": "TvgV2tgA2Cmu"
      },
      "source": [
        "<ul>\n",
        "    <li>Remove properties with per day attribute in price qualifier</li>\n",
        "<ul>"
      ]
    },
    {
      "cell_type": "code",
      "execution_count": 114,
      "metadata": {
        "colab": {
          "base_uri": "https://localhost:8080/"
        },
        "id": "pCTpWG0R2Cmu",
        "outputId": "ec349c95-8e4f-408d-9c1f-676489c8b840"
      },
      "outputs": [
        {
          "output_type": "execute_result",
          "data": {
            "text/plain": [
              "(61, 17)"
            ]
          },
          "metadata": {},
          "execution_count": 114
        }
      ],
      "source": [
        "df.loc[(df['price_qualifier']=='per day')].shape"
      ]
    },
    {
      "cell_type": "code",
      "execution_count": 115,
      "metadata": {
        "colab": {
          "base_uri": "https://localhost:8080/"
        },
        "id": "dyhGnYWw2Cmu",
        "outputId": "8e38adae-b6e6-4e04-808b-0d179a15457c"
      },
      "outputs": [
        {
          "output_type": "execute_result",
          "data": {
            "text/plain": [
              "(0, 17)"
            ]
          },
          "metadata": {},
          "execution_count": 115
        }
      ],
      "source": [
        "df=df.loc[(df['price_qualifier'])!='per day']\n",
        "df.loc[(df['price_qualifier']=='per day')].shape"
      ]
    },
    {
      "cell_type": "markdown",
      "metadata": {
        "id": "jeeF5foB2Cmv"
      },
      "source": [
        "<ul>\n",
        "    <li>Properties with price of zero</li>\n",
        "<ul>"
      ]
    },
    {
      "cell_type": "code",
      "execution_count": 116,
      "metadata": {
        "colab": {
          "base_uri": "https://localhost:8080/"
        },
        "id": "LMVC-5Pm2Cmv",
        "outputId": "dd841735-ea60-4ccf-ca99-257e7eb1d85a"
      },
      "outputs": [
        {
          "output_type": "execute_result",
          "data": {
            "text/plain": [
              "(61, 17)"
            ]
          },
          "metadata": {},
          "execution_count": 116
        }
      ],
      "source": [
        "df.loc[(df['price']==0)].shape"
      ]
    },
    {
      "cell_type": "code",
      "execution_count": 117,
      "metadata": {
        "colab": {
          "base_uri": "https://localhost:8080/"
        },
        "id": "BGEHXEuT2Cmv",
        "outputId": "a298ddca-751d-4d1a-e9dc-433dcc9ce47f"
      },
      "outputs": [
        {
          "output_type": "execute_result",
          "data": {
            "text/plain": [
              "(0, 17)"
            ]
          },
          "metadata": {},
          "execution_count": 117
        }
      ],
      "source": [
        "df=df.loc[(df['price'])!=0]\n",
        "df.loc[(df['price']==0)].shape"
      ]
    },
    {
      "cell_type": "markdown",
      "metadata": {
        "id": "W57VOm6l2Cmv"
      },
      "source": [
        "<ul>\n",
        "    <li>Properties that have no toilets and bathrooms.</li>\n",
        "    <sub>we did not remove toilet==0 Or bathrooms==0 since some properties may combine toilet and bathroom into a shared facility</sub>\n",
        "</ul>"
      ]
    },
    {
      "cell_type": "code",
      "execution_count": 118,
      "metadata": {
        "colab": {
          "base_uri": "https://localhost:8080/"
        },
        "id": "tYyQtedn2Cmv",
        "outputId": "b8873656-a91a-4fe4-ccae-20472b35c576"
      },
      "outputs": [
        {
          "output_type": "execute_result",
          "data": {
            "text/plain": [
              "(2227, 17)"
            ]
          },
          "metadata": {},
          "execution_count": 118
        }
      ],
      "source": [
        "df.loc[(df['toilets']==0)&(df['bathrooms']==0)].shape"
      ]
    },
    {
      "cell_type": "code",
      "execution_count": 119,
      "metadata": {
        "colab": {
          "base_uri": "https://localhost:8080/"
        },
        "id": "emXK1QoU2Cmw",
        "outputId": "24438636-55b4-4dbb-86b9-598f7bc51568"
      },
      "outputs": [
        {
          "output_type": "execute_result",
          "data": {
            "text/plain": [
              "(0, 17)"
            ]
          },
          "metadata": {},
          "execution_count": 119
        }
      ],
      "source": [
        "df=df.loc[~((df['toilets']==0)&(df['bathrooms']==0))]\n",
        "df.loc[(df['toilets']==0)&(df['bathrooms']==0)].shape"
      ]
    },
    {
      "cell_type": "markdown",
      "metadata": {
        "id": "E4KcSUC22Cmw"
      },
      "source": [
        "<ul>\n",
        "    <li>Properties that have missing value for the locality column.</li>\n",
        "</ul>"
      ]
    },
    {
      "cell_type": "code",
      "execution_count": 120,
      "metadata": {
        "colab": {
          "base_uri": "https://localhost:8080/"
        },
        "id": "-wgwpgv22Cmw",
        "outputId": "e4280808-8515-40d0-8568-4bad48685f32"
      },
      "outputs": [
        {
          "output_type": "execute_result",
          "data": {
            "text/plain": [
              "(3, 17)"
            ]
          },
          "metadata": {},
          "execution_count": 120
        }
      ],
      "source": [
        "df.loc[(df['locality']=='Missing')].shape"
      ]
    },
    {
      "cell_type": "code",
      "execution_count": 121,
      "metadata": {
        "colab": {
          "base_uri": "https://localhost:8080/"
        },
        "id": "G5JyJ4Fy2Cmw",
        "outputId": "8485c2c8-fc9b-48e5-bb3d-bcfb23a359db"
      },
      "outputs": [
        {
          "output_type": "execute_result",
          "data": {
            "text/plain": [
              "(0, 17)"
            ]
          },
          "metadata": {},
          "execution_count": 121
        }
      ],
      "source": [
        "df=df.loc[~(df['locality']=='Missing')]\n",
        "df.loc[(df['locality']=='Missing')].shape"
      ]
    },
    {
      "cell_type": "markdown",
      "metadata": {
        "id": "mB46mC2k2Cmw"
      },
      "source": [
        "<ul>\n",
        "    <li>Bedsitters with bedrooms</li>\n",
        "<ul>"
      ]
    },
    {
      "cell_type": "code",
      "execution_count": 122,
      "metadata": {
        "colab": {
          "base_uri": "https://localhost:8080/"
        },
        "id": "OQW5oTuh2Cmw",
        "outputId": "c1bbfa02-3037-4278-ca0b-3e4988cb9401"
      },
      "outputs": [
        {
          "output_type": "execute_result",
          "data": {
            "text/plain": [
              "(3, 17)"
            ]
          },
          "metadata": {},
          "execution_count": 122
        }
      ],
      "source": [
        "df.loc[(df['sub_type']=='Bedsitter (Single Room)')&(df['bedrooms']!=0)].shape"
      ]
    },
    {
      "cell_type": "code",
      "execution_count": 123,
      "metadata": {
        "colab": {
          "base_uri": "https://localhost:8080/"
        },
        "id": "D1PssW862Cmw",
        "outputId": "e89dab00-2f64-4be3-b32c-d6d7a02728b5"
      },
      "outputs": [
        {
          "output_type": "execute_result",
          "data": {
            "text/plain": [
              "(0, 17)"
            ]
          },
          "metadata": {},
          "execution_count": 123
        }
      ],
      "source": [
        "df=df.loc[~((df['sub_type']=='Bedsitter (Single Room)')&(df['bedrooms']!=0))]\n",
        "df.loc[(df['sub_type']=='Bedsitter (Single Room)')&(df['bedrooms']!=0)].shape"
      ]
    },
    {
      "cell_type": "markdown",
      "metadata": {
        "id": "ox17CaB82Cmx"
      },
      "source": [
        "<ul>\n",
        "    <li>some house types should not be having zero number of bedrooms</li>\n",
        "<ul>"
      ]
    },
    {
      "cell_type": "code",
      "execution_count": 124,
      "metadata": {
        "colab": {
          "base_uri": "https://localhost:8080/"
        },
        "id": "YMPhH23T2Cmx",
        "outputId": "5af53bf0-5a73-4404-c284-1d6ea62bb764"
      },
      "outputs": [
        {
          "output_type": "execute_result",
          "data": {
            "text/plain": [
              "Townhouse            2\n",
              "Missing              1\n",
              "Detached Bungalow    1\n",
              "Name: sub_type, dtype: int64"
            ]
          },
          "metadata": {},
          "execution_count": 124
        }
      ],
      "source": [
        "df.loc[(df['bedrooms']==0)&(df['type']=='House')].sub_type.value_counts()"
      ]
    },
    {
      "cell_type": "code",
      "execution_count": 125,
      "metadata": {
        "colab": {
          "base_uri": "https://localhost:8080/"
        },
        "id": "sSj1lt6J2Cmx",
        "outputId": "722e7b84-7fac-494a-f320-70c5a79d2b28"
      },
      "outputs": [
        {
          "output_type": "execute_result",
          "data": {
            "text/plain": [
              "(0, 17)"
            ]
          },
          "metadata": {},
          "execution_count": 125
        }
      ],
      "source": [
        "df=df.loc[~((df['bedrooms']==0)&(df['type']=='House'))]\n",
        "df.loc[(df['bedrooms']==0)&(df['type']=='House')].shape"
      ]
    },
    {
      "cell_type": "code",
      "execution_count": 126,
      "metadata": {
        "id": "AP5VOdEN2Cmx"
      },
      "outputs": [],
      "source": [
        "#replace rental price for this property\n",
        "df.loc[(df['id']==554,'price')]=28000"
      ]
    },
    {
      "cell_type": "markdown",
      "metadata": {
        "id": "OPEhyuY52Cmx"
      },
      "source": [
        "<h2>Removing unwanted outliers</h2>"
      ]
    },
    {
      "cell_type": "code",
      "execution_count": 127,
      "metadata": {
        "colab": {
          "base_uri": "https://localhost:8080/"
        },
        "id": "Tm9cNjfo2Cmx",
        "outputId": "2bc76f6f-78fe-4dba-f08c-be1a2547b52b"
      },
      "outputs": [
        {
          "output_type": "execute_result",
          "data": {
            "text/plain": [
              "(9505, 17)"
            ]
          },
          "metadata": {},
          "execution_count": 127
        }
      ],
      "source": [
        "df.shape"
      ]
    },
    {
      "cell_type": "code",
      "execution_count": 128,
      "metadata": {
        "id": "-yaEHMMt2Cmx"
      },
      "outputs": [],
      "source": [
        "df_rental=df[df.category == 'For Rent']\n",
        "df_sale=df[df.category=='For Sale']"
      ]
    },
    {
      "cell_type": "code",
      "execution_count": 129,
      "metadata": {
        "colab": {
          "base_uri": "https://localhost:8080/",
          "height": 466
        },
        "id": "omCjsE002Cmy",
        "outputId": "db994ba8-9fd0-4bfe-cbd3-5aa5006b5bdf"
      },
      "outputs": [
        {
          "output_type": "execute_result",
          "data": {
            "text/plain": [
              "<Axes: xlabel='bedrooms'>"
            ]
          },
          "metadata": {},
          "execution_count": 129
        },
        {
          "output_type": "display_data",
          "data": {
            "text/plain": [
              "<Figure size 640x480 with 1 Axes>"
            ],
            "image/png": "[encoded data removed]"
          },
          "metadata": {}
        }
      ],
      "source": [
        "sns.violinplot(x= 'bedrooms', data=df)"
      ]
    },
    {
      "cell_type": "code",
      "execution_count": 130,
      "metadata": {
        "colab": {
          "base_uri": "https://localhost:8080/",
          "height": 591
        },
        "id": "mN8vklms2Cmy",
        "outputId": "079bf63f-6ec4-4007-994d-9130905d57da"
      },
      "outputs": [
        {
          "output_type": "execute_result",
          "data": {
            "text/plain": [
              "          id        price price_qualifier  bedrooms  bathrooms  toilets  \\\n",
              "15282  15290     213123.0         Missing      1231          1      1.0   \n",
              "3419    3420   28000000.0         Missing        50         20      0.0   \n",
              "16029  16037   50000000.0         Missing        44          4      4.0   \n",
              "7620    7621     110000.0       per month        43          3      0.0   \n",
              "10436  10437    6200000.0         Missing        32          2      2.0   \n",
              "14499  14507      12000.0       per month        11          1      1.0   \n",
              "14887  14895  100000000.0         Missing        10          8     10.0   \n",
              "14729  14737  110000000.0         Missing        10         10     10.0   \n",
              "14728  14736     650000.0         Missing        10         10     10.0   \n",
              "14686  14694  140000000.0         Missing        10          9      2.0   \n",
              "\n",
              "       furnished  serviced  shared  parking  category       type  \\\n",
              "15282          1         0       0        1  For Rent      House   \n",
              "3419           0         0       0        0  For Sale  Apartment   \n",
              "16029          0         0       0        6  For Sale      House   \n",
              "7620           0         0       0        0  For Rent      House   \n",
              "10436          1         0       0        1  For Sale      House   \n",
              "14499          0         0       0        1  For Rent      House   \n",
              "14887          0         0       0        0  For Sale      House   \n",
              "14729          0         0       0        0  For Sale      House   \n",
              "14728          0         0       0        0  For Rent      House   \n",
              "14686          0         0       0        0  For Sale      House   \n",
              "\n",
              "                     sub_type    state    locality sub_locality  \\\n",
              "15282       Detached Bungalow   Kiambu      Kinale      Missing   \n",
              "3419                  Missing   Kiambu      Kikuyu      Missing   \n",
              "16029               Townhouse  Kajiado       Ngong      Missing   \n",
              "7620     Semi-detached Duplex  Nairobi  Kileleshwa      Missing   \n",
              "10436                 Missing   Kiambu      Kikuyu      Missing   \n",
              "14499  Semi-detached Bungalow   Kiambu        Juja      Missing   \n",
              "14887                 Missing  Nairobi       Karen      Missing   \n",
              "14729               Townhouse  Nairobi       Karen      Missing   \n",
              "14728               Townhouse  Nairobi       Karen      Missing   \n",
              "14686         Detached Duplex  Nairobi       Karen      Missing   \n",
              "\n",
              "               listdate  \n",
              "15282  30/04/2023 09:46  \n",
              "3419   29/07/2021 13:49  \n",
              "16029  13/06/2023 18:07  \n",
              "7620   26/08/2021 15:11  \n",
              "10436  13/10/2022 16:51  \n",
              "14499  15/03/2023 09:12  \n",
              "14887  04/04/2023 10:58  \n",
              "14729  26/03/2023 17:02  \n",
              "14728  26/03/2023 16:28  \n",
              "14686  24/03/2023 14:21  "
            ],
            "text/html": [
              "\n",
              "  <div id=\"df-02ef4ef4-8156-48d6-8ba4-3f94e228a9a9\" class=\"colab-df-container\">\n",
              "    <div>\n",
              "<style scoped>\n",
              "    .dataframe tbody tr th:only-of-type {\n",
              "        vertical-align: middle;\n",
              "    }\n",
              "\n",
              "    .dataframe tbody tr th {\n",
              "        vertical-align: top;\n",
              "    }\n",
              "\n",
              "    .dataframe thead th {\n",
              "        text-align: right;\n",
              "    }\n",
              "</style>\n",
              "<table border=\"1\" class=\"dataframe\">\n",
              "  <thead>\n",
              "    <tr style=\"text-align: right;\">\n",
              "      <th></th>\n",
              "      <th>id</th>\n",
              "      <th>price</th>\n",
              "      <th>price_qualifier</th>\n",
              "      <th>bedrooms</th>\n",
              "      <th>bathrooms</th>\n",
              "      <th>toilets</th>\n",
              "      <th>furnished</th>\n",
              "      <th>serviced</th>\n",
              "      <th>shared</th>\n",
              "      <th>parking</th>\n",
              "      <th>category</th>\n",
              "      <th>type</th>\n",
              "      <th>sub_type</th>\n",
              "      <th>state</th>\n",
              "      <th>locality</th>\n",
              "      <th>sub_locality</th>\n",
              "      <th>listdate</th>\n",
              "    </tr>\n",
              "  </thead>\n",
              "  <tbody>\n",
              "    <tr>\n",
              "      <th>15282</th>\n",
              "      <td>15290</td>\n",
              "      <td>213123.0</td>\n",
              "      <td>Missing</td>\n",
              "      <td>1231</td>\n",
              "      <td>1</td>\n",
              "      <td>1.0</td>\n",
              "      <td>1</td>\n",
              "      <td>0</td>\n",
              "      <td>0</td>\n",
              "      <td>1</td>\n",
              "      <td>For Rent</td>\n",
              "      <td>House</td>\n",
              "      <td>Detached Bungalow</td>\n",
              "      <td>Kiambu</td>\n",
              "      <td>Kinale</td>\n",
              "      <td>Missing</td>\n",
              "      <td>30/04/2023 09:46</td>\n",
              "    </tr>\n",
              "    <tr>\n",
              "      <th>3419</th>\n",
              "      <td>3420</td>\n",
              "      <td>28000000.0</td>\n",
              "      <td>Missing</td>\n",
              "      <td>50</td>\n",
              "      <td>20</td>\n",
              "      <td>0.0</td>\n",
              "      <td>0</td>\n",
              "      <td>0</td>\n",
              "      <td>0</td>\n",
              "      <td>0</td>\n",
              "      <td>For Sale</td>\n",
              "      <td>Apartment</td>\n",
              "      <td>Missing</td>\n",
              "      <td>Kiambu</td>\n",
              "      <td>Kikuyu</td>\n",
              "      <td>Missing</td>\n",
              "      <td>29/07/2021 13:49</td>\n",
              "    </tr>\n",
              "    <tr>\n",
              "      <th>16029</th>\n",
              "      <td>16037</td>\n",
              "      <td>50000000.0</td>\n",
              "      <td>Missing</td>\n",
              "      <td>44</td>\n",
              "      <td>4</td>\n",
              "      <td>4.0</td>\n",
              "      <td>0</td>\n",
              "      <td>0</td>\n",
              "      <td>0</td>\n",
              "      <td>6</td>\n",
              "      <td>For Sale</td>\n",
              "      <td>House</td>\n",
              "      <td>Townhouse</td>\n",
              "      <td>Kajiado</td>\n",
              "      <td>Ngong</td>\n",
              "      <td>Missing</td>\n",
              "      <td>13/06/2023 18:07</td>\n",
              "    </tr>\n",
              "    <tr>\n",
              "      <th>7620</th>\n",
              "      <td>7621</td>\n",
              "      <td>110000.0</td>\n",
              "      <td>per month</td>\n",
              "      <td>43</td>\n",
              "      <td>3</td>\n",
              "      <td>0.0</td>\n",
              "      <td>0</td>\n",
              "      <td>0</td>\n",
              "      <td>0</td>\n",
              "      <td>0</td>\n",
              "      <td>For Rent</td>\n",
              "      <td>House</td>\n",
              "      <td>Semi-detached Duplex</td>\n",
              "      <td>Nairobi</td>\n",
              "      <td>Kileleshwa</td>\n",
              "      <td>Missing</td>\n",
              "      <td>26/08/2021 15:11</td>\n",
              "    </tr>\n",
              "    <tr>\n",
              "      <th>10436</th>\n",
              "      <td>10437</td>\n",
              "      <td>6200000.0</td>\n",
              "      <td>Missing</td>\n",
              "      <td>32</td>\n",
              "      <td>2</td>\n",
              "      <td>2.0</td>\n",
              "      <td>1</td>\n",
              "      <td>0</td>\n",
              "      <td>0</td>\n",
              "      <td>1</td>\n",
              "      <td>For Sale</td>\n",
              "      <td>House</td>\n",
              "      <td>Missing</td>\n",
              "      <td>Kiambu</td>\n",
              "      <td>Kikuyu</td>\n",
              "      <td>Missing</td>\n",
              "      <td>13/10/2022 16:51</td>\n",
              "    </tr>\n",
              "    <tr>\n",
              "      <th>14499</th>\n",
              "      <td>14507</td>\n",
              "      <td>12000.0</td>\n",
              "      <td>per month</td>\n",
              "      <td>11</td>\n",
              "      <td>1</td>\n",
              "      <td>1.0</td>\n",
              "      <td>0</td>\n",
              "      <td>0</td>\n",
              "      <td>0</td>\n",
              "      <td>1</td>\n",
              "      <td>For Rent</td>\n",
              "      <td>House</td>\n",
              "      <td>Semi-detached Bungalow</td>\n",
              "      <td>Kiambu</td>\n",
              "      <td>Juja</td>\n",
              "      <td>Missing</td>\n",
              "      <td>15/03/2023 09:12</td>\n",
              "    </tr>\n",
              "    <tr>\n",
              "      <th>14887</th>\n",
              "      <td>14895</td>\n",
              "      <td>100000000.0</td>\n",
              "      <td>Missing</td>\n",
              "      <td>10</td>\n",
              "      <td>8</td>\n",
              "      <td>10.0</td>\n",
              "      <td>0</td>\n",
              "      <td>0</td>\n",
              "      <td>0</td>\n",
              "      <td>0</td>\n",
              "      <td>For Sale</td>\n",
              "      <td>House</td>\n",
              "      <td>Missing</td>\n",
              "      <td>Nairobi</td>\n",
              "      <td>Karen</td>\n",
              "      <td>Missing</td>\n",
              "      <td>04/04/2023 10:58</td>\n",
              "    </tr>\n",
              "    <tr>\n",
              "      <th>14729</th>\n",
              "      <td>14737</td>\n",
              "      <td>110000000.0</td>\n",
              "      <td>Missing</td>\n",
              "      <td>10</td>\n",
              "      <td>10</td>\n",
              "      <td>10.0</td>\n",
              "      <td>0</td>\n",
              "      <td>0</td>\n",
              "      <td>0</td>\n",
              "      <td>0</td>\n",
              "      <td>For Sale</td>\n",
              "      <td>House</td>\n",
              "      <td>Townhouse</td>\n",
              "      <td>Nairobi</td>\n",
              "      <td>Karen</td>\n",
              "      <td>Missing</td>\n",
              "      <td>26/03/2023 17:02</td>\n",
              "    </tr>\n",
              "    <tr>\n",
              "      <th>14728</th>\n",
              "      <td>14736</td>\n",
              "      <td>650000.0</td>\n",
              "      <td>Missing</td>\n",
              "      <td>10</td>\n",
              "      <td>10</td>\n",
              "      <td>10.0</td>\n",
              "      <td>0</td>\n",
              "      <td>0</td>\n",
              "      <td>0</td>\n",
              "      <td>0</td>\n",
              "      <td>For Rent</td>\n",
              "      <td>House</td>\n",
              "      <td>Townhouse</td>\n",
              "      <td>Nairobi</td>\n",
              "      <td>Karen</td>\n",
              "      <td>Missing</td>\n",
              "      <td>26/03/2023 16:28</td>\n",
              "    </tr>\n",
              "    <tr>\n",
              "      <th>14686</th>\n",
              "      <td>14694</td>\n",
              "      <td>140000000.0</td>\n",
              "      <td>Missing</td>\n",
              "      <td>10</td>\n",
              "      <td>9</td>\n",
              "      <td>2.0</td>\n",
              "      <td>0</td>\n",
              "      <td>0</td>\n",
              "      <td>0</td>\n",
              "      <td>0</td>\n",
              "      <td>For Sale</td>\n",
              "      <td>House</td>\n",
              "      <td>Detached Duplex</td>\n",
              "      <td>Nairobi</td>\n",
              "      <td>Karen</td>\n",
              "      <td>Missing</td>\n",
              "      <td>24/03/2023 14:21</td>\n",
              "    </tr>\n",
              "  </tbody>\n",
              "</table>\n",
              "</div>\n",
              "    <div class=\"colab-df-buttons\">\n",
              "\n",
              "  <div class=\"colab-df-container\">\n",
              "    <button class=\"colab-df-convert\" onclick=\"convertToInteractive('df-02ef4ef4-8156-48d6-8ba4-3f94e228a9a9')\"\n",
              "            title=\"Convert this dataframe to an interactive table.\"\n",
              "            style=\"display:none;\">\n",
              "\n",
              "  <svg xmlns=\"http://www.w3.org/2000/svg\" height=\"24px\" viewBox=\"0 -960 960 960\">\n",
              "    <path d=\"M120-120v-720h720v720H120Zm60-500h600v-160H180v160Zm220 220h160v-160H400v160Zm0 220h160v-160H400v160ZM180-400h160v-160H180v160Zm440 0h160v-160H620v160ZM180-180h160v-160H180v160Zm440 0h160v-160H620v160Z\"/>\n",
              "  </svg>\n",
              "    </button>\n",
              "\n",
              "  <style>\n",
              "    .colab-df-container {\n",
              "      display:flex;\n",
              "      gap: 12px;\n",
              "    }\n",
              "\n",
              "    .colab-df-convert {\n",
              "      background-color: #E8F0FE;\n",
              "      border: none;\n",
              "      border-radius: 50%;\n",
              "      cursor: pointer;\n",
              "      display: none;\n",
              "      fill: #1967D2;\n",
              "      height: 32px;\n",
              "      padding: 0 0 0 0;\n",
              "      width: 32px;\n",
              "    }\n",
              "\n",
              "    .colab-df-convert:hover {\n",
              "      background-color: #E2EBFA;\n",
              "      box-shadow: 0px 1px 2px rgba(60, 64, 67, 0.3), 0px 1px 3px 1px rgba(60, 64, 67, 0.15);\n",
              "      fill: #174EA6;\n",
              "    }\n",
              "\n",
              "    .colab-df-buttons div {\n",
              "      margin-bottom: 4px;\n",
              "    }\n",
              "\n",
              "    [theme=dark] .colab-df-convert {\n",
              "      background-color: #3B4455;\n",
              "      fill: #D2E3FC;\n",
              "    }\n",
              "\n",
              "    [theme=dark] .colab-df-convert:hover {\n",
              "      background-color: #434B5C;\n",
              "      box-shadow: 0px 1px 3px 1px rgba(0, 0, 0, 0.15);\n",
              "      filter: drop-shadow(0px 1px 2px rgba(0, 0, 0, 0.3));\n",
              "      fill: #FFFFFF;\n",
              "    }\n",
              "  </style>\n",
              "\n",
              "    <script>\n",
              "      const buttonEl =\n",
              "        document.querySelector('#df-02ef4ef4-8156-48d6-8ba4-3f94e228a9a9 button.colab-df-convert');\n",
              "      buttonEl.style.display =\n",
              "        google.colab.kernel.accessAllowed ? 'block' : 'none';\n",
              "\n",
              "      async function convertToInteractive(key) {\n",
              "        const element = document.querySelector('#df-02ef4ef4-8156-48d6-8ba4-3f94e228a9a9');\n",
              "        const dataTable =\n",
              "          await google.colab.kernel.invokeFunction('convertToInteractive',\n",
              "                                                    [key], {});\n",
              "        if (!dataTable) return;\n",
              "\n",
              "        const docLinkHtml = 'Like what you see? Visit the ' +\n",
              "          '<a target=\"_blank\" href=https://colab.research.google.com/notebooks/data_table.ipynb>data table notebook</a>'\n",
              "          + ' to learn more about interactive tables.';\n",
              "        element.innerHTML = '';\n",
              "        dataTable['output_type'] = 'display_data';\n",
              "        await google.colab.output.renderOutput(dataTable, element);\n",
              "        const docLink = document.createElement('div');\n",
              "        docLink.innerHTML = docLinkHtml;\n",
              "        element.appendChild(docLink);\n",
              "      }\n",
              "    </script>\n",
              "  </div>\n",
              "\n",
              "\n",
              "<div id=\"df-72c13ff3-28fb-4d82-803d-f8988f333593\">\n",
              "  <button class=\"colab-df-quickchart\" onclick=\"quickchart('df-72c13ff3-28fb-4d82-803d-f8988f333593')\"\n",
              "            title=\"Suggest charts.\"\n",
              "            style=\"display:none;\">\n",
              "\n",
              "<svg xmlns=\"http://www.w3.org/2000/svg\" height=\"24px\"viewBox=\"0 0 24 24\"\n",
              "     width=\"24px\">\n",
              "    <g>\n",
              "        <path d=\"M19 3H5c-1.1 0-2 .9-2 2v14c0 1.1.9 2 2 2h14c1.1 0 2-.9 2-2V5c0-1.1-.9-2-2-2zM9 17H7v-7h2v7zm4 0h-2V7h2v10zm4 0h-2v-4h2v4z\"/>\n",
              "    </g>\n",
              "</svg>\n",
              "  </button>\n",
              "\n",
              "<style>\n",
              "  .colab-df-quickchart {\n",
              "      --bg-color: #E8F0FE;\n",
              "      --fill-color: #1967D2;\n",
              "      --hover-bg-color: #E2EBFA;\n",
              "      --hover-fill-color: #174EA6;\n",
              "      --disabled-fill-color: #AAA;\n",
              "      --disabled-bg-color: #DDD;\n",
              "  }\n",
              "\n",
              "  [theme=dark] .colab-df-quickchart {\n",
              "      --bg-color: #3B4455;\n",
              "      --fill-color: #D2E3FC;\n",
              "      --hover-bg-color: #434B5C;\n",
              "      --hover-fill-color: #FFFFFF;\n",
              "      --disabled-bg-color: #3B4455;\n",
              "      --disabled-fill-color: #666;\n",
              "  }\n",
              "\n",
              "  .colab-df-quickchart {\n",
              "    background-color: var(--bg-color);\n",
              "    border: none;\n",
              "    border-radius: 50%;\n",
              "    cursor: pointer;\n",
              "    display: none;\n",
              "    fill: var(--fill-color);\n",
              "    height: 32px;\n",
              "    padding: 0;\n",
              "    width: 32px;\n",
              "  }\n",
              "\n",
              "  .colab-df-quickchart:hover {\n",
              "    background-color: var(--hover-bg-color);\n",
              "    box-shadow: 0 1px 2px rgba(60, 64, 67, 0.3), 0 1px 3px 1px rgba(60, 64, 67, 0.15);\n",
              "    fill: var(--button-hover-fill-color);\n",
              "  }\n",
              "\n",
              "  .colab-df-quickchart-complete:disabled,\n",
              "  .colab-df-quickchart-complete:disabled:hover {\n",
              "    background-color: var(--disabled-bg-color);\n",
              "    fill: var(--disabled-fill-color);\n",
              "    box-shadow: none;\n",
              "  }\n",
              "\n",
              "  .colab-df-spinner {\n",
              "    border: 2px solid var(--fill-color);\n",
              "    border-color: transparent;\n",
              "    border-bottom-color: var(--fill-color);\n",
              "    animation:\n",
              "      spin 1s steps(1) infinite;\n",
              "  }\n",
              "\n",
              "  @keyframes spin {\n",
              "    0% {\n",
              "      border-color: transparent;\n",
              "      border-bottom-color: var(--fill-color);\n",
              "      border-left-color: var(--fill-color);\n",
              "    }\n",
              "    20% {\n",
              "      border-color: transparent;\n",
              "      border-left-color: var(--fill-color);\n",
              "      border-top-color: var(--fill-color);\n",
              "    }\n",
              "    30% {\n",
              "      border-color: transparent;\n",
              "      border-left-color: var(--fill-color);\n",
              "      border-top-color: var(--fill-color);\n",
              "      border-right-color: var(--fill-color);\n",
              "    }\n",
              "    40% {\n",
              "      border-color: transparent;\n",
              "      border-right-color: var(--fill-color);\n",
              "      border-top-color: var(--fill-color);\n",
              "    }\n",
              "    60% {\n",
              "      border-color: transparent;\n",
              "      border-right-color: var(--fill-color);\n",
              "    }\n",
              "    80% {\n",
              "      border-color: transparent;\n",
              "      border-right-color: var(--fill-color);\n",
              "      border-bottom-color: var(--fill-color);\n",
              "    }\n",
              "    90% {\n",
              "      border-color: transparent;\n",
              "      border-bottom-color: var(--fill-color);\n",
              "    }\n",
              "  }\n",
              "</style>\n",
              "\n",
              "  <script>\n",
              "    async function quickchart(key) {\n",
              "      const quickchartButtonEl =\n",
              "        document.querySelector('#' + key + ' button');\n",
              "      quickchartButtonEl.disabled = true;  // To prevent multiple clicks.\n",
              "      quickchartButtonEl.classList.add('colab-df-spinner');\n",
              "      try {\n",
              "        const charts = await google.colab.kernel.invokeFunction(\n",
              "            'suggestCharts', [key], {});\n",
              "      } catch (error) {\n",
              "        console.error('Error during call to suggestCharts:', error);\n",
              "      }\n",
              "      quickchartButtonEl.classList.remove('colab-df-spinner');\n",
              "      quickchartButtonEl.classList.add('colab-df-quickchart-complete');\n",
              "    }\n",
              "    (() => {\n",
              "      let quickchartButtonEl =\n",
              "        document.querySelector('#df-72c13ff3-28fb-4d82-803d-f8988f333593 button');\n",
              "      quickchartButtonEl.style.display =\n",
              "        google.colab.kernel.accessAllowed ? 'block' : 'none';\n",
              "    })();\n",
              "  </script>\n",
              "</div>\n",
              "    </div>\n",
              "  </div>\n"
            ]
          },
          "metadata": {},
          "execution_count": 130
        }
      ],
      "source": [
        "df.loc[(df['bedrooms']>6)].sort_values(by='bedrooms',ascending=False).head(10)"
      ]
    },
    {
      "cell_type": "code",
      "execution_count": 131,
      "metadata": {
        "colab": {
          "base_uri": "https://localhost:8080/"
        },
        "id": "zICQcAlE2Cmy",
        "outputId": "7a4be547-4b35-4370-db02-9c70e6bf4def"
      },
      "outputs": [
        {
          "output_type": "execute_result",
          "data": {
            "text/plain": [
              "(9483, 17)"
            ]
          },
          "metadata": {},
          "execution_count": 131
        }
      ],
      "source": [
        "#remove properties with more than 10\n",
        "df = df[df.bedrooms <= 8]\n",
        "df.shape"
      ]
    },
    {
      "cell_type": "code",
      "execution_count": 132,
      "metadata": {
        "colab": {
          "base_uri": "https://localhost:8080/",
          "height": 466
        },
        "id": "dphHHbJ-2Cmy",
        "outputId": "cd2d3d02-2275-4c27-f04f-5b1ceb03979d"
      },
      "outputs": [
        {
          "output_type": "execute_result",
          "data": {
            "text/plain": [
              "<Axes: xlabel='bathrooms'>"
            ]
          },
          "metadata": {},
          "execution_count": 132
        },
        {
          "output_type": "display_data",
          "data": {
            "text/plain": [
              "<Figure size 640x480 with 1 Axes>"
            ],
            "image/png": "[encoded data removed]"
          },
          "metadata": {}
        }
      ],
      "source": [
        "sns.violinplot(x= 'bathrooms', data=df)"
      ]
    },
    {
      "cell_type": "code",
      "execution_count": 133,
      "metadata": {
        "colab": {
          "base_uri": "https://localhost:8080/",
          "height": 556
        },
        "id": "z1iuVbKw2Cmy",
        "outputId": "da582b26-5e4b-47f0-a55b-087c7f5eb8bc"
      },
      "outputs": [
        {
          "output_type": "execute_result",
          "data": {
            "text/plain": [
              "          id        price price_qualifier  bedrooms  bathrooms  toilets  \\\n",
              "9664    9665  185000000.0         Missing         8          9      9.0   \n",
              "5911    5912   10000000.0         Missing         4         10      0.0   \n",
              "12881  12889      10000.0       per month         1         11      1.0   \n",
              "12750  12758      12000.0       per month         1         11      1.0   \n",
              "8813    8814    8500000.0         Missing         3         21      3.0   \n",
              "11489  11490      13000.0       per month         2         23      2.0   \n",
              "10477  10478   12250000.0         Missing         2         32      3.0   \n",
              "15731  15739     120000.0       per month         3         32      0.0   \n",
              "15882  15890      30000.0       per month         3         32      3.0   \n",
              "9764    9765   59000000.0         Missing         4         54      4.0   \n",
              "\n",
              "       furnished  serviced  shared  parking  category       type  \\\n",
              "9664           0         0       0        5  For Sale      House   \n",
              "5911           0         0       0        0  For Sale      House   \n",
              "12881          0         0       0        1  For Rent      House   \n",
              "12750          0         0       0        1  For Rent      House   \n",
              "8813           0         0       0        1  For Sale  Apartment   \n",
              "11489          0         0       0        2  For Rent      House   \n",
              "10477          0         1       0        0  For Sale  Apartment   \n",
              "15731          0         0       0        2  For Rent  Apartment   \n",
              "15882          0         0       0        2  For Rent      House   \n",
              "9764           0         1       0        0  For Sale      House   \n",
              "\n",
              "              sub_type    state       locality sub_locality          listdate  \n",
              "9664           Missing  Nairobi      Westlands        Runda  07/09/2022 20:36  \n",
              "5911         Townhouse  Nairobi  Spring Valley      Missing  17/08/2021 15:38  \n",
              "12881          Missing  Mombasa          Tudor      Missing  25/01/2023 15:25  \n",
              "12750          Missing  Mombasa          Nyali      Missing  19/01/2023 13:28  \n",
              "8813           Missing   Kilifi         Mtwapa      Missing  22/06/2022 08:58  \n",
              "11489          Missing  Mombasa        Bamburi      Missing  30/11/2022 11:08  \n",
              "10477          Missing  Nairobi      Lavington      Missing  18/10/2022 11:28  \n",
              "15731          Missing  Nairobi      Westlands      Missing  31/05/2023 12:18  \n",
              "15882  Terraced Duplex   Nakuru         London      Missing  06/06/2023 18:04  \n",
              "9764         Townhouse  Mombasa          Nyali      Missing  14/09/2022 07:19  "
            ],
            "text/html": [
              "\n",
              "  <div id=\"df-dd979fa2-e166-49cb-9281-f3977770b9f9\" class=\"colab-df-container\">\n",
              "    <div>\n",
              "<style scoped>\n",
              "    .dataframe tbody tr th:only-of-type {\n",
              "        vertical-align: middle;\n",
              "    }\n",
              "\n",
              "    .dataframe tbody tr th {\n",
              "        vertical-align: top;\n",
              "    }\n",
              "\n",
              "    .dataframe thead th {\n",
              "        text-align: right;\n",
              "    }\n",
              "</style>\n",
              "<table border=\"1\" class=\"dataframe\">\n",
              "  <thead>\n",
              "    <tr style=\"text-align: right;\">\n",
              "      <th></th>\n",
              "      <th>id</th>\n",
              "      <th>price</th>\n",
              "      <th>price_qualifier</th>\n",
              "      <th>bedrooms</th>\n",
              "      <th>bathrooms</th>\n",
              "      <th>toilets</th>\n",
              "      <th>furnished</th>\n",
              "      <th>serviced</th>\n",
              "      <th>shared</th>\n",
              "      <th>parking</th>\n",
              "      <th>category</th>\n",
              "      <th>type</th>\n",
              "      <th>sub_type</th>\n",
              "      <th>state</th>\n",
              "      <th>locality</th>\n",
              "      <th>sub_locality</th>\n",
              "      <th>listdate</th>\n",
              "    </tr>\n",
              "  </thead>\n",
              "  <tbody>\n",
              "    <tr>\n",
              "      <th>9664</th>\n",
              "      <td>9665</td>\n",
              "      <td>185000000.0</td>\n",
              "      <td>Missing</td>\n",
              "      <td>8</td>\n",
              "      <td>9</td>\n",
              "      <td>9.0</td>\n",
              "      <td>0</td>\n",
              "      <td>0</td>\n",
              "      <td>0</td>\n",
              "      <td>5</td>\n",
              "      <td>For Sale</td>\n",
              "      <td>House</td>\n",
              "      <td>Missing</td>\n",
              "      <td>Nairobi</td>\n",
              "      <td>Westlands</td>\n",
              "      <td>Runda</td>\n",
              "      <td>07/09/2022 20:36</td>\n",
              "    </tr>\n",
              "    <tr>\n",
              "      <th>5911</th>\n",
              "      <td>5912</td>\n",
              "      <td>10000000.0</td>\n",
              "      <td>Missing</td>\n",
              "      <td>4</td>\n",
              "      <td>10</td>\n",
              "      <td>0.0</td>\n",
              "      <td>0</td>\n",
              "      <td>0</td>\n",
              "      <td>0</td>\n",
              "      <td>0</td>\n",
              "      <td>For Sale</td>\n",
              "      <td>House</td>\n",
              "      <td>Townhouse</td>\n",
              "      <td>Nairobi</td>\n",
              "      <td>Spring Valley</td>\n",
              "      <td>Missing</td>\n",
              "      <td>17/08/2021 15:38</td>\n",
              "    </tr>\n",
              "    <tr>\n",
              "      <th>12881</th>\n",
              "      <td>12889</td>\n",
              "      <td>10000.0</td>\n",
              "      <td>per month</td>\n",
              "      <td>1</td>\n",
              "      <td>11</td>\n",
              "      <td>1.0</td>\n",
              "      <td>0</td>\n",
              "      <td>0</td>\n",
              "      <td>0</td>\n",
              "      <td>1</td>\n",
              "      <td>For Rent</td>\n",
              "      <td>House</td>\n",
              "      <td>Missing</td>\n",
              "      <td>Mombasa</td>\n",
              "      <td>Tudor</td>\n",
              "      <td>Missing</td>\n",
              "      <td>25/01/2023 15:25</td>\n",
              "    </tr>\n",
              "    <tr>\n",
              "      <th>12750</th>\n",
              "      <td>12758</td>\n",
              "      <td>12000.0</td>\n",
              "      <td>per month</td>\n",
              "      <td>1</td>\n",
              "      <td>11</td>\n",
              "      <td>1.0</td>\n",
              "      <td>0</td>\n",
              "      <td>0</td>\n",
              "      <td>0</td>\n",
              "      <td>1</td>\n",
              "      <td>For Rent</td>\n",
              "      <td>House</td>\n",
              "      <td>Missing</td>\n",
              "      <td>Mombasa</td>\n",
              "      <td>Nyali</td>\n",
              "      <td>Missing</td>\n",
              "      <td>19/01/2023 13:28</td>\n",
              "    </tr>\n",
              "    <tr>\n",
              "      <th>8813</th>\n",
              "      <td>8814</td>\n",
              "      <td>8500000.0</td>\n",
              "      <td>Missing</td>\n",
              "      <td>3</td>\n",
              "      <td>21</td>\n",
              "      <td>3.0</td>\n",
              "      <td>0</td>\n",
              "      <td>0</td>\n",
              "      <td>0</td>\n",
              "      <td>1</td>\n",
              "      <td>For Sale</td>\n",
              "      <td>Apartment</td>\n",
              "      <td>Missing</td>\n",
              "      <td>Kilifi</td>\n",
              "      <td>Mtwapa</td>\n",
              "      <td>Missing</td>\n",
              "      <td>22/06/2022 08:58</td>\n",
              "    </tr>\n",
              "    <tr>\n",
              "      <th>11489</th>\n",
              "      <td>11490</td>\n",
              "      <td>13000.0</td>\n",
              "      <td>per month</td>\n",
              "      <td>2</td>\n",
              "      <td>23</td>\n",
              "      <td>2.0</td>\n",
              "      <td>0</td>\n",
              "      <td>0</td>\n",
              "      <td>0</td>\n",
              "      <td>2</td>\n",
              "      <td>For Rent</td>\n",
              "      <td>House</td>\n",
              "      <td>Missing</td>\n",
              "      <td>Mombasa</td>\n",
              "      <td>Bamburi</td>\n",
              "      <td>Missing</td>\n",
              "      <td>30/11/2022 11:08</td>\n",
              "    </tr>\n",
              "    <tr>\n",
              "      <th>10477</th>\n",
              "      <td>10478</td>\n",
              "      <td>12250000.0</td>\n",
              "      <td>Missing</td>\n",
              "      <td>2</td>\n",
              "      <td>32</td>\n",
              "      <td>3.0</td>\n",
              "      <td>0</td>\n",
              "      <td>1</td>\n",
              "      <td>0</td>\n",
              "      <td>0</td>\n",
              "      <td>For Sale</td>\n",
              "      <td>Apartment</td>\n",
              "      <td>Missing</td>\n",
              "      <td>Nairobi</td>\n",
              "      <td>Lavington</td>\n",
              "      <td>Missing</td>\n",
              "      <td>18/10/2022 11:28</td>\n",
              "    </tr>\n",
              "    <tr>\n",
              "      <th>15731</th>\n",
              "      <td>15739</td>\n",
              "      <td>120000.0</td>\n",
              "      <td>per month</td>\n",
              "      <td>3</td>\n",
              "      <td>32</td>\n",
              "      <td>0.0</td>\n",
              "      <td>0</td>\n",
              "      <td>0</td>\n",
              "      <td>0</td>\n",
              "      <td>2</td>\n",
              "      <td>For Rent</td>\n",
              "      <td>Apartment</td>\n",
              "      <td>Missing</td>\n",
              "      <td>Nairobi</td>\n",
              "      <td>Westlands</td>\n",
              "      <td>Missing</td>\n",
              "      <td>31/05/2023 12:18</td>\n",
              "    </tr>\n",
              "    <tr>\n",
              "      <th>15882</th>\n",
              "      <td>15890</td>\n",
              "      <td>30000.0</td>\n",
              "      <td>per month</td>\n",
              "      <td>3</td>\n",
              "      <td>32</td>\n",
              "      <td>3.0</td>\n",
              "      <td>0</td>\n",
              "      <td>0</td>\n",
              "      <td>0</td>\n",
              "      <td>2</td>\n",
              "      <td>For Rent</td>\n",
              "      <td>House</td>\n",
              "      <td>Terraced Duplex</td>\n",
              "      <td>Nakuru</td>\n",
              "      <td>London</td>\n",
              "      <td>Missing</td>\n",
              "      <td>06/06/2023 18:04</td>\n",
              "    </tr>\n",
              "    <tr>\n",
              "      <th>9764</th>\n",
              "      <td>9765</td>\n",
              "      <td>59000000.0</td>\n",
              "      <td>Missing</td>\n",
              "      <td>4</td>\n",
              "      <td>54</td>\n",
              "      <td>4.0</td>\n",
              "      <td>0</td>\n",
              "      <td>1</td>\n",
              "      <td>0</td>\n",
              "      <td>0</td>\n",
              "      <td>For Sale</td>\n",
              "      <td>House</td>\n",
              "      <td>Townhouse</td>\n",
              "      <td>Mombasa</td>\n",
              "      <td>Nyali</td>\n",
              "      <td>Missing</td>\n",
              "      <td>14/09/2022 07:19</td>\n",
              "    </tr>\n",
              "  </tbody>\n",
              "</table>\n",
              "</div>\n",
              "    <div class=\"colab-df-buttons\">\n",
              "\n",
              "  <div class=\"colab-df-container\">\n",
              "    <button class=\"colab-df-convert\" onclick=\"convertToInteractive('df-dd979fa2-e166-49cb-9281-f3977770b9f9')\"\n",
              "            title=\"Convert this dataframe to an interactive table.\"\n",
              "            style=\"display:none;\">\n",
              "\n",
              "  <svg xmlns=\"http://www.w3.org/2000/svg\" height=\"24px\" viewBox=\"0 -960 960 960\">\n",
              "    <path d=\"M120-120v-720h720v720H120Zm60-500h600v-160H180v160Zm220 220h160v-160H400v160Zm0 220h160v-160H400v160ZM180-400h160v-160H180v160Zm440 0h160v-160H620v160ZM180-180h160v-160H180v160Zm440 0h160v-160H620v160Z\"/>\n",
              "  </svg>\n",
              "    </button>\n",
              "\n",
              "  <style>\n",
              "    .colab-df-container {\n",
              "      display:flex;\n",
              "      gap: 12px;\n",
              "    }\n",
              "\n",
              "    .colab-df-convert {\n",
              "      background-color: #E8F0FE;\n",
              "      border: none;\n",
              "      border-radius: 50%;\n",
              "      cursor: pointer;\n",
              "      display: none;\n",
              "      fill: #1967D2;\n",
              "      height: 32px;\n",
              "      padding: 0 0 0 0;\n",
              "      width: 32px;\n",
              "    }\n",
              "\n",
              "    .colab-df-convert:hover {\n",
              "      background-color: #E2EBFA;\n",
              "      box-shadow: 0px 1px 2px rgba(60, 64, 67, 0.3), 0px 1px 3px 1px rgba(60, 64, 67, 0.15);\n",
              "      fill: #174EA6;\n",
              "    }\n",
              "\n",
              "    .colab-df-buttons div {\n",
              "      margin-bottom: 4px;\n",
              "    }\n",
              "\n",
              "    [theme=dark] .colab-df-convert {\n",
              "      background-color: #3B4455;\n",
              "      fill: #D2E3FC;\n",
              "    }\n",
              "\n",
              "    [theme=dark] .colab-df-convert:hover {\n",
              "      background-color: #434B5C;\n",
              "      box-shadow: 0px 1px 3px 1px rgba(0, 0, 0, 0.15);\n",
              "      filter: drop-shadow(0px 1px 2px rgba(0, 0, 0, 0.3));\n",
              "      fill: #FFFFFF;\n",
              "    }\n",
              "  </style>\n",
              "\n",
              "    <script>\n",
              "      const buttonEl =\n",
              "        document.querySelector('#df-dd979fa2-e166-49cb-9281-f3977770b9f9 button.colab-df-convert');\n",
              "      buttonEl.style.display =\n",
              "        google.colab.kernel.accessAllowed ? 'block' : 'none';\n",
              "\n",
              "      async function convertToInteractive(key) {\n",
              "        const element = document.querySelector('#df-dd979fa2-e166-49cb-9281-f3977770b9f9');\n",
              "        const dataTable =\n",
              "          await google.colab.kernel.invokeFunction('convertToInteractive',\n",
              "                                                    [key], {});\n",
              "        if (!dataTable) return;\n",
              "\n",
              "        const docLinkHtml = 'Like what you see? Visit the ' +\n",
              "          '<a target=\"_blank\" href=https://colab.research.google.com/notebooks/data_table.ipynb>data table notebook</a>'\n",
              "          + ' to learn more about interactive tables.';\n",
              "        element.innerHTML = '';\n",
              "        dataTable['output_type'] = 'display_data';\n",
              "        await google.colab.output.renderOutput(dataTable, element);\n",
              "        const docLink = document.createElement('div');\n",
              "        docLink.innerHTML = docLinkHtml;\n",
              "        element.appendChild(docLink);\n",
              "      }\n",
              "    </script>\n",
              "  </div>\n",
              "\n",
              "\n",
              "<div id=\"df-aae39a0a-70b1-4b67-a180-fa6d85b5339a\">\n",
              "  <button class=\"colab-df-quickchart\" onclick=\"quickchart('df-aae39a0a-70b1-4b67-a180-fa6d85b5339a')\"\n",
              "            title=\"Suggest charts.\"\n",
              "            style=\"display:none;\">\n",
              "\n",
              "<svg xmlns=\"http://www.w3.org/2000/svg\" height=\"24px\"viewBox=\"0 0 24 24\"\n",
              "     width=\"24px\">\n",
              "    <g>\n",
              "        <path d=\"M19 3H5c-1.1 0-2 .9-2 2v14c0 1.1.9 2 2 2h14c1.1 0 2-.9 2-2V5c0-1.1-.9-2-2-2zM9 17H7v-7h2v7zm4 0h-2V7h2v10zm4 0h-2v-4h2v4z\"/>\n",
              "    </g>\n",
              "</svg>\n",
              "  </button>\n",
              "\n",
              "<style>\n",
              "  .colab-df-quickchart {\n",
              "      --bg-color: #E8F0FE;\n",
              "      --fill-color: #1967D2;\n",
              "      --hover-bg-color: #E2EBFA;\n",
              "      --hover-fill-color: #174EA6;\n",
              "      --disabled-fill-color: #AAA;\n",
              "      --disabled-bg-color: #DDD;\n",
              "  }\n",
              "\n",
              "  [theme=dark] .colab-df-quickchart {\n",
              "      --bg-color: #3B4455;\n",
              "      --fill-color: #D2E3FC;\n",
              "      --hover-bg-color: #434B5C;\n",
              "      --hover-fill-color: #FFFFFF;\n",
              "      --disabled-bg-color: #3B4455;\n",
              "      --disabled-fill-color: #666;\n",
              "  }\n",
              "\n",
              "  .colab-df-quickchart {\n",
              "    background-color: var(--bg-color);\n",
              "    border: none;\n",
              "    border-radius: 50%;\n",
              "    cursor: pointer;\n",
              "    display: none;\n",
              "    fill: var(--fill-color);\n",
              "    height: 32px;\n",
              "    padding: 0;\n",
              "    width: 32px;\n",
              "  }\n",
              "\n",
              "  .colab-df-quickchart:hover {\n",
              "    background-color: var(--hover-bg-color);\n",
              "    box-shadow: 0 1px 2px rgba(60, 64, 67, 0.3), 0 1px 3px 1px rgba(60, 64, 67, 0.15);\n",
              "    fill: var(--button-hover-fill-color);\n",
              "  }\n",
              "\n",
              "  .colab-df-quickchart-complete:disabled,\n",
              "  .colab-df-quickchart-complete:disabled:hover {\n",
              "    background-color: var(--disabled-bg-color);\n",
              "    fill: var(--disabled-fill-color);\n",
              "    box-shadow: none;\n",
              "  }\n",
              "\n",
              "  .colab-df-spinner {\n",
              "    border: 2px solid var(--fill-color);\n",
              "    border-color: transparent;\n",
              "    border-bottom-color: var(--fill-color);\n",
              "    animation:\n",
              "      spin 1s steps(1) infinite;\n",
              "  }\n",
              "\n",
              "  @keyframes spin {\n",
              "    0% {\n",
              "      border-color: transparent;\n",
              "      border-bottom-color: var(--fill-color);\n",
              "      border-left-color: var(--fill-color);\n",
              "    }\n",
              "    20% {\n",
              "      border-color: transparent;\n",
              "      border-left-color: var(--fill-color);\n",
              "      border-top-color: var(--fill-color);\n",
              "    }\n",
              "    30% {\n",
              "      border-color: transparent;\n",
              "      border-left-color: var(--fill-color);\n",
              "      border-top-color: var(--fill-color);\n",
              "      border-right-color: var(--fill-color);\n",
              "    }\n",
              "    40% {\n",
              "      border-color: transparent;\n",
              "      border-right-color: var(--fill-color);\n",
              "      border-top-color: var(--fill-color);\n",
              "    }\n",
              "    60% {\n",
              "      border-color: transparent;\n",
              "      border-right-color: var(--fill-color);\n",
              "    }\n",
              "    80% {\n",
              "      border-color: transparent;\n",
              "      border-right-color: var(--fill-color);\n",
              "      border-bottom-color: var(--fill-color);\n",
              "    }\n",
              "    90% {\n",
              "      border-color: transparent;\n",
              "      border-bottom-color: var(--fill-color);\n",
              "    }\n",
              "  }\n",
              "</style>\n",
              "\n",
              "  <script>\n",
              "    async function quickchart(key) {\n",
              "      const quickchartButtonEl =\n",
              "        document.querySelector('#' + key + ' button');\n",
              "      quickchartButtonEl.disabled = true;  // To prevent multiple clicks.\n",
              "      quickchartButtonEl.classList.add('colab-df-spinner');\n",
              "      try {\n",
              "        const charts = await google.colab.kernel.invokeFunction(\n",
              "            'suggestCharts', [key], {});\n",
              "      } catch (error) {\n",
              "        console.error('Error during call to suggestCharts:', error);\n",
              "      }\n",
              "      quickchartButtonEl.classList.remove('colab-df-spinner');\n",
              "      quickchartButtonEl.classList.add('colab-df-quickchart-complete');\n",
              "    }\n",
              "    (() => {\n",
              "      let quickchartButtonEl =\n",
              "        document.querySelector('#df-aae39a0a-70b1-4b67-a180-fa6d85b5339a button');\n",
              "      quickchartButtonEl.style.display =\n",
              "        google.colab.kernel.accessAllowed ? 'block' : 'none';\n",
              "    })();\n",
              "  </script>\n",
              "</div>\n",
              "    </div>\n",
              "  </div>\n"
            ]
          },
          "metadata": {},
          "execution_count": 133
        }
      ],
      "source": [
        "df.sort_values(by='bathrooms',ascending=True).tail(10)"
      ]
    },
    {
      "cell_type": "code",
      "execution_count": 134,
      "metadata": {
        "colab": {
          "base_uri": "https://localhost:8080/"
        },
        "id": "dSg5hOGw2Cmz",
        "outputId": "1c9c6a46-ab44-44ee-a41b-5299320f7348"
      },
      "outputs": [
        {
          "output_type": "execute_result",
          "data": {
            "text/plain": [
              "(9466, 17)"
            ]
          },
          "metadata": {},
          "execution_count": 134
        }
      ],
      "source": [
        "# Remove bathrooms more than 10\n",
        "df = df[df.bathrooms <= 8]\n",
        "df.shape"
      ]
    },
    {
      "cell_type": "code",
      "execution_count": 135,
      "metadata": {
        "colab": {
          "base_uri": "https://localhost:8080/",
          "height": 466
        },
        "id": "PX2BHzzp2Cmz",
        "outputId": "bae7ece2-69ea-4b4d-869a-046d43225da3"
      },
      "outputs": [
        {
          "output_type": "execute_result",
          "data": {
            "text/plain": [
              "<Axes: xlabel='serviced'>"
            ]
          },
          "metadata": {},
          "execution_count": 135
        },
        {
          "output_type": "display_data",
          "data": {
            "text/plain": [
              "<Figure size 640x480 with 1 Axes>"
            ],
            "image/png": "[encoded data removed]"
          },
          "metadata": {}
        }
      ],
      "source": [
        "sns.violinplot(x= 'serviced', data=df)"
      ]
    },
    {
      "cell_type": "code",
      "execution_count": 136,
      "metadata": {
        "colab": {
          "base_uri": "https://localhost:8080/",
          "height": 466
        },
        "id": "RijejCJx2Cmz",
        "outputId": "4a3bda15-471b-4ea4-d1d9-fcb5919129c9"
      },
      "outputs": [
        {
          "output_type": "execute_result",
          "data": {
            "text/plain": [
              "<Axes: xlabel='shared'>"
            ]
          },
          "metadata": {},
          "execution_count": 136
        },
        {
          "output_type": "display_data",
          "data": {
            "text/plain": [
              "<Figure size 640x480 with 1 Axes>"
            ],
            "image/png": "[encoded data removed]"
          },
          "metadata": {}
        }
      ],
      "source": [
        "sns.violinplot(x= 'shared', data=df)"
      ]
    },
    {
      "cell_type": "code",
      "execution_count": 137,
      "metadata": {
        "colab": {
          "base_uri": "https://localhost:8080/",
          "height": 466
        },
        "id": "8hFXDHkn2Cmz",
        "outputId": "bda65abf-8f23-4368-be3b-d4859b740d22"
      },
      "outputs": [
        {
          "output_type": "execute_result",
          "data": {
            "text/plain": [
              "<Axes: xlabel='furnished'>"
            ]
          },
          "metadata": {},
          "execution_count": 137
        },
        {
          "output_type": "display_data",
          "data": {
            "text/plain": [
              "<Figure size 640x480 with 1 Axes>"
            ],
            "image/png": "[encoded data removed]"
          },
          "metadata": {}
        }
      ],
      "source": [
        "sns.violinplot(x= 'furnished', data=df)"
      ]
    },
    {
      "cell_type": "code",
      "execution_count": 138,
      "metadata": {
        "colab": {
          "base_uri": "https://localhost:8080/",
          "height": 466
        },
        "id": "QXiKbLff2Cm0",
        "outputId": "2821faaa-f3e7-4f82-89b1-3c8f384e5534"
      },
      "outputs": [
        {
          "output_type": "execute_result",
          "data": {
            "text/plain": [
              "<Axes: xlabel='parking'>"
            ]
          },
          "metadata": {},
          "execution_count": 138
        },
        {
          "output_type": "display_data",
          "data": {
            "text/plain": [
              "<Figure size 640x480 with 1 Axes>"
            ],
            "image/png": "[encoded data removed]"
          },
          "metadata": {}
        }
      ],
      "source": [
        "sns.violinplot(x= 'parking', data=df)"
      ]
    },
    {
      "cell_type": "code",
      "execution_count": 139,
      "metadata": {
        "colab": {
          "base_uri": "https://localhost:8080/",
          "height": 313
        },
        "id": "6g733LxC2Cm0",
        "outputId": "f1b38168-73c5-48ad-9e79-9e63867ff8f8"
      },
      "outputs": [
        {
          "output_type": "execute_result",
          "data": {
            "text/plain": [
              "          id      price price_qualifier  bedrooms  bathrooms  toilets  \\\n",
              "8807    8808   120000.0       per month         3          3      4.0   \n",
              "14672  14680  1200000.0       per month         8          4      4.0   \n",
              "15742  15750    35000.0       per month         1          1      1.0   \n",
              "15767  15775    11000.0       per month         1          1      1.0   \n",
              "15756  15764     9000.0       per month         1          0      1.0   \n",
              "\n",
              "       furnished  serviced  shared    parking  category       type sub_type  \\\n",
              "8807           0         0       0         22  For Rent  Apartment  Missing   \n",
              "14672          0         0       0         50  For Rent      House  Missing   \n",
              "15742          0         0       0        100  For Rent  Apartment  Missing   \n",
              "15767          0         0       0  118453525  For Rent  Apartment  Missing   \n",
              "15756          0         0       0  723110898  For Rent      House  Missing   \n",
              "\n",
              "         state         locality sub_locality          listdate  \n",
              "8807   Mombasa            Nyali      Missing  21/06/2022 17:36  \n",
              "14672  Nairobi        Lavington      Missing  23/03/2023 21:47  \n",
              "15742   Kiambu            Ruaka      Missing  31/05/2023 16:07  \n",
              "15767   Kisumu  Market Milimani      Missing  01/06/2023 17:09  \n",
              "15756   Kiambu            Ruaka      Missing  01/06/2023 13:25  "
            ],
            "text/html": [
              "\n",
              "  <div id=\"df-e8029045-9713-422b-b670-7050e2b5b484\" class=\"colab-df-container\">\n",
              "    <div>\n",
              "<style scoped>\n",
              "    .dataframe tbody tr th:only-of-type {\n",
              "        vertical-align: middle;\n",
              "    }\n",
              "\n",
              "    .dataframe tbody tr th {\n",
              "        vertical-align: top;\n",
              "    }\n",
              "\n",
              "    .dataframe thead th {\n",
              "        text-align: right;\n",
              "    }\n",
              "</style>\n",
              "<table border=\"1\" class=\"dataframe\">\n",
              "  <thead>\n",
              "    <tr style=\"text-align: right;\">\n",
              "      <th></th>\n",
              "      <th>id</th>\n",
              "      <th>price</th>\n",
              "      <th>price_qualifier</th>\n",
              "      <th>bedrooms</th>\n",
              "      <th>bathrooms</th>\n",
              "      <th>toilets</th>\n",
              "      <th>furnished</th>\n",
              "      <th>serviced</th>\n",
              "      <th>shared</th>\n",
              "      <th>parking</th>\n",
              "      <th>category</th>\n",
              "      <th>type</th>\n",
              "      <th>sub_type</th>\n",
              "      <th>state</th>\n",
              "      <th>locality</th>\n",
              "      <th>sub_locality</th>\n",
              "      <th>listdate</th>\n",
              "    </tr>\n",
              "  </thead>\n",
              "  <tbody>\n",
              "    <tr>\n",
              "      <th>8807</th>\n",
              "      <td>8808</td>\n",
              "      <td>120000.0</td>\n",
              "      <td>per month</td>\n",
              "      <td>3</td>\n",
              "      <td>3</td>\n",
              "      <td>4.0</td>\n",
              "      <td>0</td>\n",
              "      <td>0</td>\n",
              "      <td>0</td>\n",
              "      <td>22</td>\n",
              "      <td>For Rent</td>\n",
              "      <td>Apartment</td>\n",
              "      <td>Missing</td>\n",
              "      <td>Mombasa</td>\n",
              "      <td>Nyali</td>\n",
              "      <td>Missing</td>\n",
              "      <td>21/06/2022 17:36</td>\n",
              "    </tr>\n",
              "    <tr>\n",
              "      <th>14672</th>\n",
              "      <td>14680</td>\n",
              "      <td>1200000.0</td>\n",
              "      <td>per month</td>\n",
              "      <td>8</td>\n",
              "      <td>4</td>\n",
              "      <td>4.0</td>\n",
              "      <td>0</td>\n",
              "      <td>0</td>\n",
              "      <td>0</td>\n",
              "      <td>50</td>\n",
              "      <td>For Rent</td>\n",
              "      <td>House</td>\n",
              "      <td>Missing</td>\n",
              "      <td>Nairobi</td>\n",
              "      <td>Lavington</td>\n",
              "      <td>Missing</td>\n",
              "      <td>23/03/2023 21:47</td>\n",
              "    </tr>\n",
              "    <tr>\n",
              "      <th>15742</th>\n",
              "      <td>15750</td>\n",
              "      <td>35000.0</td>\n",
              "      <td>per month</td>\n",
              "      <td>1</td>\n",
              "      <td>1</td>\n",
              "      <td>1.0</td>\n",
              "      <td>0</td>\n",
              "      <td>0</td>\n",
              "      <td>0</td>\n",
              "      <td>100</td>\n",
              "      <td>For Rent</td>\n",
              "      <td>Apartment</td>\n",
              "      <td>Missing</td>\n",
              "      <td>Kiambu</td>\n",
              "      <td>Ruaka</td>\n",
              "      <td>Missing</td>\n",
              "      <td>31/05/2023 16:07</td>\n",
              "    </tr>\n",
              "    <tr>\n",
              "      <th>15767</th>\n",
              "      <td>15775</td>\n",
              "      <td>11000.0</td>\n",
              "      <td>per month</td>\n",
              "      <td>1</td>\n",
              "      <td>1</td>\n",
              "      <td>1.0</td>\n",
              "      <td>0</td>\n",
              "      <td>0</td>\n",
              "      <td>0</td>\n",
              "      <td>118453525</td>\n",
              "      <td>For Rent</td>\n",
              "      <td>Apartment</td>\n",
              "      <td>Missing</td>\n",
              "      <td>Kisumu</td>\n",
              "      <td>Market Milimani</td>\n",
              "      <td>Missing</td>\n",
              "      <td>01/06/2023 17:09</td>\n",
              "    </tr>\n",
              "    <tr>\n",
              "      <th>15756</th>\n",
              "      <td>15764</td>\n",
              "      <td>9000.0</td>\n",
              "      <td>per month</td>\n",
              "      <td>1</td>\n",
              "      <td>0</td>\n",
              "      <td>1.0</td>\n",
              "      <td>0</td>\n",
              "      <td>0</td>\n",
              "      <td>0</td>\n",
              "      <td>723110898</td>\n",
              "      <td>For Rent</td>\n",
              "      <td>House</td>\n",
              "      <td>Missing</td>\n",
              "      <td>Kiambu</td>\n",
              "      <td>Ruaka</td>\n",
              "      <td>Missing</td>\n",
              "      <td>01/06/2023 13:25</td>\n",
              "    </tr>\n",
              "  </tbody>\n",
              "</table>\n",
              "</div>\n",
              "    <div class=\"colab-df-buttons\">\n",
              "\n",
              "  <div class=\"colab-df-container\">\n",
              "    <button class=\"colab-df-convert\" onclick=\"convertToInteractive('df-e8029045-9713-422b-b670-7050e2b5b484')\"\n",
              "            title=\"Convert this dataframe to an interactive table.\"\n",
              "            style=\"display:none;\">\n",
              "\n",
              "  <svg xmlns=\"http://www.w3.org/2000/svg\" height=\"24px\" viewBox=\"0 -960 960 960\">\n",
              "    <path d=\"M120-120v-720h720v720H120Zm60-500h600v-160H180v160Zm220 220h160v-160H400v160Zm0 220h160v-160H400v160ZM180-400h160v-160H180v160Zm440 0h160v-160H620v160ZM180-180h160v-160H180v160Zm440 0h160v-160H620v160Z\"/>\n",
              "  </svg>\n",
              "    </button>\n",
              "\n",
              "  <style>\n",
              "    .colab-df-container {\n",
              "      display:flex;\n",
              "      gap: 12px;\n",
              "    }\n",
              "\n",
              "    .colab-df-convert {\n",
              "      background-color: #E8F0FE;\n",
              "      border: none;\n",
              "      border-radius: 50%;\n",
              "      cursor: pointer;\n",
              "      display: none;\n",
              "      fill: #1967D2;\n",
              "      height: 32px;\n",
              "      padding: 0 0 0 0;\n",
              "      width: 32px;\n",
              "    }\n",
              "\n",
              "    .colab-df-convert:hover {\n",
              "      background-color: #E2EBFA;\n",
              "      box-shadow: 0px 1px 2px rgba(60, 64, 67, 0.3), 0px 1px 3px 1px rgba(60, 64, 67, 0.15);\n",
              "      fill: #174EA6;\n",
              "    }\n",
              "\n",
              "    .colab-df-buttons div {\n",
              "      margin-bottom: 4px;\n",
              "    }\n",
              "\n",
              "    [theme=dark] .colab-df-convert {\n",
              "      background-color: #3B4455;\n",
              "      fill: #D2E3FC;\n",
              "    }\n",
              "\n",
              "    [theme=dark] .colab-df-convert:hover {\n",
              "      background-color: #434B5C;\n",
              "      box-shadow: 0px 1px 3px 1px rgba(0, 0, 0, 0.15);\n",
              "      filter: drop-shadow(0px 1px 2px rgba(0, 0, 0, 0.3));\n",
              "      fill: #FFFFFF;\n",
              "    }\n",
              "  </style>\n",
              "\n",
              "    <script>\n",
              "      const buttonEl =\n",
              "        document.querySelector('#df-e8029045-9713-422b-b670-7050e2b5b484 button.colab-df-convert');\n",
              "      buttonEl.style.display =\n",
              "        google.colab.kernel.accessAllowed ? 'block' : 'none';\n",
              "\n",
              "      async function convertToInteractive(key) {\n",
              "        const element = document.querySelector('#df-e8029045-9713-422b-b670-7050e2b5b484');\n",
              "        const dataTable =\n",
              "          await google.colab.kernel.invokeFunction('convertToInteractive',\n",
              "                                                    [key], {});\n",
              "        if (!dataTable) return;\n",
              "\n",
              "        const docLinkHtml = 'Like what you see? Visit the ' +\n",
              "          '<a target=\"_blank\" href=https://colab.research.google.com/notebooks/data_table.ipynb>data table notebook</a>'\n",
              "          + ' to learn more about interactive tables.';\n",
              "        element.innerHTML = '';\n",
              "        dataTable['output_type'] = 'display_data';\n",
              "        await google.colab.output.renderOutput(dataTable, element);\n",
              "        const docLink = document.createElement('div');\n",
              "        docLink.innerHTML = docLinkHtml;\n",
              "        element.appendChild(docLink);\n",
              "      }\n",
              "    </script>\n",
              "  </div>\n",
              "\n",
              "\n",
              "<div id=\"df-7cdf165b-a185-4f07-953d-dd455c7106c1\">\n",
              "  <button class=\"colab-df-quickchart\" onclick=\"quickchart('df-7cdf165b-a185-4f07-953d-dd455c7106c1')\"\n",
              "            title=\"Suggest charts.\"\n",
              "            style=\"display:none;\">\n",
              "\n",
              "<svg xmlns=\"http://www.w3.org/2000/svg\" height=\"24px\"viewBox=\"0 0 24 24\"\n",
              "     width=\"24px\">\n",
              "    <g>\n",
              "        <path d=\"M19 3H5c-1.1 0-2 .9-2 2v14c0 1.1.9 2 2 2h14c1.1 0 2-.9 2-2V5c0-1.1-.9-2-2-2zM9 17H7v-7h2v7zm4 0h-2V7h2v10zm4 0h-2v-4h2v4z\"/>\n",
              "    </g>\n",
              "</svg>\n",
              "  </button>\n",
              "\n",
              "<style>\n",
              "  .colab-df-quickchart {\n",
              "      --bg-color: #E8F0FE;\n",
              "      --fill-color: #1967D2;\n",
              "      --hover-bg-color: #E2EBFA;\n",
              "      --hover-fill-color: #174EA6;\n",
              "      --disabled-fill-color: #AAA;\n",
              "      --disabled-bg-color: #DDD;\n",
              "  }\n",
              "\n",
              "  [theme=dark] .colab-df-quickchart {\n",
              "      --bg-color: #3B4455;\n",
              "      --fill-color: #D2E3FC;\n",
              "      --hover-bg-color: #434B5C;\n",
              "      --hover-fill-color: #FFFFFF;\n",
              "      --disabled-bg-color: #3B4455;\n",
              "      --disabled-fill-color: #666;\n",
              "  }\n",
              "\n",
              "  .colab-df-quickchart {\n",
              "    background-color: var(--bg-color);\n",
              "    border: none;\n",
              "    border-radius: 50%;\n",
              "    cursor: pointer;\n",
              "    display: none;\n",
              "    fill: var(--fill-color);\n",
              "    height: 32px;\n",
              "    padding: 0;\n",
              "    width: 32px;\n",
              "  }\n",
              "\n",
              "  .colab-df-quickchart:hover {\n",
              "    background-color: var(--hover-bg-color);\n",
              "    box-shadow: 0 1px 2px rgba(60, 64, 67, 0.3), 0 1px 3px 1px rgba(60, 64, 67, 0.15);\n",
              "    fill: var(--button-hover-fill-color);\n",
              "  }\n",
              "\n",
              "  .colab-df-quickchart-complete:disabled,\n",
              "  .colab-df-quickchart-complete:disabled:hover {\n",
              "    background-color: var(--disabled-bg-color);\n",
              "    fill: var(--disabled-fill-color);\n",
              "    box-shadow: none;\n",
              "  }\n",
              "\n",
              "  .colab-df-spinner {\n",
              "    border: 2px solid var(--fill-color);\n",
              "    border-color: transparent;\n",
              "    border-bottom-color: var(--fill-color);\n",
              "    animation:\n",
              "      spin 1s steps(1) infinite;\n",
              "  }\n",
              "\n",
              "  @keyframes spin {\n",
              "    0% {\n",
              "      border-color: transparent;\n",
              "      border-bottom-color: var(--fill-color);\n",
              "      border-left-color: var(--fill-color);\n",
              "    }\n",
              "    20% {\n",
              "      border-color: transparent;\n",
              "      border-left-color: var(--fill-color);\n",
              "      border-top-color: var(--fill-color);\n",
              "    }\n",
              "    30% {\n",
              "      border-color: transparent;\n",
              "      border-left-color: var(--fill-color);\n",
              "      border-top-color: var(--fill-color);\n",
              "      border-right-color: var(--fill-color);\n",
              "    }\n",
              "    40% {\n",
              "      border-color: transparent;\n",
              "      border-right-color: var(--fill-color);\n",
              "      border-top-color: var(--fill-color);\n",
              "    }\n",
              "    60% {\n",
              "      border-color: transparent;\n",
              "      border-right-color: var(--fill-color);\n",
              "    }\n",
              "    80% {\n",
              "      border-color: transparent;\n",
              "      border-right-color: var(--fill-color);\n",
              "      border-bottom-color: var(--fill-color);\n",
              "    }\n",
              "    90% {\n",
              "      border-color: transparent;\n",
              "      border-bottom-color: var(--fill-color);\n",
              "    }\n",
              "  }\n",
              "</style>\n",
              "\n",
              "  <script>\n",
              "    async function quickchart(key) {\n",
              "      const quickchartButtonEl =\n",
              "        document.querySelector('#' + key + ' button');\n",
              "      quickchartButtonEl.disabled = true;  // To prevent multiple clicks.\n",
              "      quickchartButtonEl.classList.add('colab-df-spinner');\n",
              "      try {\n",
              "        const charts = await google.colab.kernel.invokeFunction(\n",
              "            'suggestCharts', [key], {});\n",
              "      } catch (error) {\n",
              "        console.error('Error during call to suggestCharts:', error);\n",
              "      }\n",
              "      quickchartButtonEl.classList.remove('colab-df-spinner');\n",
              "      quickchartButtonEl.classList.add('colab-df-quickchart-complete');\n",
              "    }\n",
              "    (() => {\n",
              "      let quickchartButtonEl =\n",
              "        document.querySelector('#df-7cdf165b-a185-4f07-953d-dd455c7106c1 button');\n",
              "      quickchartButtonEl.style.display =\n",
              "        google.colab.kernel.accessAllowed ? 'block' : 'none';\n",
              "    })();\n",
              "  </script>\n",
              "</div>\n",
              "    </div>\n",
              "  </div>\n"
            ]
          },
          "metadata": {},
          "execution_count": 139
        }
      ],
      "source": [
        "df.sort_values(by='parking').tail()"
      ]
    },
    {
      "cell_type": "code",
      "execution_count": 140,
      "metadata": {
        "colab": {
          "base_uri": "https://localhost:8080/"
        },
        "id": "ldibL6oo2Cm0",
        "outputId": "af61d3c3-93fb-4d1a-ddbd-2213cd24897b"
      },
      "outputs": [
        {
          "output_type": "execute_result",
          "data": {
            "text/plain": [
              "(9364, 17)"
            ]
          },
          "metadata": {},
          "execution_count": 140
        }
      ],
      "source": [
        "#remove parking greater than 10\n",
        "df = df[df.parking < 6]\n",
        "df.shape"
      ]
    },
    {
      "cell_type": "code",
      "execution_count": 141,
      "metadata": {
        "colab": {
          "base_uri": "https://localhost:8080/",
          "height": 466
        },
        "id": "VBR7RSc02Cm0",
        "outputId": "83382615-542b-4122-aff9-8407be09b903"
      },
      "outputs": [
        {
          "output_type": "execute_result",
          "data": {
            "text/plain": [
              "<Axes: xlabel='price'>"
            ]
          },
          "metadata": {},
          "execution_count": 141
        },
        {
          "output_type": "display_data",
          "data": {
            "text/plain": [
              "<Figure size 640x480 with 1 Axes>"
            ],
            "image/png": "[encoded data removed]"
          },
          "metadata": {}
        }
      ],
      "source": [
        "sns.violinplot(x= 'price', data=df_rental)"
      ]
    },
    {
      "cell_type": "markdown",
      "metadata": {
        "id": "cmMEcWl02Cm1"
      },
      "source": [
        "<p>According to the Kenya property center dataset  it gives the highest rent value in Nairobi county to be 600,0000 and the lowest being 5500</p>\n",
        "<p>Remove observations that are not in the range of 700,000 and 1,000</p>"
      ]
    },
    {
      "cell_type": "code",
      "execution_count": 142,
      "metadata": {
        "colab": {
          "base_uri": "https://localhost:8080/"
        },
        "id": "pL6m6AG92Cm1",
        "outputId": "01a37b8e-f482-422b-9b65-6f56641a08f7"
      },
      "outputs": [
        {
          "output_type": "execute_result",
          "data": {
            "text/plain": [
              "(4871, 17)"
            ]
          },
          "metadata": {},
          "execution_count": 142
        }
      ],
      "source": [
        "df_rental.shape"
      ]
    },
    {
      "cell_type": "code",
      "execution_count": 143,
      "metadata": {
        "id": "rKNWhAw22Cm1"
      },
      "outputs": [],
      "source": [
        "#remove price greater than 700000\n",
        "df_rental = df_rental[df_rental.price < 700000]"
      ]
    },
    {
      "cell_type": "code",
      "execution_count": 144,
      "metadata": {
        "id": "w8GcAxnx2Cm1"
      },
      "outputs": [],
      "source": [
        "#remove price less than 4000\n",
        "df_rental = df_rental[df_rental.price > 4000]"
      ]
    },
    {
      "cell_type": "code",
      "execution_count": 145,
      "metadata": {
        "colab": {
          "base_uri": "https://localhost:8080/",
          "height": 466
        },
        "id": "kIh0wzlm2Cm2",
        "outputId": "de3ab8ee-8417-4014-af48-a1512a40cdfc"
      },
      "outputs": [
        {
          "output_type": "execute_result",
          "data": {
            "text/plain": [
              "<Axes: xlabel='price'>"
            ]
          },
          "metadata": {},
          "execution_count": 145
        },
        {
          "output_type": "display_data",
          "data": {
            "text/plain": [
              "<Figure size 640x480 with 1 Axes>"
            ],
            "image/png": "[encoded data removed]"
          },
          "metadata": {}
        }
      ],
      "source": [
        "sns.violinplot(x= 'price', data=df_rental)"
      ]
    },
    {
      "cell_type": "code",
      "execution_count": 146,
      "metadata": {
        "colab": {
          "base_uri": "https://localhost:8080/",
          "height": 466
        },
        "id": "dvmbvxRR2Cm2",
        "outputId": "26a84d0a-b2cd-470f-826e-b971eb3ae092"
      },
      "outputs": [
        {
          "output_type": "execute_result",
          "data": {
            "text/plain": [
              "<Axes: xlabel='price'>"
            ]
          },
          "metadata": {},
          "execution_count": 146
        },
        {
          "output_type": "display_data",
          "data": {
            "text/plain": [
              "<Figure size 640x480 with 1 Axes>"
            ],
            "image/png": "[encoded data removed]"
          },
          "metadata": {}
        }
      ],
      "source": [
        "sns.violinplot(x= 'price', data=df_sale)"
      ]
    },
    {
      "cell_type": "code",
      "execution_count": 147,
      "metadata": {
        "colab": {
          "base_uri": "https://localhost:8080/",
          "height": 313
        },
        "id": "J0dKg7C52Cm2",
        "outputId": "5758464c-5327-4fba-b589-8bb48addc648"
      },
      "outputs": [
        {
          "output_type": "execute_result",
          "data": {
            "text/plain": [
              "        id     price price_qualifier  bedrooms  bathrooms  toilets  furnished  \\\n",
              "484    485      14.5         Missing         2          2      0.0          0   \n",
              "704    705  160000.0         Missing         3          3      0.0          0   \n",
              "1025  1026   80000.0         Missing         3          4      0.0          0   \n",
              "1395  1396      14.5         Missing         2          2      0.0          0   \n",
              "2057  2058  350000.0         Missing         5          5      0.0          0   \n",
              "\n",
              "      serviced  shared  parking  category       type sub_type    state  \\\n",
              "484          0       0        0  For Sale  Apartment  Missing  Mombasa   \n",
              "704          0       0        0  For Sale  Apartment  Missing  Nairobi   \n",
              "1025         0       0        0  For Sale  Apartment  Missing  Nairobi   \n",
              "1395         0       0        0  For Sale  Apartment  Missing  Nairobi   \n",
              "2057         0       0        2  For Sale      House  Missing  Nairobi   \n",
              "\n",
              "         locality sub_locality          listdate  \n",
              "484        Likoni      Missing  19/07/2021 00:00  \n",
              "704     Westlands      Missing  20/07/2021 00:00  \n",
              "1025    Westlands      Missing  21/07/2021 00:00  \n",
              "1395    Westlands      Missing  21/07/2021 00:00  \n",
              "2057  Kahawa West      Missing  23/07/2021 00:00  "
            ],
            "text/html": [
              "\n",
              "  <div id=\"df-306b1635-fd26-47e1-ac34-9f379825ad5f\" class=\"colab-df-container\">\n",
              "    <div>\n",
              "<style scoped>\n",
              "    .dataframe tbody tr th:only-of-type {\n",
              "        vertical-align: middle;\n",
              "    }\n",
              "\n",
              "    .dataframe tbody tr th {\n",
              "        vertical-align: top;\n",
              "    }\n",
              "\n",
              "    .dataframe thead th {\n",
              "        text-align: right;\n",
              "    }\n",
              "</style>\n",
              "<table border=\"1\" class=\"dataframe\">\n",
              "  <thead>\n",
              "    <tr style=\"text-align: right;\">\n",
              "      <th></th>\n",
              "      <th>id</th>\n",
              "      <th>price</th>\n",
              "      <th>price_qualifier</th>\n",
              "      <th>bedrooms</th>\n",
              "      <th>bathrooms</th>\n",
              "      <th>toilets</th>\n",
              "      <th>furnished</th>\n",
              "      <th>serviced</th>\n",
              "      <th>shared</th>\n",
              "      <th>parking</th>\n",
              "      <th>category</th>\n",
              "      <th>type</th>\n",
              "      <th>sub_type</th>\n",
              "      <th>state</th>\n",
              "      <th>locality</th>\n",
              "      <th>sub_locality</th>\n",
              "      <th>listdate</th>\n",
              "    </tr>\n",
              "  </thead>\n",
              "  <tbody>\n",
              "    <tr>\n",
              "      <th>484</th>\n",
              "      <td>485</td>\n",
              "      <td>14.5</td>\n",
              "      <td>Missing</td>\n",
              "      <td>2</td>\n",
              "      <td>2</td>\n",
              "      <td>0.0</td>\n",
              "      <td>0</td>\n",
              "      <td>0</td>\n",
              "      <td>0</td>\n",
              "      <td>0</td>\n",
              "      <td>For Sale</td>\n",
              "      <td>Apartment</td>\n",
              "      <td>Missing</td>\n",
              "      <td>Mombasa</td>\n",
              "      <td>Likoni</td>\n",
              "      <td>Missing</td>\n",
              "      <td>19/07/2021 00:00</td>\n",
              "    </tr>\n",
              "    <tr>\n",
              "      <th>704</th>\n",
              "      <td>705</td>\n",
              "      <td>160000.0</td>\n",
              "      <td>Missing</td>\n",
              "      <td>3</td>\n",
              "      <td>3</td>\n",
              "      <td>0.0</td>\n",
              "      <td>0</td>\n",
              "      <td>0</td>\n",
              "      <td>0</td>\n",
              "      <td>0</td>\n",
              "      <td>For Sale</td>\n",
              "      <td>Apartment</td>\n",
              "      <td>Missing</td>\n",
              "      <td>Nairobi</td>\n",
              "      <td>Westlands</td>\n",
              "      <td>Missing</td>\n",
              "      <td>20/07/2021 00:00</td>\n",
              "    </tr>\n",
              "    <tr>\n",
              "      <th>1025</th>\n",
              "      <td>1026</td>\n",
              "      <td>80000.0</td>\n",
              "      <td>Missing</td>\n",
              "      <td>3</td>\n",
              "      <td>4</td>\n",
              "      <td>0.0</td>\n",
              "      <td>0</td>\n",
              "      <td>0</td>\n",
              "      <td>0</td>\n",
              "      <td>0</td>\n",
              "      <td>For Sale</td>\n",
              "      <td>Apartment</td>\n",
              "      <td>Missing</td>\n",
              "      <td>Nairobi</td>\n",
              "      <td>Westlands</td>\n",
              "      <td>Missing</td>\n",
              "      <td>21/07/2021 00:00</td>\n",
              "    </tr>\n",
              "    <tr>\n",
              "      <th>1395</th>\n",
              "      <td>1396</td>\n",
              "      <td>14.5</td>\n",
              "      <td>Missing</td>\n",
              "      <td>2</td>\n",
              "      <td>2</td>\n",
              "      <td>0.0</td>\n",
              "      <td>0</td>\n",
              "      <td>0</td>\n",
              "      <td>0</td>\n",
              "      <td>0</td>\n",
              "      <td>For Sale</td>\n",
              "      <td>Apartment</td>\n",
              "      <td>Missing</td>\n",
              "      <td>Nairobi</td>\n",
              "      <td>Westlands</td>\n",
              "      <td>Missing</td>\n",
              "      <td>21/07/2021 00:00</td>\n",
              "    </tr>\n",
              "    <tr>\n",
              "      <th>2057</th>\n",
              "      <td>2058</td>\n",
              "      <td>350000.0</td>\n",
              "      <td>Missing</td>\n",
              "      <td>5</td>\n",
              "      <td>5</td>\n",
              "      <td>0.0</td>\n",
              "      <td>0</td>\n",
              "      <td>0</td>\n",
              "      <td>0</td>\n",
              "      <td>2</td>\n",
              "      <td>For Sale</td>\n",
              "      <td>House</td>\n",
              "      <td>Missing</td>\n",
              "      <td>Nairobi</td>\n",
              "      <td>Kahawa West</td>\n",
              "      <td>Missing</td>\n",
              "      <td>23/07/2021 00:00</td>\n",
              "    </tr>\n",
              "  </tbody>\n",
              "</table>\n",
              "</div>\n",
              "    <div class=\"colab-df-buttons\">\n",
              "\n",
              "  <div class=\"colab-df-container\">\n",
              "    <button class=\"colab-df-convert\" onclick=\"convertToInteractive('df-306b1635-fd26-47e1-ac34-9f379825ad5f')\"\n",
              "            title=\"Convert this dataframe to an interactive table.\"\n",
              "            style=\"display:none;\">\n",
              "\n",
              "  <svg xmlns=\"http://www.w3.org/2000/svg\" height=\"24px\" viewBox=\"0 -960 960 960\">\n",
              "    <path d=\"M120-120v-720h720v720H120Zm60-500h600v-160H180v160Zm220 220h160v-160H400v160Zm0 220h160v-160H400v160ZM180-400h160v-160H180v160Zm440 0h160v-160H620v160ZM180-180h160v-160H180v160Zm440 0h160v-160H620v160Z\"/>\n",
              "  </svg>\n",
              "    </button>\n",
              "\n",
              "  <style>\n",
              "    .colab-df-container {\n",
              "      display:flex;\n",
              "      gap: 12px;\n",
              "    }\n",
              "\n",
              "    .colab-df-convert {\n",
              "      background-color: #E8F0FE;\n",
              "      border: none;\n",
              "      border-radius: 50%;\n",
              "      cursor: pointer;\n",
              "      display: none;\n",
              "      fill: #1967D2;\n",
              "      height: 32px;\n",
              "      padding: 0 0 0 0;\n",
              "      width: 32px;\n",
              "    }\n",
              "\n",
              "    .colab-df-convert:hover {\n",
              "      background-color: #E2EBFA;\n",
              "      box-shadow: 0px 1px 2px rgba(60, 64, 67, 0.3), 0px 1px 3px 1px rgba(60, 64, 67, 0.15);\n",
              "      fill: #174EA6;\n",
              "    }\n",
              "\n",
              "    .colab-df-buttons div {\n",
              "      margin-bottom: 4px;\n",
              "    }\n",
              "\n",
              "    [theme=dark] .colab-df-convert {\n",
              "      background-color: #3B4455;\n",
              "      fill: #D2E3FC;\n",
              "    }\n",
              "\n",
              "    [theme=dark] .colab-df-convert:hover {\n",
              "      background-color: #434B5C;\n",
              "      box-shadow: 0px 1px 3px 1px rgba(0, 0, 0, 0.15);\n",
              "      filter: drop-shadow(0px 1px 2px rgba(0, 0, 0, 0.3));\n",
              "      fill: #FFFFFF;\n",
              "    }\n",
              "  </style>\n",
              "\n",
              "    <script>\n",
              "      const buttonEl =\n",
              "        document.querySelector('#df-306b1635-fd26-47e1-ac34-9f379825ad5f button.colab-df-convert');\n",
              "      buttonEl.style.display =\n",
              "        google.colab.kernel.accessAllowed ? 'block' : 'none';\n",
              "\n",
              "      async function convertToInteractive(key) {\n",
              "        const element = document.querySelector('#df-306b1635-fd26-47e1-ac34-9f379825ad5f');\n",
              "        const dataTable =\n",
              "          await google.colab.kernel.invokeFunction('convertToInteractive',\n",
              "                                                    [key], {});\n",
              "        if (!dataTable) return;\n",
              "\n",
              "        const docLinkHtml = 'Like what you see? Visit the ' +\n",
              "          '<a target=\"_blank\" href=https://colab.research.google.com/notebooks/data_table.ipynb>data table notebook</a>'\n",
              "          + ' to learn more about interactive tables.';\n",
              "        element.innerHTML = '';\n",
              "        dataTable['output_type'] = 'display_data';\n",
              "        await google.colab.output.renderOutput(dataTable, element);\n",
              "        const docLink = document.createElement('div');\n",
              "        docLink.innerHTML = docLinkHtml;\n",
              "        element.appendChild(docLink);\n",
              "      }\n",
              "    </script>\n",
              "  </div>\n",
              "\n",
              "\n",
              "<div id=\"df-9ccf0fab-8e33-4e0a-81c2-1fa983560e4a\">\n",
              "  <button class=\"colab-df-quickchart\" onclick=\"quickchart('df-9ccf0fab-8e33-4e0a-81c2-1fa983560e4a')\"\n",
              "            title=\"Suggest charts.\"\n",
              "            style=\"display:none;\">\n",
              "\n",
              "<svg xmlns=\"http://www.w3.org/2000/svg\" height=\"24px\"viewBox=\"0 0 24 24\"\n",
              "     width=\"24px\">\n",
              "    <g>\n",
              "        <path d=\"M19 3H5c-1.1 0-2 .9-2 2v14c0 1.1.9 2 2 2h14c1.1 0 2-.9 2-2V5c0-1.1-.9-2-2-2zM9 17H7v-7h2v7zm4 0h-2V7h2v10zm4 0h-2v-4h2v4z\"/>\n",
              "    </g>\n",
              "</svg>\n",
              "  </button>\n",
              "\n",
              "<style>\n",
              "  .colab-df-quickchart {\n",
              "      --bg-color: #E8F0FE;\n",
              "      --fill-color: #1967D2;\n",
              "      --hover-bg-color: #E2EBFA;\n",
              "      --hover-fill-color: #174EA6;\n",
              "      --disabled-fill-color: #AAA;\n",
              "      --disabled-bg-color: #DDD;\n",
              "  }\n",
              "\n",
              "  [theme=dark] .colab-df-quickchart {\n",
              "      --bg-color: #3B4455;\n",
              "      --fill-color: #D2E3FC;\n",
              "      --hover-bg-color: #434B5C;\n",
              "      --hover-fill-color: #FFFFFF;\n",
              "      --disabled-bg-color: #3B4455;\n",
              "      --disabled-fill-color: #666;\n",
              "  }\n",
              "\n",
              "  .colab-df-quickchart {\n",
              "    background-color: var(--bg-color);\n",
              "    border: none;\n",
              "    border-radius: 50%;\n",
              "    cursor: pointer;\n",
              "    display: none;\n",
              "    fill: var(--fill-color);\n",
              "    height: 32px;\n",
              "    padding: 0;\n",
              "    width: 32px;\n",
              "  }\n",
              "\n",
              "  .colab-df-quickchart:hover {\n",
              "    background-color: var(--hover-bg-color);\n",
              "    box-shadow: 0 1px 2px rgba(60, 64, 67, 0.3), 0 1px 3px 1px rgba(60, 64, 67, 0.15);\n",
              "    fill: var(--button-hover-fill-color);\n",
              "  }\n",
              "\n",
              "  .colab-df-quickchart-complete:disabled,\n",
              "  .colab-df-quickchart-complete:disabled:hover {\n",
              "    background-color: var(--disabled-bg-color);\n",
              "    fill: var(--disabled-fill-color);\n",
              "    box-shadow: none;\n",
              "  }\n",
              "\n",
              "  .colab-df-spinner {\n",
              "    border: 2px solid var(--fill-color);\n",
              "    border-color: transparent;\n",
              "    border-bottom-color: var(--fill-color);\n",
              "    animation:\n",
              "      spin 1s steps(1) infinite;\n",
              "  }\n",
              "\n",
              "  @keyframes spin {\n",
              "    0% {\n",
              "      border-color: transparent;\n",
              "      border-bottom-color: var(--fill-color);\n",
              "      border-left-color: var(--fill-color);\n",
              "    }\n",
              "    20% {\n",
              "      border-color: transparent;\n",
              "      border-left-color: var(--fill-color);\n",
              "      border-top-color: var(--fill-color);\n",
              "    }\n",
              "    30% {\n",
              "      border-color: transparent;\n",
              "      border-left-color: var(--fill-color);\n",
              "      border-top-color: var(--fill-color);\n",
              "      border-right-color: var(--fill-color);\n",
              "    }\n",
              "    40% {\n",
              "      border-color: transparent;\n",
              "      border-right-color: var(--fill-color);\n",
              "      border-top-color: var(--fill-color);\n",
              "    }\n",
              "    60% {\n",
              "      border-color: transparent;\n",
              "      border-right-color: var(--fill-color);\n",
              "    }\n",
              "    80% {\n",
              "      border-color: transparent;\n",
              "      border-right-color: var(--fill-color);\n",
              "      border-bottom-color: var(--fill-color);\n",
              "    }\n",
              "    90% {\n",
              "      border-color: transparent;\n",
              "      border-bottom-color: var(--fill-color);\n",
              "    }\n",
              "  }\n",
              "</style>\n",
              "\n",
              "  <script>\n",
              "    async function quickchart(key) {\n",
              "      const quickchartButtonEl =\n",
              "        document.querySelector('#' + key + ' button');\n",
              "      quickchartButtonEl.disabled = true;  // To prevent multiple clicks.\n",
              "      quickchartButtonEl.classList.add('colab-df-spinner');\n",
              "      try {\n",
              "        const charts = await google.colab.kernel.invokeFunction(\n",
              "            'suggestCharts', [key], {});\n",
              "      } catch (error) {\n",
              "        console.error('Error during call to suggestCharts:', error);\n",
              "      }\n",
              "      quickchartButtonEl.classList.remove('colab-df-spinner');\n",
              "      quickchartButtonEl.classList.add('colab-df-quickchart-complete');\n",
              "    }\n",
              "    (() => {\n",
              "      let quickchartButtonEl =\n",
              "        document.querySelector('#df-9ccf0fab-8e33-4e0a-81c2-1fa983560e4a button');\n",
              "      quickchartButtonEl.style.display =\n",
              "        google.colab.kernel.accessAllowed ? 'block' : 'none';\n",
              "    })();\n",
              "  </script>\n",
              "</div>\n",
              "    </div>\n",
              "  </div>\n"
            ]
          },
          "metadata": {},
          "execution_count": 147
        }
      ],
      "source": [
        "df_sale.loc[(df_sale['price']<500000)].head()"
      ]
    },
    {
      "cell_type": "code",
      "execution_count": 148,
      "metadata": {
        "colab": {
          "base_uri": "https://localhost:8080/"
        },
        "id": "ToQvdWXo2Cm2",
        "outputId": "1b5e3b7b-affa-450e-b076-8434357324f1"
      },
      "outputs": [
        {
          "output_type": "execute_result",
          "data": {
            "text/plain": [
              "(37, 17)"
            ]
          },
          "metadata": {},
          "execution_count": 148
        }
      ],
      "source": [
        "df_sale.loc[(df_sale['price']<600000)].shape"
      ]
    },
    {
      "cell_type": "markdown",
      "metadata": {
        "id": "KsZXGxjV2Cm3"
      },
      "source": [
        "<p>We remove lot whose sale value is less than 600,000</p>"
      ]
    },
    {
      "cell_type": "code",
      "execution_count": 149,
      "metadata": {
        "colab": {
          "base_uri": "https://localhost:8080/"
        },
        "id": "1EgnpKgU2Cm3",
        "outputId": "88932e7f-4859-49ff-ac6f-608074840b22"
      },
      "outputs": [
        {
          "output_type": "execute_result",
          "data": {
            "text/plain": [
              "(4597, 17)"
            ]
          },
          "metadata": {},
          "execution_count": 149
        }
      ],
      "source": [
        "#remove price greater than 600000\n",
        "df_sale = df_sale[df_sale.price > 600000]\n",
        "df_sale.shape"
      ]
    },
    {
      "cell_type": "code",
      "execution_count": 150,
      "metadata": {
        "colab": {
          "base_uri": "https://localhost:8080/",
          "height": 556
        },
        "id": "BHLjgyDV2Cm3",
        "outputId": "78b907e8-446c-496b-fda7-bd8429137ac2"
      },
      "outputs": [
        {
          "output_type": "execute_result",
          "data": {
            "text/plain": [
              "          id        price price_qualifier  bedrooms  bathrooms  toilets  \\\n",
              "10121  10122  400000000.0         Missing         6          7      7.0   \n",
              "7167    7168  400000000.0         Missing         7          6      0.0   \n",
              "10333  10334  430000000.0         Missing         4          4      4.0   \n",
              "492      493  450000000.0         Missing         9          8      0.0   \n",
              "9685    9686  500000000.0         Missing         6          8      8.0   \n",
              "2746    2747  500000000.0         Missing         3          3      0.0   \n",
              "9686    9687  650000000.0         Missing         5          7      7.0   \n",
              "10120  10121  650000000.0         Missing         5          6      6.0   \n",
              "491      492  700000000.0         Missing         4          4      0.0   \n",
              "498      499  750000000.0         Missing        10         10      0.0   \n",
              "\n",
              "       furnished  serviced  shared  parking  category   type         sub_type  \\\n",
              "10121          0         0       0        7  For Sale  House          Missing   \n",
              "7167           0         0       0        0  For Sale  House          Missing   \n",
              "10333          0         0       0        0  For Sale  House          Missing   \n",
              "492            0         0       0        0  For Sale  House  Detached Duplex   \n",
              "9685           0         0       0        5  For Sale  House          Missing   \n",
              "2746           0         0       0        0  For Sale  House        Townhouse   \n",
              "9686           0         0       0        5  For Sale  House          Missing   \n",
              "10120          0         0       0        7  For Sale  House          Missing   \n",
              "491            0         0       0        0  For Sale  House        Townhouse   \n",
              "498            0         0       0        0  For Sale  House          Missing   \n",
              "\n",
              "         state         locality sub_locality          listdate  \n",
              "10121  Nairobi         Muthaiga      Missing  27/09/2022 01:02  \n",
              "7167   Nairobi        Westlands      Missing  26/08/2021 01:12  \n",
              "10333  Nairobi            Karen      Missing  10/10/2022 00:03  \n",
              "492    Nairobi        Lavington      Missing  19/07/2021 00:00  \n",
              "9685   Nairobi         Muthaiga      Missing  07/09/2022 23:09  \n",
              "2746   Nairobi            Karen      Missing  24/07/2021 21:03  \n",
              "9686   Nairobi         Muthaiga      Missing  07/09/2022 23:17  \n",
              "10120  Nairobi         Muthaiga      Missing  27/09/2022 00:59  \n",
              "491    Nairobi        Lavington      Missing  19/07/2021 00:00  \n",
              "498    Nairobi  Nairobi Central      Missing  19/07/2021 00:00  "
            ],
            "text/html": [
              "\n",
              "  <div id=\"df-a9656489-dcd3-4b37-a204-ac27f030b470\" class=\"colab-df-container\">\n",
              "    <div>\n",
              "<style scoped>\n",
              "    .dataframe tbody tr th:only-of-type {\n",
              "        vertical-align: middle;\n",
              "    }\n",
              "\n",
              "    .dataframe tbody tr th {\n",
              "        vertical-align: top;\n",
              "    }\n",
              "\n",
              "    .dataframe thead th {\n",
              "        text-align: right;\n",
              "    }\n",
              "</style>\n",
              "<table border=\"1\" class=\"dataframe\">\n",
              "  <thead>\n",
              "    <tr style=\"text-align: right;\">\n",
              "      <th></th>\n",
              "      <th>id</th>\n",
              "      <th>price</th>\n",
              "      <th>price_qualifier</th>\n",
              "      <th>bedrooms</th>\n",
              "      <th>bathrooms</th>\n",
              "      <th>toilets</th>\n",
              "      <th>furnished</th>\n",
              "      <th>serviced</th>\n",
              "      <th>shared</th>\n",
              "      <th>parking</th>\n",
              "      <th>category</th>\n",
              "      <th>type</th>\n",
              "      <th>sub_type</th>\n",
              "      <th>state</th>\n",
              "      <th>locality</th>\n",
              "      <th>sub_locality</th>\n",
              "      <th>listdate</th>\n",
              "    </tr>\n",
              "  </thead>\n",
              "  <tbody>\n",
              "    <tr>\n",
              "      <th>10121</th>\n",
              "      <td>10122</td>\n",
              "      <td>400000000.0</td>\n",
              "      <td>Missing</td>\n",
              "      <td>6</td>\n",
              "      <td>7</td>\n",
              "      <td>7.0</td>\n",
              "      <td>0</td>\n",
              "      <td>0</td>\n",
              "      <td>0</td>\n",
              "      <td>7</td>\n",
              "      <td>For Sale</td>\n",
              "      <td>House</td>\n",
              "      <td>Missing</td>\n",
              "      <td>Nairobi</td>\n",
              "      <td>Muthaiga</td>\n",
              "      <td>Missing</td>\n",
              "      <td>27/09/2022 01:02</td>\n",
              "    </tr>\n",
              "    <tr>\n",
              "      <th>7167</th>\n",
              "      <td>7168</td>\n",
              "      <td>400000000.0</td>\n",
              "      <td>Missing</td>\n",
              "      <td>7</td>\n",
              "      <td>6</td>\n",
              "      <td>0.0</td>\n",
              "      <td>0</td>\n",
              "      <td>0</td>\n",
              "      <td>0</td>\n",
              "      <td>0</td>\n",
              "      <td>For Sale</td>\n",
              "      <td>House</td>\n",
              "      <td>Missing</td>\n",
              "      <td>Nairobi</td>\n",
              "      <td>Westlands</td>\n",
              "      <td>Missing</td>\n",
              "      <td>26/08/2021 01:12</td>\n",
              "    </tr>\n",
              "    <tr>\n",
              "      <th>10333</th>\n",
              "      <td>10334</td>\n",
              "      <td>430000000.0</td>\n",
              "      <td>Missing</td>\n",
              "      <td>4</td>\n",
              "      <td>4</td>\n",
              "      <td>4.0</td>\n",
              "      <td>0</td>\n",
              "      <td>0</td>\n",
              "      <td>0</td>\n",
              "      <td>0</td>\n",
              "      <td>For Sale</td>\n",
              "      <td>House</td>\n",
              "      <td>Missing</td>\n",
              "      <td>Nairobi</td>\n",
              "      <td>Karen</td>\n",
              "      <td>Missing</td>\n",
              "      <td>10/10/2022 00:03</td>\n",
              "    </tr>\n",
              "    <tr>\n",
              "      <th>492</th>\n",
              "      <td>493</td>\n",
              "      <td>450000000.0</td>\n",
              "      <td>Missing</td>\n",
              "      <td>9</td>\n",
              "      <td>8</td>\n",
              "      <td>0.0</td>\n",
              "      <td>0</td>\n",
              "      <td>0</td>\n",
              "      <td>0</td>\n",
              "      <td>0</td>\n",
              "      <td>For Sale</td>\n",
              "      <td>House</td>\n",
              "      <td>Detached Duplex</td>\n",
              "      <td>Nairobi</td>\n",
              "      <td>Lavington</td>\n",
              "      <td>Missing</td>\n",
              "      <td>19/07/2021 00:00</td>\n",
              "    </tr>\n",
              "    <tr>\n",
              "      <th>9685</th>\n",
              "      <td>9686</td>\n",
              "      <td>500000000.0</td>\n",
              "      <td>Missing</td>\n",
              "      <td>6</td>\n",
              "      <td>8</td>\n",
              "      <td>8.0</td>\n",
              "      <td>0</td>\n",
              "      <td>0</td>\n",
              "      <td>0</td>\n",
              "      <td>5</td>\n",
              "      <td>For Sale</td>\n",
              "      <td>House</td>\n",
              "      <td>Missing</td>\n",
              "      <td>Nairobi</td>\n",
              "      <td>Muthaiga</td>\n",
              "      <td>Missing</td>\n",
              "      <td>07/09/2022 23:09</td>\n",
              "    </tr>\n",
              "    <tr>\n",
              "      <th>2746</th>\n",
              "      <td>2747</td>\n",
              "      <td>500000000.0</td>\n",
              "      <td>Missing</td>\n",
              "      <td>3</td>\n",
              "      <td>3</td>\n",
              "      <td>0.0</td>\n",
              "      <td>0</td>\n",
              "      <td>0</td>\n",
              "      <td>0</td>\n",
              "      <td>0</td>\n",
              "      <td>For Sale</td>\n",
              "      <td>House</td>\n",
              "      <td>Townhouse</td>\n",
              "      <td>Nairobi</td>\n",
              "      <td>Karen</td>\n",
              "      <td>Missing</td>\n",
              "      <td>24/07/2021 21:03</td>\n",
              "    </tr>\n",
              "    <tr>\n",
              "      <th>9686</th>\n",
              "      <td>9687</td>\n",
              "      <td>650000000.0</td>\n",
              "      <td>Missing</td>\n",
              "      <td>5</td>\n",
              "      <td>7</td>\n",
              "      <td>7.0</td>\n",
              "      <td>0</td>\n",
              "      <td>0</td>\n",
              "      <td>0</td>\n",
              "      <td>5</td>\n",
              "      <td>For Sale</td>\n",
              "      <td>House</td>\n",
              "      <td>Missing</td>\n",
              "      <td>Nairobi</td>\n",
              "      <td>Muthaiga</td>\n",
              "      <td>Missing</td>\n",
              "      <td>07/09/2022 23:17</td>\n",
              "    </tr>\n",
              "    <tr>\n",
              "      <th>10120</th>\n",
              "      <td>10121</td>\n",
              "      <td>650000000.0</td>\n",
              "      <td>Missing</td>\n",
              "      <td>5</td>\n",
              "      <td>6</td>\n",
              "      <td>6.0</td>\n",
              "      <td>0</td>\n",
              "      <td>0</td>\n",
              "      <td>0</td>\n",
              "      <td>7</td>\n",
              "      <td>For Sale</td>\n",
              "      <td>House</td>\n",
              "      <td>Missing</td>\n",
              "      <td>Nairobi</td>\n",
              "      <td>Muthaiga</td>\n",
              "      <td>Missing</td>\n",
              "      <td>27/09/2022 00:59</td>\n",
              "    </tr>\n",
              "    <tr>\n",
              "      <th>491</th>\n",
              "      <td>492</td>\n",
              "      <td>700000000.0</td>\n",
              "      <td>Missing</td>\n",
              "      <td>4</td>\n",
              "      <td>4</td>\n",
              "      <td>0.0</td>\n",
              "      <td>0</td>\n",
              "      <td>0</td>\n",
              "      <td>0</td>\n",
              "      <td>0</td>\n",
              "      <td>For Sale</td>\n",
              "      <td>House</td>\n",
              "      <td>Townhouse</td>\n",
              "      <td>Nairobi</td>\n",
              "      <td>Lavington</td>\n",
              "      <td>Missing</td>\n",
              "      <td>19/07/2021 00:00</td>\n",
              "    </tr>\n",
              "    <tr>\n",
              "      <th>498</th>\n",
              "      <td>499</td>\n",
              "      <td>750000000.0</td>\n",
              "      <td>Missing</td>\n",
              "      <td>10</td>\n",
              "      <td>10</td>\n",
              "      <td>0.0</td>\n",
              "      <td>0</td>\n",
              "      <td>0</td>\n",
              "      <td>0</td>\n",
              "      <td>0</td>\n",
              "      <td>For Sale</td>\n",
              "      <td>House</td>\n",
              "      <td>Missing</td>\n",
              "      <td>Nairobi</td>\n",
              "      <td>Nairobi Central</td>\n",
              "      <td>Missing</td>\n",
              "      <td>19/07/2021 00:00</td>\n",
              "    </tr>\n",
              "  </tbody>\n",
              "</table>\n",
              "</div>\n",
              "    <div class=\"colab-df-buttons\">\n",
              "\n",
              "  <div class=\"colab-df-container\">\n",
              "    <button class=\"colab-df-convert\" onclick=\"convertToInteractive('df-a9656489-dcd3-4b37-a204-ac27f030b470')\"\n",
              "            title=\"Convert this dataframe to an interactive table.\"\n",
              "            style=\"display:none;\">\n",
              "\n",
              "  <svg xmlns=\"http://www.w3.org/2000/svg\" height=\"24px\" viewBox=\"0 -960 960 960\">\n",
              "    <path d=\"M120-120v-720h720v720H120Zm60-500h600v-160H180v160Zm220 220h160v-160H400v160Zm0 220h160v-160H400v160ZM180-400h160v-160H180v160Zm440 0h160v-160H620v160ZM180-180h160v-160H180v160Zm440 0h160v-160H620v160Z\"/>\n",
              "  </svg>\n",
              "    </button>\n",
              "\n",
              "  <style>\n",
              "    .colab-df-container {\n",
              "      display:flex;\n",
              "      gap: 12px;\n",
              "    }\n",
              "\n",
              "    .colab-df-convert {\n",
              "      background-color: #E8F0FE;\n",
              "      border: none;\n",
              "      border-radius: 50%;\n",
              "      cursor: pointer;\n",
              "      display: none;\n",
              "      fill: #1967D2;\n",
              "      height: 32px;\n",
              "      padding: 0 0 0 0;\n",
              "      width: 32px;\n",
              "    }\n",
              "\n",
              "    .colab-df-convert:hover {\n",
              "      background-color: #E2EBFA;\n",
              "      box-shadow: 0px 1px 2px rgba(60, 64, 67, 0.3), 0px 1px 3px 1px rgba(60, 64, 67, 0.15);\n",
              "      fill: #174EA6;\n",
              "    }\n",
              "\n",
              "    .colab-df-buttons div {\n",
              "      margin-bottom: 4px;\n",
              "    }\n",
              "\n",
              "    [theme=dark] .colab-df-convert {\n",
              "      background-color: #3B4455;\n",
              "      fill: #D2E3FC;\n",
              "    }\n",
              "\n",
              "    [theme=dark] .colab-df-convert:hover {\n",
              "      background-color: #434B5C;\n",
              "      box-shadow: 0px 1px 3px 1px rgba(0, 0, 0, 0.15);\n",
              "      filter: drop-shadow(0px 1px 2px rgba(0, 0, 0, 0.3));\n",
              "      fill: #FFFFFF;\n",
              "    }\n",
              "  </style>\n",
              "\n",
              "    <script>\n",
              "      const buttonEl =\n",
              "        document.querySelector('#df-a9656489-dcd3-4b37-a204-ac27f030b470 button.colab-df-convert');\n",
              "      buttonEl.style.display =\n",
              "        google.colab.kernel.accessAllowed ? 'block' : 'none';\n",
              "\n",
              "      async function convertToInteractive(key) {\n",
              "        const element = document.querySelector('#df-a9656489-dcd3-4b37-a204-ac27f030b470');\n",
              "        const dataTable =\n",
              "          await google.colab.kernel.invokeFunction('convertToInteractive',\n",
              "                                                    [key], {});\n",
              "        if (!dataTable) return;\n",
              "\n",
              "        const docLinkHtml = 'Like what you see? Visit the ' +\n",
              "          '<a target=\"_blank\" href=https://colab.research.google.com/notebooks/data_table.ipynb>data table notebook</a>'\n",
              "          + ' to learn more about interactive tables.';\n",
              "        element.innerHTML = '';\n",
              "        dataTable['output_type'] = 'display_data';\n",
              "        await google.colab.output.renderOutput(dataTable, element);\n",
              "        const docLink = document.createElement('div');\n",
              "        docLink.innerHTML = docLinkHtml;\n",
              "        element.appendChild(docLink);\n",
              "      }\n",
              "    </script>\n",
              "  </div>\n",
              "\n",
              "\n",
              "<div id=\"df-c90f88cf-e35f-440b-b889-3dbae7d1c107\">\n",
              "  <button class=\"colab-df-quickchart\" onclick=\"quickchart('df-c90f88cf-e35f-440b-b889-3dbae7d1c107')\"\n",
              "            title=\"Suggest charts.\"\n",
              "            style=\"display:none;\">\n",
              "\n",
              "<svg xmlns=\"http://www.w3.org/2000/svg\" height=\"24px\"viewBox=\"0 0 24 24\"\n",
              "     width=\"24px\">\n",
              "    <g>\n",
              "        <path d=\"M19 3H5c-1.1 0-2 .9-2 2v14c0 1.1.9 2 2 2h14c1.1 0 2-.9 2-2V5c0-1.1-.9-2-2-2zM9 17H7v-7h2v7zm4 0h-2V7h2v10zm4 0h-2v-4h2v4z\"/>\n",
              "    </g>\n",
              "</svg>\n",
              "  </button>\n",
              "\n",
              "<style>\n",
              "  .colab-df-quickchart {\n",
              "      --bg-color: #E8F0FE;\n",
              "      --fill-color: #1967D2;\n",
              "      --hover-bg-color: #E2EBFA;\n",
              "      --hover-fill-color: #174EA6;\n",
              "      --disabled-fill-color: #AAA;\n",
              "      --disabled-bg-color: #DDD;\n",
              "  }\n",
              "\n",
              "  [theme=dark] .colab-df-quickchart {\n",
              "      --bg-color: #3B4455;\n",
              "      --fill-color: #D2E3FC;\n",
              "      --hover-bg-color: #434B5C;\n",
              "      --hover-fill-color: #FFFFFF;\n",
              "      --disabled-bg-color: #3B4455;\n",
              "      --disabled-fill-color: #666;\n",
              "  }\n",
              "\n",
              "  .colab-df-quickchart {\n",
              "    background-color: var(--bg-color);\n",
              "    border: none;\n",
              "    border-radius: 50%;\n",
              "    cursor: pointer;\n",
              "    display: none;\n",
              "    fill: var(--fill-color);\n",
              "    height: 32px;\n",
              "    padding: 0;\n",
              "    width: 32px;\n",
              "  }\n",
              "\n",
              "  .colab-df-quickchart:hover {\n",
              "    background-color: var(--hover-bg-color);\n",
              "    box-shadow: 0 1px 2px rgba(60, 64, 67, 0.3), 0 1px 3px 1px rgba(60, 64, 67, 0.15);\n",
              "    fill: var(--button-hover-fill-color);\n",
              "  }\n",
              "\n",
              "  .colab-df-quickchart-complete:disabled,\n",
              "  .colab-df-quickchart-complete:disabled:hover {\n",
              "    background-color: var(--disabled-bg-color);\n",
              "    fill: var(--disabled-fill-color);\n",
              "    box-shadow: none;\n",
              "  }\n",
              "\n",
              "  .colab-df-spinner {\n",
              "    border: 2px solid var(--fill-color);\n",
              "    border-color: transparent;\n",
              "    border-bottom-color: var(--fill-color);\n",
              "    animation:\n",
              "      spin 1s steps(1) infinite;\n",
              "  }\n",
              "\n",
              "  @keyframes spin {\n",
              "    0% {\n",
              "      border-color: transparent;\n",
              "      border-bottom-color: var(--fill-color);\n",
              "      border-left-color: var(--fill-color);\n",
              "    }\n",
              "    20% {\n",
              "      border-color: transparent;\n",
              "      border-left-color: var(--fill-color);\n",
              "      border-top-color: var(--fill-color);\n",
              "    }\n",
              "    30% {\n",
              "      border-color: transparent;\n",
              "      border-left-color: var(--fill-color);\n",
              "      border-top-color: var(--fill-color);\n",
              "      border-right-color: var(--fill-color);\n",
              "    }\n",
              "    40% {\n",
              "      border-color: transparent;\n",
              "      border-right-color: var(--fill-color);\n",
              "      border-top-color: var(--fill-color);\n",
              "    }\n",
              "    60% {\n",
              "      border-color: transparent;\n",
              "      border-right-color: var(--fill-color);\n",
              "    }\n",
              "    80% {\n",
              "      border-color: transparent;\n",
              "      border-right-color: var(--fill-color);\n",
              "      border-bottom-color: var(--fill-color);\n",
              "    }\n",
              "    90% {\n",
              "      border-color: transparent;\n",
              "      border-bottom-color: var(--fill-color);\n",
              "    }\n",
              "  }\n",
              "</style>\n",
              "\n",
              "  <script>\n",
              "    async function quickchart(key) {\n",
              "      const quickchartButtonEl =\n",
              "        document.querySelector('#' + key + ' button');\n",
              "      quickchartButtonEl.disabled = true;  // To prevent multiple clicks.\n",
              "      quickchartButtonEl.classList.add('colab-df-spinner');\n",
              "      try {\n",
              "        const charts = await google.colab.kernel.invokeFunction(\n",
              "            'suggestCharts', [key], {});\n",
              "      } catch (error) {\n",
              "        console.error('Error during call to suggestCharts:', error);\n",
              "      }\n",
              "      quickchartButtonEl.classList.remove('colab-df-spinner');\n",
              "      quickchartButtonEl.classList.add('colab-df-quickchart-complete');\n",
              "    }\n",
              "    (() => {\n",
              "      let quickchartButtonEl =\n",
              "        document.querySelector('#df-c90f88cf-e35f-440b-b889-3dbae7d1c107 button');\n",
              "      quickchartButtonEl.style.display =\n",
              "        google.colab.kernel.accessAllowed ? 'block' : 'none';\n",
              "    })();\n",
              "  </script>\n",
              "</div>\n",
              "    </div>\n",
              "  </div>\n"
            ]
          },
          "metadata": {},
          "execution_count": 150
        }
      ],
      "source": [
        "df_sale.sort_values(by='price').tail(10)"
      ]
    },
    {
      "cell_type": "markdown",
      "metadata": {
        "id": "aDOY16tD2Cm3"
      },
      "source": [
        "<p>We are going to remove sale values are more than 100 million</p>"
      ]
    },
    {
      "cell_type": "code",
      "execution_count": 151,
      "metadata": {
        "colab": {
          "base_uri": "https://localhost:8080/"
        },
        "id": "eQbNJIS22Cm4",
        "outputId": "44c22818-b262-41f3-8360-330f65be7d22"
      },
      "outputs": [
        {
          "output_type": "execute_result",
          "data": {
            "text/plain": [
              "(246, 17)"
            ]
          },
          "metadata": {},
          "execution_count": 151
        }
      ],
      "source": [
        "df.loc[(df['price']>100000000)].shape"
      ]
    },
    {
      "cell_type": "code",
      "execution_count": 152,
      "metadata": {
        "colab": {
          "base_uri": "https://localhost:8080/"
        },
        "id": "SlQyV89M2Cm4",
        "outputId": "3749eb24-bc83-4fc2-8d3f-dcbc3f69a194"
      },
      "outputs": [
        {
          "output_type": "execute_result",
          "data": {
            "text/plain": [
              "(4276, 17)"
            ]
          },
          "metadata": {},
          "execution_count": 152
        }
      ],
      "source": [
        "df_sale = df_sale[df_sale.price < 100000000]\n",
        "df_sale.shape"
      ]
    },
    {
      "cell_type": "code",
      "execution_count": 153,
      "metadata": {
        "colab": {
          "base_uri": "https://localhost:8080/"
        },
        "id": "uXDGdxBY2Cm4",
        "outputId": "b7c41391-4000-4eb4-8752-b1ef84e32d6f"
      },
      "outputs": [
        {
          "output_type": "execute_result",
          "data": {
            "text/plain": [
              "(4276, 17)"
            ]
          },
          "metadata": {},
          "execution_count": 153
        }
      ],
      "source": [
        "df_sale.shape"
      ]
    },
    {
      "cell_type": "code",
      "execution_count": 154,
      "metadata": {
        "colab": {
          "base_uri": "https://localhost:8080/"
        },
        "id": "scaApbW82Cm4",
        "outputId": "12317edd-ad5d-42e7-c422-f1d0917d2ea7"
      },
      "outputs": [
        {
          "output_type": "execute_result",
          "data": {
            "text/plain": [
              "(4824, 17)"
            ]
          },
          "metadata": {},
          "execution_count": 154
        }
      ],
      "source": [
        "df_rental.shape"
      ]
    },
    {
      "cell_type": "code",
      "execution_count": 155,
      "metadata": {
        "colab": {
          "base_uri": "https://localhost:8080/"
        },
        "id": "V3Riruft2Cm4",
        "outputId": "80039478-7d4d-4422-eaff-ec1f327f0849"
      },
      "outputs": [
        {
          "output_type": "execute_result",
          "data": {
            "text/plain": [
              "(9100, 17)"
            ]
          },
          "metadata": {},
          "execution_count": 155
        }
      ],
      "source": [
        "#combine two dataframes into one\n",
        "df=pd.concat([df_rental,df_sale])\n",
        "df.shape"
      ]
    },
    {
      "cell_type": "code",
      "execution_count": 156,
      "metadata": {
        "colab": {
          "base_uri": "https://localhost:8080/"
        },
        "id": "0tvzZ0EB2Cm4",
        "outputId": "d0bc4313-2e4c-4919-e825-413ab3ceaac5"
      },
      "outputs": [
        {
          "output_type": "execute_result",
          "data": {
            "text/plain": [
              "(9100, 17)"
            ]
          },
          "metadata": {},
          "execution_count": 156
        }
      ],
      "source": [
        "df.shape"
      ]
    },
    {
      "cell_type": "code",
      "execution_count": 157,
      "metadata": {
        "colab": {
          "base_uri": "https://localhost:8080/"
        },
        "id": "0cdMbFSN2Cm4",
        "outputId": "27853343-bc77-458c-97d9-f69b9c368c52"
      },
      "outputs": [
        {
          "output_type": "execute_result",
          "data": {
            "text/plain": [
              "(8504, 17)"
            ]
          },
          "metadata": {},
          "execution_count": 157
        }
      ],
      "source": [
        "df.loc[(df['sub_locality']=='Missing')].shape\n"
      ]
    },
    {
      "cell_type": "code",
      "execution_count": 158,
      "metadata": {
        "id": "21zodUMq2Cm4"
      },
      "outputs": [],
      "source": [
        "#drop the sub-locality column since more than 50% of the valus are missing\n",
        "df.drop('sub_locality', inplace=True, axis=1)"
      ]
    },
    {
      "cell_type": "code",
      "execution_count": 159,
      "metadata": {
        "colab": {
          "base_uri": "https://localhost:8080/"
        },
        "id": "WASxWWr92Cm5",
        "outputId": "cd45f4d6-c69e-4393-83aa-ea28fbe99a2e"
      },
      "outputs": [
        {
          "output_type": "execute_result",
          "data": {
            "text/plain": [
              "(4360, 16)"
            ]
          },
          "metadata": {},
          "execution_count": 159
        }
      ],
      "source": [
        "df.loc[(df['price_qualifier']=='Missing')].shape"
      ]
    },
    {
      "cell_type": "code",
      "execution_count": 160,
      "metadata": {
        "colab": {
          "base_uri": "https://localhost:8080/"
        },
        "id": "Mh9ZgI892Cm5",
        "outputId": "2de5bfa8-abc1-4926-ea2a-223e0f61ef38"
      },
      "outputs": [
        {
          "output_type": "execute_result",
          "data": {
            "text/plain": [
              "Nairobi          5379\n",
              "Kiambu           1270\n",
              "Kajiado           755\n",
              "Mombasa           734\n",
              "Machakos          281\n",
              "Kilifi            177\n",
              "Nakuru            132\n",
              "Kisumu             93\n",
              "Uasin Gishu        33\n",
              "Laikipia           26\n",
              "Embu               25\n",
              "Kwale              23\n",
              "Meru               22\n",
              "Nandi              20\n",
              "Nyeri              16\n",
              "Baringo            15\n",
              "Makueni            12\n",
              "Muranga            11\n",
              "Bungoma             9\n",
              "Kitui               8\n",
              "Kirinyaga           7\n",
              "Trans Nzoia         7\n",
              "Kericho             7\n",
              "Kisii               6\n",
              "Isiolo              5\n",
              "Kakamega            5\n",
              "Bomet               3\n",
              "Busia               3\n",
              "Nyandarua           3\n",
              "Homa Bay            2\n",
              "Lamu                2\n",
              "Tharaka-Nithi       1\n",
              "Garissa             1\n",
              "Marsabit            1\n",
              "Samburu             1\n",
              "Vihiga              1\n",
              "Migori              1\n",
              "Narok               1\n",
              "Turkana             1\n",
              "West Pokot          1\n",
              "Name: state, dtype: int64"
            ]
          },
          "metadata": {},
          "execution_count": 160
        }
      ],
      "source": [
        "df.state.value_counts()"
      ]
    },
    {
      "cell_type": "code",
      "execution_count": 161,
      "metadata": {
        "colab": {
          "base_uri": "https://localhost:8080/"
        },
        "id": "lDYC42vN2Cm5",
        "outputId": "e2951f82-3ba6-4ce7-e433-5f63a0f3ddd9"
      },
      "outputs": [
        {
          "output_type": "execute_result",
          "data": {
            "text/plain": [
              "(962, 16)"
            ]
          },
          "metadata": {},
          "execution_count": 161
        }
      ],
      "source": [
        "df.loc[(df['state']!='Nairobi')&(df['state']!='Kiambu')&(df['state']!='Kajiado')&(df['state']!='Mombasa')].shape"
      ]
    },
    {
      "cell_type": "code",
      "execution_count": 162,
      "metadata": {
        "colab": {
          "base_uri": "https://localhost:8080/"
        },
        "id": "RWl0qcDR2Cm5",
        "outputId": "271c57f0-def1-424b-a99f-aa84d085a039"
      },
      "outputs": [
        {
          "output_type": "execute_result",
          "data": {
            "text/plain": [
              "(8138, 16)"
            ]
          },
          "metadata": {},
          "execution_count": 162
        }
      ],
      "source": [
        "#remove properties in states that have less than 500 in rental properties\n",
        "df=df.loc[(df['state']=='Nairobi')|(df['state']=='Kiambu')|(df['state']=='Kajiado')|(df['state']=='Mombasa')]\n",
        "df.shape"
      ]
    },
    {
      "cell_type": "code",
      "execution_count": 163,
      "metadata": {
        "colab": {
          "base_uri": "https://localhost:8080/"
        },
        "id": "9D1rPRx52Cm5",
        "outputId": "a8b763a7-0222-458f-d6d9-f43819e89ae2"
      },
      "outputs": [
        {
          "output_type": "execute_result",
          "data": {
            "text/plain": [
              "(6930, 16)"
            ]
          },
          "metadata": {},
          "execution_count": 163
        }
      ],
      "source": [
        "df=df[df.groupby('locality').locality.transform('count')>=75]\n",
        "df.shape"
      ]
    },
    {
      "cell_type": "markdown",
      "metadata": {
        "id": "WgIxxMQw2Cm5"
      },
      "source": [
        "<h2>Changing colummns to the correct data type</h2>"
      ]
    },
    {
      "cell_type": "code",
      "execution_count": 164,
      "metadata": {
        "id": "XKeVcqIR2Cm5"
      },
      "outputs": [],
      "source": [
        "#convert data type listdate to date\n",
        "df['listdate']= pd.to_datetime(df['listdate'])"
      ]
    },
    {
      "cell_type": "code",
      "execution_count": 165,
      "metadata": {
        "id": "U8Ox9l_E2Cm6"
      },
      "outputs": [],
      "source": [
        "df.drop('price_qualifier', inplace=True, axis=1)"
      ]
    },
    {
      "cell_type": "code",
      "execution_count": 166,
      "metadata": {
        "colab": {
          "base_uri": "https://localhost:8080/",
          "height": 313
        },
        "id": "5os1c0J_2Cm6",
        "outputId": "f58b3856-37d8-4ef1-af76-1846783ace18"
      },
      "outputs": [
        {
          "output_type": "execute_result",
          "data": {
            "text/plain": [
              "    id     price  bedrooms  bathrooms  toilets  furnished  serviced  shared  \\\n",
              "6    7  200000.0         5          5      5.0          0         0       0   \n",
              "7    8  100000.0         3          3      3.0          0         0       0   \n",
              "9   10  120000.0         3          3      3.0          0         0       0   \n",
              "10  11  180000.0         2          2      2.0          1         0       0   \n",
              "12  13  270000.0         4          4      4.0          0         0       0   \n",
              "\n",
              "    parking  category       type   sub_type    state         locality  \\\n",
              "6         0  For Rent      House  Townhouse  Nairobi  Nairobi Central   \n",
              "7         0  For Rent  Apartment    Missing  Nairobi        Parklands   \n",
              "9         0  For Rent  Apartment    Missing  Nairobi        Lavington   \n",
              "10        0  For Rent  Apartment    Missing  Nairobi        Westlands   \n",
              "12        0  For Rent      House  Townhouse  Nairobi        Lavington   \n",
              "\n",
              "     listdate  \n",
              "6  2021-07-18  \n",
              "7  2021-07-18  \n",
              "9  2021-07-18  \n",
              "10 2021-07-18  \n",
              "12 2021-07-18  "
            ],
            "text/html": [
              "\n",
              "  <div id=\"df-dd5ce8c6-71eb-4dd3-ac35-c8bb9578a513\" class=\"colab-df-container\">\n",
              "    <div>\n",
              "<style scoped>\n",
              "    .dataframe tbody tr th:only-of-type {\n",
              "        vertical-align: middle;\n",
              "    }\n",
              "\n",
              "    .dataframe tbody tr th {\n",
              "        vertical-align: top;\n",
              "    }\n",
              "\n",
              "    .dataframe thead th {\n",
              "        text-align: right;\n",
              "    }\n",
              "</style>\n",
              "<table border=\"1\" class=\"dataframe\">\n",
              "  <thead>\n",
              "    <tr style=\"text-align: right;\">\n",
              "      <th></th>\n",
              "      <th>id</th>\n",
              "      <th>price</th>\n",
              "      <th>bedrooms</th>\n",
              "      <th>bathrooms</th>\n",
              "      <th>toilets</th>\n",
              "      <th>furnished</th>\n",
              "      <th>serviced</th>\n",
              "      <th>shared</th>\n",
              "      <th>parking</th>\n",
              "      <th>category</th>\n",
              "      <th>type</th>\n",
              "      <th>sub_type</th>\n",
              "      <th>state</th>\n",
              "      <th>locality</th>\n",
              "      <th>listdate</th>\n",
              "    </tr>\n",
              "  </thead>\n",
              "  <tbody>\n",
              "    <tr>\n",
              "      <th>6</th>\n",
              "      <td>7</td>\n",
              "      <td>200000.0</td>\n",
              "      <td>5</td>\n",
              "      <td>5</td>\n",
              "      <td>5.0</td>\n",
              "      <td>0</td>\n",
              "      <td>0</td>\n",
              "      <td>0</td>\n",
              "      <td>0</td>\n",
              "      <td>For Rent</td>\n",
              "      <td>House</td>\n",
              "      <td>Townhouse</td>\n",
              "      <td>Nairobi</td>\n",
              "      <td>Nairobi Central</td>\n",
              "      <td>2021-07-18</td>\n",
              "    </tr>\n",
              "    <tr>\n",
              "      <th>7</th>\n",
              "      <td>8</td>\n",
              "      <td>100000.0</td>\n",
              "      <td>3</td>\n",
              "      <td>3</td>\n",
              "      <td>3.0</td>\n",
              "      <td>0</td>\n",
              "      <td>0</td>\n",
              "      <td>0</td>\n",
              "      <td>0</td>\n",
              "      <td>For Rent</td>\n",
              "      <td>Apartment</td>\n",
              "      <td>Missing</td>\n",
              "      <td>Nairobi</td>\n",
              "      <td>Parklands</td>\n",
              "      <td>2021-07-18</td>\n",
              "    </tr>\n",
              "    <tr>\n",
              "      <th>9</th>\n",
              "      <td>10</td>\n",
              "      <td>120000.0</td>\n",
              "      <td>3</td>\n",
              "      <td>3</td>\n",
              "      <td>3.0</td>\n",
              "      <td>0</td>\n",
              "      <td>0</td>\n",
              "      <td>0</td>\n",
              "      <td>0</td>\n",
              "      <td>For Rent</td>\n",
              "      <td>Apartment</td>\n",
              "      <td>Missing</td>\n",
              "      <td>Nairobi</td>\n",
              "      <td>Lavington</td>\n",
              "      <td>2021-07-18</td>\n",
              "    </tr>\n",
              "    <tr>\n",
              "      <th>10</th>\n",
              "      <td>11</td>\n",
              "      <td>180000.0</td>\n",
              "      <td>2</td>\n",
              "      <td>2</td>\n",
              "      <td>2.0</td>\n",
              "      <td>1</td>\n",
              "      <td>0</td>\n",
              "      <td>0</td>\n",
              "      <td>0</td>\n",
              "      <td>For Rent</td>\n",
              "      <td>Apartment</td>\n",
              "      <td>Missing</td>\n",
              "      <td>Nairobi</td>\n",
              "      <td>Westlands</td>\n",
              "      <td>2021-07-18</td>\n",
              "    </tr>\n",
              "    <tr>\n",
              "      <th>12</th>\n",
              "      <td>13</td>\n",
              "      <td>270000.0</td>\n",
              "      <td>4</td>\n",
              "      <td>4</td>\n",
              "      <td>4.0</td>\n",
              "      <td>0</td>\n",
              "      <td>0</td>\n",
              "      <td>0</td>\n",
              "      <td>0</td>\n",
              "      <td>For Rent</td>\n",
              "      <td>House</td>\n",
              "      <td>Townhouse</td>\n",
              "      <td>Nairobi</td>\n",
              "      <td>Lavington</td>\n",
              "      <td>2021-07-18</td>\n",
              "    </tr>\n",
              "  </tbody>\n",
              "</table>\n",
              "</div>\n",
              "    <div class=\"colab-df-buttons\">\n",
              "\n",
              "  <div class=\"colab-df-container\">\n",
              "    <button class=\"colab-df-convert\" onclick=\"convertToInteractive('df-dd5ce8c6-71eb-4dd3-ac35-c8bb9578a513')\"\n",
              "            title=\"Convert this dataframe to an interactive table.\"\n",
              "            style=\"display:none;\">\n",
              "\n",
              "  <svg xmlns=\"http://www.w3.org/2000/svg\" height=\"24px\" viewBox=\"0 -960 960 960\">\n",
              "    <path d=\"M120-120v-720h720v720H120Zm60-500h600v-160H180v160Zm220 220h160v-160H400v160Zm0 220h160v-160H400v160ZM180-400h160v-160H180v160Zm440 0h160v-160H620v160ZM180-180h160v-160H180v160Zm440 0h160v-160H620v160Z\"/>\n",
              "  </svg>\n",
              "    </button>\n",
              "\n",
              "  <style>\n",
              "    .colab-df-container {\n",
              "      display:flex;\n",
              "      gap: 12px;\n",
              "    }\n",
              "\n",
              "    .colab-df-convert {\n",
              "      background-color: #E8F0FE;\n",
              "      border: none;\n",
              "      border-radius: 50%;\n",
              "      cursor: pointer;\n",
              "      display: none;\n",
              "      fill: #1967D2;\n",
              "      height: 32px;\n",
              "      padding: 0 0 0 0;\n",
              "      width: 32px;\n",
              "    }\n",
              "\n",
              "    .colab-df-convert:hover {\n",
              "      background-color: #E2EBFA;\n",
              "      box-shadow: 0px 1px 2px rgba(60, 64, 67, 0.3), 0px 1px 3px 1px rgba(60, 64, 67, 0.15);\n",
              "      fill: #174EA6;\n",
              "    }\n",
              "\n",
              "    .colab-df-buttons div {\n",
              "      margin-bottom: 4px;\n",
              "    }\n",
              "\n",
              "    [theme=dark] .colab-df-convert {\n",
              "      background-color: #3B4455;\n",
              "      fill: #D2E3FC;\n",
              "    }\n",
              "\n",
              "    [theme=dark] .colab-df-convert:hover {\n",
              "      background-color: #434B5C;\n",
              "      box-shadow: 0px 1px 3px 1px rgba(0, 0, 0, 0.15);\n",
              "      filter: drop-shadow(0px 1px 2px rgba(0, 0, 0, 0.3));\n",
              "      fill: #FFFFFF;\n",
              "    }\n",
              "  </style>\n",
              "\n",
              "    <script>\n",
              "      const buttonEl =\n",
              "        document.querySelector('#df-dd5ce8c6-71eb-4dd3-ac35-c8bb9578a513 button.colab-df-convert');\n",
              "      buttonEl.style.display =\n",
              "        google.colab.kernel.accessAllowed ? 'block' : 'none';\n",
              "\n",
              "      async function convertToInteractive(key) {\n",
              "        const element = document.querySelector('#df-dd5ce8c6-71eb-4dd3-ac35-c8bb9578a513');\n",
              "        const dataTable =\n",
              "          await google.colab.kernel.invokeFunction('convertToInteractive',\n",
              "                                                    [key], {});\n",
              "        if (!dataTable) return;\n",
              "\n",
              "        const docLinkHtml = 'Like what you see? Visit the ' +\n",
              "          '<a target=\"_blank\" href=https://colab.research.google.com/notebooks/data_table.ipynb>data table notebook</a>'\n",
              "          + ' to learn more about interactive tables.';\n",
              "        element.innerHTML = '';\n",
              "        dataTable['output_type'] = 'display_data';\n",
              "        await google.colab.output.renderOutput(dataTable, element);\n",
              "        const docLink = document.createElement('div');\n",
              "        docLink.innerHTML = docLinkHtml;\n",
              "        element.appendChild(docLink);\n",
              "      }\n",
              "    </script>\n",
              "  </div>\n",
              "\n",
              "\n",
              "<div id=\"df-3b55d28a-879c-4b8f-a9f8-f1564d5e041c\">\n",
              "  <button class=\"colab-df-quickchart\" onclick=\"quickchart('df-3b55d28a-879c-4b8f-a9f8-f1564d5e041c')\"\n",
              "            title=\"Suggest charts.\"\n",
              "            style=\"display:none;\">\n",
              "\n",
              "<svg xmlns=\"http://www.w3.org/2000/svg\" height=\"24px\"viewBox=\"0 0 24 24\"\n",
              "     width=\"24px\">\n",
              "    <g>\n",
              "        <path d=\"M19 3H5c-1.1 0-2 .9-2 2v14c0 1.1.9 2 2 2h14c1.1 0 2-.9 2-2V5c0-1.1-.9-2-2-2zM9 17H7v-7h2v7zm4 0h-2V7h2v10zm4 0h-2v-4h2v4z\"/>\n",
              "    </g>\n",
              "</svg>\n",
              "  </button>\n",
              "\n",
              "<style>\n",
              "  .colab-df-quickchart {\n",
              "      --bg-color: #E8F0FE;\n",
              "      --fill-color: #1967D2;\n",
              "      --hover-bg-color: #E2EBFA;\n",
              "      --hover-fill-color: #174EA6;\n",
              "      --disabled-fill-color: #AAA;\n",
              "      --disabled-bg-color: #DDD;\n",
              "  }\n",
              "\n",
              "  [theme=dark] .colab-df-quickchart {\n",
              "      --bg-color: #3B4455;\n",
              "      --fill-color: #D2E3FC;\n",
              "      --hover-bg-color: #434B5C;\n",
              "      --hover-fill-color: #FFFFFF;\n",
              "      --disabled-bg-color: #3B4455;\n",
              "      --disabled-fill-color: #666;\n",
              "  }\n",
              "\n",
              "  .colab-df-quickchart {\n",
              "    background-color: var(--bg-color);\n",
              "    border: none;\n",
              "    border-radius: 50%;\n",
              "    cursor: pointer;\n",
              "    display: none;\n",
              "    fill: var(--fill-color);\n",
              "    height: 32px;\n",
              "    padding: 0;\n",
              "    width: 32px;\n",
              "  }\n",
              "\n",
              "  .colab-df-quickchart:hover {\n",
              "    background-color: var(--hover-bg-color);\n",
              "    box-shadow: 0 1px 2px rgba(60, 64, 67, 0.3), 0 1px 3px 1px rgba(60, 64, 67, 0.15);\n",
              "    fill: var(--button-hover-fill-color);\n",
              "  }\n",
              "\n",
              "  .colab-df-quickchart-complete:disabled,\n",
              "  .colab-df-quickchart-complete:disabled:hover {\n",
              "    background-color: var(--disabled-bg-color);\n",
              "    fill: var(--disabled-fill-color);\n",
              "    box-shadow: none;\n",
              "  }\n",
              "\n",
              "  .colab-df-spinner {\n",
              "    border: 2px solid var(--fill-color);\n",
              "    border-color: transparent;\n",
              "    border-bottom-color: var(--fill-color);\n",
              "    animation:\n",
              "      spin 1s steps(1) infinite;\n",
              "  }\n",
              "\n",
              "  @keyframes spin {\n",
              "    0% {\n",
              "      border-color: transparent;\n",
              "      border-bottom-color: var(--fill-color);\n",
              "      border-left-color: var(--fill-color);\n",
              "    }\n",
              "    20% {\n",
              "      border-color: transparent;\n",
              "      border-left-color: var(--fill-color);\n",
              "      border-top-color: var(--fill-color);\n",
              "    }\n",
              "    30% {\n",
              "      border-color: transparent;\n",
              "      border-left-color: var(--fill-color);\n",
              "      border-top-color: var(--fill-color);\n",
              "      border-right-color: var(--fill-color);\n",
              "    }\n",
              "    40% {\n",
              "      border-color: transparent;\n",
              "      border-right-color: var(--fill-color);\n",
              "      border-top-color: var(--fill-color);\n",
              "    }\n",
              "    60% {\n",
              "      border-color: transparent;\n",
              "      border-right-color: var(--fill-color);\n",
              "    }\n",
              "    80% {\n",
              "      border-color: transparent;\n",
              "      border-right-color: var(--fill-color);\n",
              "      border-bottom-color: var(--fill-color);\n",
              "    }\n",
              "    90% {\n",
              "      border-color: transparent;\n",
              "      border-bottom-color: var(--fill-color);\n",
              "    }\n",
              "  }\n",
              "</style>\n",
              "\n",
              "  <script>\n",
              "    async function quickchart(key) {\n",
              "      const quickchartButtonEl =\n",
              "        document.querySelector('#' + key + ' button');\n",
              "      quickchartButtonEl.disabled = true;  // To prevent multiple clicks.\n",
              "      quickchartButtonEl.classList.add('colab-df-spinner');\n",
              "      try {\n",
              "        const charts = await google.colab.kernel.invokeFunction(\n",
              "            'suggestCharts', [key], {});\n",
              "      } catch (error) {\n",
              "        console.error('Error during call to suggestCharts:', error);\n",
              "      }\n",
              "      quickchartButtonEl.classList.remove('colab-df-spinner');\n",
              "      quickchartButtonEl.classList.add('colab-df-quickchart-complete');\n",
              "    }\n",
              "    (() => {\n",
              "      let quickchartButtonEl =\n",
              "        document.querySelector('#df-3b55d28a-879c-4b8f-a9f8-f1564d5e041c button');\n",
              "      quickchartButtonEl.style.display =\n",
              "        google.colab.kernel.accessAllowed ? 'block' : 'none';\n",
              "    })();\n",
              "  </script>\n",
              "</div>\n",
              "    </div>\n",
              "  </div>\n"
            ]
          },
          "metadata": {},
          "execution_count": 166
        }
      ],
      "source": [
        "df.head()"
      ]
    },
    {
      "cell_type": "code",
      "execution_count": 167,
      "metadata": {
        "colab": {
          "base_uri": "https://localhost:8080/",
          "height": 399
        },
        "id": "JXw0eK3_2Cm6",
        "outputId": "e53e5ae5-03f1-4fef-847c-f6c691b48a00"
      },
      "outputs": [
        {
          "output_type": "execute_result",
          "data": {
            "text/plain": [
              "          id       price  bedrooms  bathrooms  toilets  furnished  serviced  \\\n",
              "16099  16107  26000000.0         3          4      0.0          0         0   \n",
              "16103  16111   6450000.0         1          1      1.0          0         0   \n",
              "16104  16112  10650000.0         2          2      2.0          0         0   \n",
              "16108  16116   5800000.0         4          4      4.0          0         0   \n",
              "16115  16123   6000000.0         3          3      3.0          0         0   \n",
              "\n",
              "       shared  parking  category       type           sub_type    state  \\\n",
              "16099       0        0  For Sale  Apartment            Missing  Nairobi   \n",
              "16103       0        0  For Sale  Apartment            Missing  Nairobi   \n",
              "16104       0        0  For Sale  Apartment            Missing  Nairobi   \n",
              "16108       0        4  For Sale      House  Detached Bungalow  Kajiado   \n",
              "16115       0        4  For Sale      House  Detached Bungalow  Kajiado   \n",
              "\n",
              "            locality            listdate  \n",
              "16099     Kileleshwa 2023-06-16 11:55:00  \n",
              "16103      Westlands 2023-06-16 12:21:00  \n",
              "16104      Westlands 2023-06-16 12:23:00  \n",
              "16108  Ongata Rongai 2023-06-16 13:08:00  \n",
              "16115      Kitengela 2023-06-16 14:54:00  "
            ],
            "text/html": [
              "\n",
              "  <div id=\"df-b8de73b3-05a2-4069-b92e-8c86b17e098d\" class=\"colab-df-container\">\n",
              "    <div>\n",
              "<style scoped>\n",
              "    .dataframe tbody tr th:only-of-type {\n",
              "        vertical-align: middle;\n",
              "    }\n",
              "\n",
              "    .dataframe tbody tr th {\n",
              "        vertical-align: top;\n",
              "    }\n",
              "\n",
              "    .dataframe thead th {\n",
              "        text-align: right;\n",
              "    }\n",
              "</style>\n",
              "<table border=\"1\" class=\"dataframe\">\n",
              "  <thead>\n",
              "    <tr style=\"text-align: right;\">\n",
              "      <th></th>\n",
              "      <th>id</th>\n",
              "      <th>price</th>\n",
              "      <th>bedrooms</th>\n",
              "      <th>bathrooms</th>\n",
              "      <th>toilets</th>\n",
              "      <th>furnished</th>\n",
              "      <th>serviced</th>\n",
              "      <th>shared</th>\n",
              "      <th>parking</th>\n",
              "      <th>category</th>\n",
              "      <th>type</th>\n",
              "      <th>sub_type</th>\n",
              "      <th>state</th>\n",
              "      <th>locality</th>\n",
              "      <th>listdate</th>\n",
              "    </tr>\n",
              "  </thead>\n",
              "  <tbody>\n",
              "    <tr>\n",
              "      <th>16099</th>\n",
              "      <td>16107</td>\n",
              "      <td>26000000.0</td>\n",
              "      <td>3</td>\n",
              "      <td>4</td>\n",
              "      <td>0.0</td>\n",
              "      <td>0</td>\n",
              "      <td>0</td>\n",
              "      <td>0</td>\n",
              "      <td>0</td>\n",
              "      <td>For Sale</td>\n",
              "      <td>Apartment</td>\n",
              "      <td>Missing</td>\n",
              "      <td>Nairobi</td>\n",
              "      <td>Kileleshwa</td>\n",
              "      <td>2023-06-16 11:55:00</td>\n",
              "    </tr>\n",
              "    <tr>\n",
              "      <th>16103</th>\n",
              "      <td>16111</td>\n",
              "      <td>6450000.0</td>\n",
              "      <td>1</td>\n",
              "      <td>1</td>\n",
              "      <td>1.0</td>\n",
              "      <td>0</td>\n",
              "      <td>0</td>\n",
              "      <td>0</td>\n",
              "      <td>0</td>\n",
              "      <td>For Sale</td>\n",
              "      <td>Apartment</td>\n",
              "      <td>Missing</td>\n",
              "      <td>Nairobi</td>\n",
              "      <td>Westlands</td>\n",
              "      <td>2023-06-16 12:21:00</td>\n",
              "    </tr>\n",
              "    <tr>\n",
              "      <th>16104</th>\n",
              "      <td>16112</td>\n",
              "      <td>10650000.0</td>\n",
              "      <td>2</td>\n",
              "      <td>2</td>\n",
              "      <td>2.0</td>\n",
              "      <td>0</td>\n",
              "      <td>0</td>\n",
              "      <td>0</td>\n",
              "      <td>0</td>\n",
              "      <td>For Sale</td>\n",
              "      <td>Apartment</td>\n",
              "      <td>Missing</td>\n",
              "      <td>Nairobi</td>\n",
              "      <td>Westlands</td>\n",
              "      <td>2023-06-16 12:23:00</td>\n",
              "    </tr>\n",
              "    <tr>\n",
              "      <th>16108</th>\n",
              "      <td>16116</td>\n",
              "      <td>5800000.0</td>\n",
              "      <td>4</td>\n",
              "      <td>4</td>\n",
              "      <td>4.0</td>\n",
              "      <td>0</td>\n",
              "      <td>0</td>\n",
              "      <td>0</td>\n",
              "      <td>4</td>\n",
              "      <td>For Sale</td>\n",
              "      <td>House</td>\n",
              "      <td>Detached Bungalow</td>\n",
              "      <td>Kajiado</td>\n",
              "      <td>Ongata Rongai</td>\n",
              "      <td>2023-06-16 13:08:00</td>\n",
              "    </tr>\n",
              "    <tr>\n",
              "      <th>16115</th>\n",
              "      <td>16123</td>\n",
              "      <td>6000000.0</td>\n",
              "      <td>3</td>\n",
              "      <td>3</td>\n",
              "      <td>3.0</td>\n",
              "      <td>0</td>\n",
              "      <td>0</td>\n",
              "      <td>0</td>\n",
              "      <td>4</td>\n",
              "      <td>For Sale</td>\n",
              "      <td>House</td>\n",
              "      <td>Detached Bungalow</td>\n",
              "      <td>Kajiado</td>\n",
              "      <td>Kitengela</td>\n",
              "      <td>2023-06-16 14:54:00</td>\n",
              "    </tr>\n",
              "  </tbody>\n",
              "</table>\n",
              "</div>\n",
              "    <div class=\"colab-df-buttons\">\n",
              "\n",
              "  <div class=\"colab-df-container\">\n",
              "    <button class=\"colab-df-convert\" onclick=\"convertToInteractive('df-b8de73b3-05a2-4069-b92e-8c86b17e098d')\"\n",
              "            title=\"Convert this dataframe to an interactive table.\"\n",
              "            style=\"display:none;\">\n",
              "\n",
              "  <svg xmlns=\"http://www.w3.org/2000/svg\" height=\"24px\" viewBox=\"0 -960 960 960\">\n",
              "    <path d=\"M120-120v-720h720v720H120Zm60-500h600v-160H180v160Zm220 220h160v-160H400v160Zm0 220h160v-160H400v160ZM180-400h160v-160H180v160Zm440 0h160v-160H620v160ZM180-180h160v-160H180v160Zm440 0h160v-160H620v160Z\"/>\n",
              "  </svg>\n",
              "    </button>\n",
              "\n",
              "  <style>\n",
              "    .colab-df-container {\n",
              "      display:flex;\n",
              "      gap: 12px;\n",
              "    }\n",
              "\n",
              "    .colab-df-convert {\n",
              "      background-color: #E8F0FE;\n",
              "      border: none;\n",
              "      border-radius: 50%;\n",
              "      cursor: pointer;\n",
              "      display: none;\n",
              "      fill: #1967D2;\n",
              "      height: 32px;\n",
              "      padding: 0 0 0 0;\n",
              "      width: 32px;\n",
              "    }\n",
              "\n",
              "    .colab-df-convert:hover {\n",
              "      background-color: #E2EBFA;\n",
              "      box-shadow: 0px 1px 2px rgba(60, 64, 67, 0.3), 0px 1px 3px 1px rgba(60, 64, 67, 0.15);\n",
              "      fill: #174EA6;\n",
              "    }\n",
              "\n",
              "    .colab-df-buttons div {\n",
              "      margin-bottom: 4px;\n",
              "    }\n",
              "\n",
              "    [theme=dark] .colab-df-convert {\n",
              "      background-color: #3B4455;\n",
              "      fill: #D2E3FC;\n",
              "    }\n",
              "\n",
              "    [theme=dark] .colab-df-convert:hover {\n",
              "      background-color: #434B5C;\n",
              "      box-shadow: 0px 1px 3px 1px rgba(0, 0, 0, 0.15);\n",
              "      filter: drop-shadow(0px 1px 2px rgba(0, 0, 0, 0.3));\n",
              "      fill: #FFFFFF;\n",
              "    }\n",
              "  </style>\n",
              "\n",
              "    <script>\n",
              "      const buttonEl =\n",
              "        document.querySelector('#df-b8de73b3-05a2-4069-b92e-8c86b17e098d button.colab-df-convert');\n",
              "      buttonEl.style.display =\n",
              "        google.colab.kernel.accessAllowed ? 'block' : 'none';\n",
              "\n",
              "      async function convertToInteractive(key) {\n",
              "        const element = document.querySelector('#df-b8de73b3-05a2-4069-b92e-8c86b17e098d');\n",
              "        const dataTable =\n",
              "          await google.colab.kernel.invokeFunction('convertToInteractive',\n",
              "                                                    [key], {});\n",
              "        if (!dataTable) return;\n",
              "\n",
              "        const docLinkHtml = 'Like what you see? Visit the ' +\n",
              "          '<a target=\"_blank\" href=https://colab.research.google.com/notebooks/data_table.ipynb>data table notebook</a>'\n",
              "          + ' to learn more about interactive tables.';\n",
              "        element.innerHTML = '';\n",
              "        dataTable['output_type'] = 'display_data';\n",
              "        await google.colab.output.renderOutput(dataTable, element);\n",
              "        const docLink = document.createElement('div');\n",
              "        docLink.innerHTML = docLinkHtml;\n",
              "        element.appendChild(docLink);\n",
              "      }\n",
              "    </script>\n",
              "  </div>\n",
              "\n",
              "\n",
              "<div id=\"df-4b091323-a156-4f73-ad08-542e87f5ed25\">\n",
              "  <button class=\"colab-df-quickchart\" onclick=\"quickchart('df-4b091323-a156-4f73-ad08-542e87f5ed25')\"\n",
              "            title=\"Suggest charts.\"\n",
              "            style=\"display:none;\">\n",
              "\n",
              "<svg xmlns=\"http://www.w3.org/2000/svg\" height=\"24px\"viewBox=\"0 0 24 24\"\n",
              "     width=\"24px\">\n",
              "    <g>\n",
              "        <path d=\"M19 3H5c-1.1 0-2 .9-2 2v14c0 1.1.9 2 2 2h14c1.1 0 2-.9 2-2V5c0-1.1-.9-2-2-2zM9 17H7v-7h2v7zm4 0h-2V7h2v10zm4 0h-2v-4h2v4z\"/>\n",
              "    </g>\n",
              "</svg>\n",
              "  </button>\n",
              "\n",
              "<style>\n",
              "  .colab-df-quickchart {\n",
              "      --bg-color: #E8F0FE;\n",
              "      --fill-color: #1967D2;\n",
              "      --hover-bg-color: #E2EBFA;\n",
              "      --hover-fill-color: #174EA6;\n",
              "      --disabled-fill-color: #AAA;\n",
              "      --disabled-bg-color: #DDD;\n",
              "  }\n",
              "\n",
              "  [theme=dark] .colab-df-quickchart {\n",
              "      --bg-color: #3B4455;\n",
              "      --fill-color: #D2E3FC;\n",
              "      --hover-bg-color: #434B5C;\n",
              "      --hover-fill-color: #FFFFFF;\n",
              "      --disabled-bg-color: #3B4455;\n",
              "      --disabled-fill-color: #666;\n",
              "  }\n",
              "\n",
              "  .colab-df-quickchart {\n",
              "    background-color: var(--bg-color);\n",
              "    border: none;\n",
              "    border-radius: 50%;\n",
              "    cursor: pointer;\n",
              "    display: none;\n",
              "    fill: var(--fill-color);\n",
              "    height: 32px;\n",
              "    padding: 0;\n",
              "    width: 32px;\n",
              "  }\n",
              "\n",
              "  .colab-df-quickchart:hover {\n",
              "    background-color: var(--hover-bg-color);\n",
              "    box-shadow: 0 1px 2px rgba(60, 64, 67, 0.3), 0 1px 3px 1px rgba(60, 64, 67, 0.15);\n",
              "    fill: var(--button-hover-fill-color);\n",
              "  }\n",
              "\n",
              "  .colab-df-quickchart-complete:disabled,\n",
              "  .colab-df-quickchart-complete:disabled:hover {\n",
              "    background-color: var(--disabled-bg-color);\n",
              "    fill: var(--disabled-fill-color);\n",
              "    box-shadow: none;\n",
              "  }\n",
              "\n",
              "  .colab-df-spinner {\n",
              "    border: 2px solid var(--fill-color);\n",
              "    border-color: transparent;\n",
              "    border-bottom-color: var(--fill-color);\n",
              "    animation:\n",
              "      spin 1s steps(1) infinite;\n",
              "  }\n",
              "\n",
              "  @keyframes spin {\n",
              "    0% {\n",
              "      border-color: transparent;\n",
              "      border-bottom-color: var(--fill-color);\n",
              "      border-left-color: var(--fill-color);\n",
              "    }\n",
              "    20% {\n",
              "      border-color: transparent;\n",
              "      border-left-color: var(--fill-color);\n",
              "      border-top-color: var(--fill-color);\n",
              "    }\n",
              "    30% {\n",
              "      border-color: transparent;\n",
              "      border-left-color: var(--fill-color);\n",
              "      border-top-color: var(--fill-color);\n",
              "      border-right-color: var(--fill-color);\n",
              "    }\n",
              "    40% {\n",
              "      border-color: transparent;\n",
              "      border-right-color: var(--fill-color);\n",
              "      border-top-color: var(--fill-color);\n",
              "    }\n",
              "    60% {\n",
              "      border-color: transparent;\n",
              "      border-right-color: var(--fill-color);\n",
              "    }\n",
              "    80% {\n",
              "      border-color: transparent;\n",
              "      border-right-color: var(--fill-color);\n",
              "      border-bottom-color: var(--fill-color);\n",
              "    }\n",
              "    90% {\n",
              "      border-color: transparent;\n",
              "      border-bottom-color: var(--fill-color);\n",
              "    }\n",
              "  }\n",
              "</style>\n",
              "\n",
              "  <script>\n",
              "    async function quickchart(key) {\n",
              "      const quickchartButtonEl =\n",
              "        document.querySelector('#' + key + ' button');\n",
              "      quickchartButtonEl.disabled = true;  // To prevent multiple clicks.\n",
              "      quickchartButtonEl.classList.add('colab-df-spinner');\n",
              "      try {\n",
              "        const charts = await google.colab.kernel.invokeFunction(\n",
              "            'suggestCharts', [key], {});\n",
              "      } catch (error) {\n",
              "        console.error('Error during call to suggestCharts:', error);\n",
              "      }\n",
              "      quickchartButtonEl.classList.remove('colab-df-spinner');\n",
              "      quickchartButtonEl.classList.add('colab-df-quickchart-complete');\n",
              "    }\n",
              "    (() => {\n",
              "      let quickchartButtonEl =\n",
              "        document.querySelector('#df-4b091323-a156-4f73-ad08-542e87f5ed25 button');\n",
              "      quickchartButtonEl.style.display =\n",
              "        google.colab.kernel.accessAllowed ? 'block' : 'none';\n",
              "    })();\n",
              "  </script>\n",
              "</div>\n",
              "    </div>\n",
              "  </div>\n"
            ]
          },
          "metadata": {},
          "execution_count": 167
        }
      ],
      "source": [
        "df.tail()"
      ]
    },
    {
      "cell_type": "code",
      "execution_count": 168,
      "metadata": {
        "id": "zMkZkmWd2Cm6"
      },
      "outputs": [],
      "source": [
        "# Save cleaned dataframe to new file\n",
        "df.to_csv('cleaned_listings.csv', index=None)"
      ]
    }
  ],
  "metadata": {
    "kernelspec": {
      "display_name": "Python 3 (ipykernel)",
      "language": "python",
      "name": "python3"
    },
    "language_info": {
      "codemirror_mode": {
        "name": "ipython",
        "version": 3
      },
      "file_extension": ".py",
      "mimetype": "text/x-python",
      "name": "python",
      "nbconvert_exporter": "python",
      "pygments_lexer": "ipython3",
      "version": "3.9.13"
    },
    "colab": {
      "provenance": []
    }
  },
  "nbformat": 4,
  "nbformat_minor": 0
}